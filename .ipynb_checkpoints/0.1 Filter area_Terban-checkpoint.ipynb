{
 "cells": [
  {
   "cell_type": "code",
   "execution_count": 3,
   "metadata": {},
   "outputs": [],
   "source": [
    "import pandas as pd\n",
    "import geopandas as gpd\n",
    "from geopandas import GeoDataFrame\n",
    "import skmob"
   ]
  },
  {
   "cell_type": "markdown",
   "metadata": {},
   "source": [
    "## Reading the DataFrame"
   ]
  },
  {
   "cell_type": "markdown",
   "metadata": {},
   "source": [
    "### Data original"
   ]
  },
  {
   "cell_type": "code",
   "execution_count": null,
   "metadata": {},
   "outputs": [
    {
     "name": "stderr",
     "output_type": "stream",
     "text": [
      "/tmp/ipykernel_3828/2349169461.py:2: DtypeWarning: Columns (2,3,4) have mixed types. Specify dtype option on import or set low_memory=False.\n",
      "  df = pd.read_csv(path)\n"
     ]
    },
    {
     "data": {
      "text/html": [
       "<div>\n",
       "<style scoped>\n",
       "    .dataframe tbody tr th:only-of-type {\n",
       "        vertical-align: middle;\n",
       "    }\n",
       "\n",
       "    .dataframe tbody tr th {\n",
       "        vertical-align: top;\n",
       "    }\n",
       "\n",
       "    .dataframe thead th {\n",
       "        text-align: right;\n",
       "    }\n",
       "</style>\n",
       "<table border=\"1\" class=\"dataframe\">\n",
       "  <thead>\n",
       "    <tr style=\"text-align: right;\">\n",
       "      <th></th>\n",
       "      <th>maid</th>\n",
       "      <th>latitude</th>\n",
       "      <th>longitude</th>\n",
       "      <th>timestamp</th>\n",
       "    </tr>\n",
       "  </thead>\n",
       "  <tbody>\n",
       "    <tr>\n",
       "      <th>0</th>\n",
       "      <td>8f60c037-8ff2-4ccd-bd6d-05630f92550b</td>\n",
       "      <td>-7.677174</td>\n",
       "      <td>110.45501</td>\n",
       "      <td>1642378184</td>\n",
       "    </tr>\n",
       "    <tr>\n",
       "      <th>1</th>\n",
       "      <td>061fd420-fcd0-4923-8a2b-bbeee7c74872</td>\n",
       "      <td>-7.70582</td>\n",
       "      <td>110.31897</td>\n",
       "      <td>1642378196</td>\n",
       "    </tr>\n",
       "    <tr>\n",
       "      <th>2</th>\n",
       "      <td>061fd420-fcd0-4923-8a2b-bbeee7c74872</td>\n",
       "      <td>-7.705812</td>\n",
       "      <td>110.31898</td>\n",
       "      <td>1642378196</td>\n",
       "    </tr>\n",
       "    <tr>\n",
       "      <th>3</th>\n",
       "      <td>061fd420-fcd0-4923-8a2b-bbeee7c74872</td>\n",
       "      <td>-7.705812</td>\n",
       "      <td>110.31898</td>\n",
       "      <td>1642378220</td>\n",
       "    </tr>\n",
       "    <tr>\n",
       "      <th>4</th>\n",
       "      <td>b23130b2-1bdb-4f1d-b8b2-81d3204523c8</td>\n",
       "      <td>-7.84391</td>\n",
       "      <td>110.43813</td>\n",
       "      <td>1642378237</td>\n",
       "    </tr>\n",
       "  </tbody>\n",
       "</table>\n",
       "</div>"
      ],
      "text/plain": [
       "                                   maid   latitude  longitude   timestamp\n",
       "0  8f60c037-8ff2-4ccd-bd6d-05630f92550b  -7.677174  110.45501  1642378184\n",
       "1  061fd420-fcd0-4923-8a2b-bbeee7c74872   -7.70582  110.31897  1642378196\n",
       "2  061fd420-fcd0-4923-8a2b-bbeee7c74872  -7.705812  110.31898  1642378196\n",
       "3  061fd420-fcd0-4923-8a2b-bbeee7c74872  -7.705812  110.31898  1642378220\n",
       "4  b23130b2-1bdb-4f1d-b8b2-81d3204523c8   -7.84391  110.43813  1642378237"
      ]
     },
     "metadata": {},
     "output_type": "display_data"
    }
   ],
   "source": [
    "path = './DataGPS/Januari2022.csv'\n",
    "df = pd.read_csv(path)\n",
    "df = df.drop({'Unnamed: 0'},axis=1)\n",
    "df.head()"
   ]
  },
  {
   "cell_type": "markdown",
   "metadata": {},
   "source": [
    "### Data reverse geocoding "
   ]
  },
  {
   "cell_type": "code",
   "execution_count": 2,
   "metadata": {},
   "outputs": [
    {
     "data": {
      "text/html": [
       "<div>\n",
       "<style scoped>\n",
       "    .dataframe tbody tr th:only-of-type {\n",
       "        vertical-align: middle;\n",
       "    }\n",
       "\n",
       "    .dataframe tbody tr th {\n",
       "        vertical-align: top;\n",
       "    }\n",
       "\n",
       "    .dataframe thead th {\n",
       "        text-align: right;\n",
       "    }\n",
       "</style>\n",
       "<table border=\"1\" class=\"dataframe\">\n",
       "  <thead>\n",
       "    <tr style=\"text-align: right;\">\n",
       "      <th></th>\n",
       "      <th>maid</th>\n",
       "      <th>latitude</th>\n",
       "      <th>longitude</th>\n",
       "      <th>datetime_wib</th>\n",
       "      <th>geometry</th>\n",
       "      <th>Kelurahan/Desa</th>\n",
       "      <th>Kecamatan</th>\n",
       "      <th>Kabupaten</th>\n",
       "    </tr>\n",
       "  </thead>\n",
       "  <tbody>\n",
       "    <tr>\n",
       "      <th>0</th>\n",
       "      <td>a3df8c97-4fa3-4b7d-9a05-f29ecdfb9b63</td>\n",
       "      <td>-7.7</td>\n",
       "      <td>110.400002</td>\n",
       "      <td>2022-03-01 00:00:00</td>\n",
       "      <td>POINT (110.4000015258789 -7.7)</td>\n",
       "      <td>Harjobinangun</td>\n",
       "      <td>Pakem</td>\n",
       "      <td>Sleman</td>\n",
       "    </tr>\n",
       "    <tr>\n",
       "      <th>1</th>\n",
       "      <td>cab00b11-799a-4e09-8d8d-d6e4fdee0ee3</td>\n",
       "      <td>-7.7</td>\n",
       "      <td>110.400002</td>\n",
       "      <td>2022-03-01 00:00:17</td>\n",
       "      <td>POINT (110.4000015258789 -7.7)</td>\n",
       "      <td>Harjobinangun</td>\n",
       "      <td>Pakem</td>\n",
       "      <td>Sleman</td>\n",
       "    </tr>\n",
       "    <tr>\n",
       "      <th>2</th>\n",
       "      <td>468dd682-ba29-4cf9-8eaf-622afd6ed11e</td>\n",
       "      <td>-7.7</td>\n",
       "      <td>110.400002</td>\n",
       "      <td>2022-03-01 00:00:24</td>\n",
       "      <td>POINT (110.4000015258789 -7.7)</td>\n",
       "      <td>Harjobinangun</td>\n",
       "      <td>Pakem</td>\n",
       "      <td>Sleman</td>\n",
       "    </tr>\n",
       "    <tr>\n",
       "      <th>3</th>\n",
       "      <td>7d71b571-f70d-44e6-ab87-71c61a36f444</td>\n",
       "      <td>-7.7</td>\n",
       "      <td>110.400002</td>\n",
       "      <td>2022-03-01 00:00:30</td>\n",
       "      <td>POINT (110.4000015258789 -7.7)</td>\n",
       "      <td>Harjobinangun</td>\n",
       "      <td>Pakem</td>\n",
       "      <td>Sleman</td>\n",
       "    </tr>\n",
       "    <tr>\n",
       "      <th>4</th>\n",
       "      <td>0b02589d-ab60-4831-b378-863ae2337d7a</td>\n",
       "      <td>-7.7</td>\n",
       "      <td>110.400002</td>\n",
       "      <td>2022-03-01 00:00:33</td>\n",
       "      <td>POINT (110.4000015258789 -7.7)</td>\n",
       "      <td>Harjobinangun</td>\n",
       "      <td>Pakem</td>\n",
       "      <td>Sleman</td>\n",
       "    </tr>\n",
       "  </tbody>\n",
       "</table>\n",
       "</div>"
      ],
      "text/plain": [
       "                                   maid  latitude   longitude  \\\n",
       "0  a3df8c97-4fa3-4b7d-9a05-f29ecdfb9b63      -7.7  110.400002   \n",
       "1  cab00b11-799a-4e09-8d8d-d6e4fdee0ee3      -7.7  110.400002   \n",
       "2  468dd682-ba29-4cf9-8eaf-622afd6ed11e      -7.7  110.400002   \n",
       "3  7d71b571-f70d-44e6-ab87-71c61a36f444      -7.7  110.400002   \n",
       "4  0b02589d-ab60-4831-b378-863ae2337d7a      -7.7  110.400002   \n",
       "\n",
       "          datetime_wib                        geometry Kelurahan/Desa  \\\n",
       "0  2022-03-01 00:00:00  POINT (110.4000015258789 -7.7)  Harjobinangun   \n",
       "1  2022-03-01 00:00:17  POINT (110.4000015258789 -7.7)  Harjobinangun   \n",
       "2  2022-03-01 00:00:24  POINT (110.4000015258789 -7.7)  Harjobinangun   \n",
       "3  2022-03-01 00:00:30  POINT (110.4000015258789 -7.7)  Harjobinangun   \n",
       "4  2022-03-01 00:00:33  POINT (110.4000015258789 -7.7)  Harjobinangun   \n",
       "\n",
       "  Kecamatan Kabupaten  \n",
       "0     Pakem    Sleman  \n",
       "1     Pakem    Sleman  \n",
       "2     Pakem    Sleman  \n",
       "3     Pakem    Sleman  \n",
       "4     Pakem    Sleman  "
      ]
     },
     "execution_count": 2,
     "metadata": {},
     "output_type": "execute_result"
    }
   ],
   "source": [
    "path2 = './DataGPS/RGmaret2022.csv'\n",
    "df2 = pd.read_csv(path2)\n",
    "df2 = df2.drop({'Unnamed: 0'},axis=1)\n",
    "df2.head()"
   ]
  },
  {
   "cell_type": "code",
   "execution_count": null,
   "metadata": {},
   "outputs": [],
   "source": [
    "# df2.iloc[df2['maid'] == '8f60c037-8ff2-4ccd-bd6d-05630f92550b', [0,1,2,3]]\n",
    "# df.iloc[df['maid'] == '8f60c037-8ff2-4ccd-bd6d-05630f92550b']"
   ]
  },
  {
   "cell_type": "markdown",
   "metadata": {},
   "source": [
    "## Mulai Preprocess"
   ]
  },
  {
   "cell_type": "markdown",
   "metadata": {},
   "source": [
    "## 1. Filter Unnecessary Area\n",
    "Membatasi area data point pada range yg dilakukan analisis"
   ]
  },
  {
   "cell_type": "code",
   "execution_count": 4,
   "metadata": {},
   "outputs": [],
   "source": [
    "def filter_area(gps, road, filename):\n",
    "    gps_path = gps\n",
    "    road_path = road\n",
    "    \n",
    "    tdf = skmob.TrajDataFrame.from_file(gps_path)\n",
    "    area_shape = gpd.read_file(road_path)\n",
    "    \n",
    "    gdf_gps = GeoDataFrame(tdf, geometry=gpd.points_from_xy(tdf['longitude'], tdf['latitude']))\n",
    "    filtered_data = gdf_gps[gdf_gps.geometry.within(area_shape.geometry.iloc[0])].copy()\n",
    "    \n",
    "    filtered_data['datetime_wib'] = pd.to_datetime(filtered_data['datetime_wib'])\n",
    "    filtered_data['tanggal'] = filtered_data['datetime_wib'].dt.date\n",
    "    \n",
    "    filtered_data.to_csv(filename + '.csv', index=False)    \n",
    "\n",
    "    filtered_data.info()\n",
    "#     print(filtered_data.head())\n",
    "    print(\"Filtering area for \", filename, \"succeed\")"
   ]
  },
  {
   "cell_type": "code",
   "execution_count": 5,
   "metadata": {},
   "outputs": [
    {
     "name": "stdout",
     "output_type": "stream",
     "text": [
      "<class 'geopandas.geodataframe.GeoDataFrame'>\n",
      "Int64Index: 49830 entries, 2668973 to 10863180\n",
      "Data columns (total 10 columns):\n",
      " #   Column          Non-Null Count  Dtype         \n",
      "---  ------          --------------  -----         \n",
      " 0   Unnamed: 0      49830 non-null  int64         \n",
      " 1   maid            49830 non-null  object        \n",
      " 2   latitude        49830 non-null  float64       \n",
      " 3   longitude       49830 non-null  float64       \n",
      " 4   datetime_wib    49830 non-null  datetime64[ns]\n",
      " 5   geometry        49830 non-null  geometry      \n",
      " 6   Kelurahan/Desa  49830 non-null  object        \n",
      " 7   Kecamatan       49830 non-null  object        \n",
      " 8   Kabupaten       49830 non-null  object        \n",
      " 9   tanggal         49830 non-null  object        \n",
      "dtypes: datetime64[ns](1), float64(2), geometry(1), int64(1), object(5)\n",
      "memory usage: 4.2+ MB\n",
      "Filtering area for  filter1_terban_okt succeed\n"
     ]
    }
   ],
   "source": [
    "gps = './DataGPS/RGoktober2021.csv'\n",
    "road = './JaringanJalan/AreaTerban/clipping_boundary.geojson'\n",
    "filename ='filter1_terban_okt'\n",
    "filter_area(gps, road, filename)"
   ]
  },
  {
   "cell_type": "code",
   "execution_count": null,
   "metadata": {},
   "outputs": [
    {
     "data": {
      "text/html": [
       "<div>\n",
       "<style scoped>\n",
       "    .dataframe tbody tr th:only-of-type {\n",
       "        vertical-align: middle;\n",
       "    }\n",
       "\n",
       "    .dataframe tbody tr th {\n",
       "        vertical-align: top;\n",
       "    }\n",
       "\n",
       "    .dataframe thead th {\n",
       "        text-align: right;\n",
       "    }\n",
       "</style>\n",
       "<table border=\"1\" class=\"dataframe\">\n",
       "  <thead>\n",
       "    <tr style=\"text-align: right;\">\n",
       "      <th></th>\n",
       "      <th>Unnamed: 0.1</th>\n",
       "      <th>Unnamed: 0</th>\n",
       "      <th>maid</th>\n",
       "      <th>latitude</th>\n",
       "      <th>longitude</th>\n",
       "      <th>datetime_wib</th>\n",
       "      <th>geometry</th>\n",
       "      <th>Kelurahan/Desa</th>\n",
       "      <th>Kecamatan</th>\n",
       "      <th>Kabupaten</th>\n",
       "      <th>tanggal</th>\n",
       "    </tr>\n",
       "  </thead>\n",
       "  <tbody>\n",
       "    <tr>\n",
       "      <th>0</th>\n",
       "      <td>1488284</td>\n",
       "      <td>1488284</td>\n",
       "      <td>31cdeb51-76f4-46c2-98cf-a4454cb93e72</td>\n",
       "      <td>-7.793918</td>\n",
       "      <td>110.364883</td>\n",
       "      <td>2021-11-01 00:00:16</td>\n",
       "      <td>POINT (110.36488342285156 -7.793918)</td>\n",
       "      <td>Kelurahan Sosromenduran</td>\n",
       "      <td>Gedongtengen</td>\n",
       "      <td>Kota Yogyakarta</td>\n",
       "      <td>2021-11-01</td>\n",
       "    </tr>\n",
       "    <tr>\n",
       "      <th>1</th>\n",
       "      <td>1488285</td>\n",
       "      <td>1488285</td>\n",
       "      <td>31cdeb51-76f4-46c2-98cf-a4454cb93e72</td>\n",
       "      <td>-7.793918</td>\n",
       "      <td>110.364883</td>\n",
       "      <td>2021-11-01 00:02:57</td>\n",
       "      <td>POINT (110.36488342285156 -7.793918)</td>\n",
       "      <td>Kelurahan Sosromenduran</td>\n",
       "      <td>Gedongtengen</td>\n",
       "      <td>Kota Yogyakarta</td>\n",
       "      <td>2021-11-01</td>\n",
       "    </tr>\n",
       "    <tr>\n",
       "      <th>2</th>\n",
       "      <td>1488286</td>\n",
       "      <td>1488286</td>\n",
       "      <td>31cdeb51-76f4-46c2-98cf-a4454cb93e72</td>\n",
       "      <td>-7.793940</td>\n",
       "      <td>110.364883</td>\n",
       "      <td>2021-11-01 00:03:11</td>\n",
       "      <td>POINT (110.36488342285156 -7.79394)</td>\n",
       "      <td>Kelurahan Sosromenduran</td>\n",
       "      <td>Gedongtengen</td>\n",
       "      <td>Kota Yogyakarta</td>\n",
       "      <td>2021-11-01</td>\n",
       "    </tr>\n",
       "    <tr>\n",
       "      <th>3</th>\n",
       "      <td>1488287</td>\n",
       "      <td>1488287</td>\n",
       "      <td>31cdeb51-76f4-46c2-98cf-a4454cb93e72</td>\n",
       "      <td>-7.793918</td>\n",
       "      <td>110.364883</td>\n",
       "      <td>2021-11-01 00:03:11</td>\n",
       "      <td>POINT (110.36488342285156 -7.793918)</td>\n",
       "      <td>Kelurahan Sosromenduran</td>\n",
       "      <td>Gedongtengen</td>\n",
       "      <td>Kota Yogyakarta</td>\n",
       "      <td>2021-11-01</td>\n",
       "    </tr>\n",
       "    <tr>\n",
       "      <th>4</th>\n",
       "      <td>1488288</td>\n",
       "      <td>1488288</td>\n",
       "      <td>31cdeb51-76f4-46c2-98cf-a4454cb93e72</td>\n",
       "      <td>-7.793930</td>\n",
       "      <td>110.364868</td>\n",
       "      <td>2021-11-01 00:03:22</td>\n",
       "      <td>POINT (110.3648681640625 -7.79393)</td>\n",
       "      <td>Kelurahan Sosromenduran</td>\n",
       "      <td>Gedongtengen</td>\n",
       "      <td>Kota Yogyakarta</td>\n",
       "      <td>2021-11-01</td>\n",
       "    </tr>\n",
       "  </tbody>\n",
       "</table>\n",
       "</div>"
      ],
      "text/plain": [
       "   Unnamed: 0.1  Unnamed: 0                                  maid  latitude  \\\n",
       "0       1488284     1488284  31cdeb51-76f4-46c2-98cf-a4454cb93e72 -7.793918   \n",
       "1       1488285     1488285  31cdeb51-76f4-46c2-98cf-a4454cb93e72 -7.793918   \n",
       "2       1488286     1488286  31cdeb51-76f4-46c2-98cf-a4454cb93e72 -7.793940   \n",
       "3       1488287     1488287  31cdeb51-76f4-46c2-98cf-a4454cb93e72 -7.793918   \n",
       "4       1488288     1488288  31cdeb51-76f4-46c2-98cf-a4454cb93e72 -7.793930   \n",
       "\n",
       "    longitude         datetime_wib                              geometry  \\\n",
       "0  110.364883  2021-11-01 00:00:16  POINT (110.36488342285156 -7.793918)   \n",
       "1  110.364883  2021-11-01 00:02:57  POINT (110.36488342285156 -7.793918)   \n",
       "2  110.364883  2021-11-01 00:03:11   POINT (110.36488342285156 -7.79394)   \n",
       "3  110.364883  2021-11-01 00:03:11  POINT (110.36488342285156 -7.793918)   \n",
       "4  110.364868  2021-11-01 00:03:22    POINT (110.3648681640625 -7.79393)   \n",
       "\n",
       "            Kelurahan/Desa     Kecamatan        Kabupaten     tanggal  \n",
       "0  Kelurahan Sosromenduran  Gedongtengen  Kota Yogyakarta  2021-11-01  \n",
       "1  Kelurahan Sosromenduran  Gedongtengen  Kota Yogyakarta  2021-11-01  \n",
       "2  Kelurahan Sosromenduran  Gedongtengen  Kota Yogyakarta  2021-11-01  \n",
       "3  Kelurahan Sosromenduran  Gedongtengen  Kota Yogyakarta  2021-11-01  \n",
       "4  Kelurahan Sosromenduran  Gedongtengen  Kota Yogyakarta  2021-11-01  "
      ]
     },
     "metadata": {},
     "output_type": "display_data"
    }
   ],
   "source": [
    "data = pd.read_csv(f'./{filename}.csv')\n",
    "data.head()"
   ]
  },
  {
   "cell_type": "code",
   "execution_count": null,
   "metadata": {},
   "outputs": [
    {
     "data": {
      "text/plain": [
       "Unnamed: 0.1      597265\n",
       "Unnamed: 0        597265\n",
       "maid               13106\n",
       "latitude            9314\n",
       "longitude            837\n",
       "datetime_wib      103084\n",
       "geometry           58483\n",
       "Kelurahan/Desa         5\n",
       "Kecamatan              4\n",
       "Kabupaten              1\n",
       "tanggal               30\n",
       "dtype: int64"
      ]
     },
     "metadata": {},
     "output_type": "display_data"
    }
   ],
   "source": [
    "data.nunique()"
   ]
  },
  {
   "cell_type": "code",
   "execution_count": null,
   "metadata": {},
   "outputs": [],
   "source": []
  }
 ],
 "metadata": {
  "kernelspec": {
   "display_name": "Python 3",
   "language": "python",
   "name": "python3"
  },
  "language_info": {
   "codemirror_mode": {
    "name": "ipython",
    "version": 3
   },
   "file_extension": ".py",
   "mimetype": "text/x-python",
   "name": "python",
   "nbconvert_exporter": "python",
   "pygments_lexer": "ipython3",
   "version": "3.9.2"
  }
 },
 "nbformat": 4,
 "nbformat_minor": 2
}
