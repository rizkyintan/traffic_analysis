{
 "cells": [
  {
   "cell_type": "code",
   "execution_count": 2,
   "id": "4cc8ad6f",
   "metadata": {
    "scrolled": true
   },
   "outputs": [],
   "source": [
    "import pandas as pd\n",
    "import matplotlib.pyplot as plt\n",
    "import numpy as np\n",
    "import geopandas as gpd\n",
    "from geopandas import GeoDataFrame\n",
    "from shapely.geometry import Point\n",
    "import skmob\n",
    "from skmob import preprocessing"
   ]
  },
  {
   "cell_type": "markdown",
   "id": "3ab96827",
   "metadata": {},
   "source": [
    "## Reading the DataFrame"
   ]
  },
  {
   "cell_type": "markdown",
   "id": "bc7fb437",
   "metadata": {},
   "source": [
    "### Data original"
   ]
  },
  {
   "cell_type": "code",
   "execution_count": 19,
   "id": "366dad3b",
   "metadata": {
    "scrolled": true
   },
   "outputs": [
    {
     "name": "stderr",
     "output_type": "stream",
     "text": [
      "/tmp/ipykernel_15516/2349169461.py:2: DtypeWarning: Columns (2,3,4) have mixed types. Specify dtype option on import or set low_memory=False.\n",
      "  df = pd.read_csv(path)\n"
     ]
    },
    {
     "data": {
      "text/html": [
       "<div>\n",
       "<style scoped>\n",
       "    .dataframe tbody tr th:only-of-type {\n",
       "        vertical-align: middle;\n",
       "    }\n",
       "\n",
       "    .dataframe tbody tr th {\n",
       "        vertical-align: top;\n",
       "    }\n",
       "\n",
       "    .dataframe thead th {\n",
       "        text-align: right;\n",
       "    }\n",
       "</style>\n",
       "<table border=\"1\" class=\"dataframe\">\n",
       "  <thead>\n",
       "    <tr style=\"text-align: right;\">\n",
       "      <th></th>\n",
       "      <th>maid</th>\n",
       "      <th>latitude</th>\n",
       "      <th>longitude</th>\n",
       "      <th>timestamp</th>\n",
       "    </tr>\n",
       "  </thead>\n",
       "  <tbody>\n",
       "    <tr>\n",
       "      <th>0</th>\n",
       "      <td>8f60c037-8ff2-4ccd-bd6d-05630f92550b</td>\n",
       "      <td>-7.677174</td>\n",
       "      <td>110.45501</td>\n",
       "      <td>1642378184</td>\n",
       "    </tr>\n",
       "    <tr>\n",
       "      <th>1</th>\n",
       "      <td>061fd420-fcd0-4923-8a2b-bbeee7c74872</td>\n",
       "      <td>-7.70582</td>\n",
       "      <td>110.31897</td>\n",
       "      <td>1642378196</td>\n",
       "    </tr>\n",
       "    <tr>\n",
       "      <th>2</th>\n",
       "      <td>061fd420-fcd0-4923-8a2b-bbeee7c74872</td>\n",
       "      <td>-7.705812</td>\n",
       "      <td>110.31898</td>\n",
       "      <td>1642378196</td>\n",
       "    </tr>\n",
       "    <tr>\n",
       "      <th>3</th>\n",
       "      <td>061fd420-fcd0-4923-8a2b-bbeee7c74872</td>\n",
       "      <td>-7.705812</td>\n",
       "      <td>110.31898</td>\n",
       "      <td>1642378220</td>\n",
       "    </tr>\n",
       "    <tr>\n",
       "      <th>4</th>\n",
       "      <td>b23130b2-1bdb-4f1d-b8b2-81d3204523c8</td>\n",
       "      <td>-7.84391</td>\n",
       "      <td>110.43813</td>\n",
       "      <td>1642378237</td>\n",
       "    </tr>\n",
       "  </tbody>\n",
       "</table>\n",
       "</div>"
      ],
      "text/plain": [
       "                                   maid   latitude  longitude   timestamp\n",
       "0  8f60c037-8ff2-4ccd-bd6d-05630f92550b  -7.677174  110.45501  1642378184\n",
       "1  061fd420-fcd0-4923-8a2b-bbeee7c74872   -7.70582  110.31897  1642378196\n",
       "2  061fd420-fcd0-4923-8a2b-bbeee7c74872  -7.705812  110.31898  1642378196\n",
       "3  061fd420-fcd0-4923-8a2b-bbeee7c74872  -7.705812  110.31898  1642378220\n",
       "4  b23130b2-1bdb-4f1d-b8b2-81d3204523c8   -7.84391  110.43813  1642378237"
      ]
     },
     "execution_count": 19,
     "metadata": {},
     "output_type": "execute_result"
    }
   ],
   "source": [
    "path = './DataGPS/Januari2022.csv'\n",
    "df = pd.read_csv(path)\n",
    "df = df.drop({'Unnamed: 0'},axis=1)\n",
    "df.head()"
   ]
  },
  {
   "cell_type": "markdown",
   "id": "7647f02a",
   "metadata": {},
   "source": [
    "### Data reverse geocoding "
   ]
  },
  {
   "cell_type": "code",
   "execution_count": 3,
   "id": "39fd6303",
   "metadata": {
    "scrolled": true
   },
   "outputs": [
    {
     "data": {
      "text/html": [
       "<div>\n",
       "<style scoped>\n",
       "    .dataframe tbody tr th:only-of-type {\n",
       "        vertical-align: middle;\n",
       "    }\n",
       "\n",
       "    .dataframe tbody tr th {\n",
       "        vertical-align: top;\n",
       "    }\n",
       "\n",
       "    .dataframe thead th {\n",
       "        text-align: right;\n",
       "    }\n",
       "</style>\n",
       "<table border=\"1\" class=\"dataframe\">\n",
       "  <thead>\n",
       "    <tr style=\"text-align: right;\">\n",
       "      <th></th>\n",
       "      <th>maid</th>\n",
       "      <th>latitude</th>\n",
       "      <th>longitude</th>\n",
       "      <th>datetime_wib</th>\n",
       "      <th>geometry</th>\n",
       "      <th>Kelurahan/Desa</th>\n",
       "      <th>Kecamatan</th>\n",
       "      <th>Kabupaten</th>\n",
       "    </tr>\n",
       "  </thead>\n",
       "  <tbody>\n",
       "    <tr>\n",
       "      <th>0</th>\n",
       "      <td>de1cc960-90fe-46cb-91ae-eb08b27ebc37</td>\n",
       "      <td>-7.800000</td>\n",
       "      <td>110.300003</td>\n",
       "      <td>2022-01-01 00:00:00</td>\n",
       "      <td>POINT (110.3000030517578 -7.8)</td>\n",
       "      <td>Balecatur</td>\n",
       "      <td>Gamping</td>\n",
       "      <td>Sleman</td>\n",
       "    </tr>\n",
       "    <tr>\n",
       "      <th>1</th>\n",
       "      <td>ee52276f-0886-40a1-ab70-b32ba57615a5</td>\n",
       "      <td>-7.830476</td>\n",
       "      <td>110.295151</td>\n",
       "      <td>2022-01-01 00:00:08</td>\n",
       "      <td>POINT (110.2951507568359 -7.8304763)</td>\n",
       "      <td>Balecatur</td>\n",
       "      <td>Gamping</td>\n",
       "      <td>Sleman</td>\n",
       "    </tr>\n",
       "    <tr>\n",
       "      <th>2</th>\n",
       "      <td>6a1dbe26-eea5-4a6c-8445-13ab396db37d</td>\n",
       "      <td>-7.830476</td>\n",
       "      <td>110.295151</td>\n",
       "      <td>2022-01-01 00:00:48</td>\n",
       "      <td>POINT (110.2951507568359 -7.8304763)</td>\n",
       "      <td>Balecatur</td>\n",
       "      <td>Gamping</td>\n",
       "      <td>Sleman</td>\n",
       "    </tr>\n",
       "    <tr>\n",
       "      <th>3</th>\n",
       "      <td>33ed0b90-7269-461f-ae28-f50599614361</td>\n",
       "      <td>-7.800000</td>\n",
       "      <td>110.300003</td>\n",
       "      <td>2022-01-01 00:01:17</td>\n",
       "      <td>POINT (110.3000030517578 -7.8)</td>\n",
       "      <td>Balecatur</td>\n",
       "      <td>Gamping</td>\n",
       "      <td>Sleman</td>\n",
       "    </tr>\n",
       "    <tr>\n",
       "      <th>4</th>\n",
       "      <td>43e0d958-8833-47c6-a56d-7957fd2ba838</td>\n",
       "      <td>-7.800000</td>\n",
       "      <td>110.300003</td>\n",
       "      <td>2022-01-01 00:01:38</td>\n",
       "      <td>POINT (110.3000030517578 -7.8)</td>\n",
       "      <td>Balecatur</td>\n",
       "      <td>Gamping</td>\n",
       "      <td>Sleman</td>\n",
       "    </tr>\n",
       "  </tbody>\n",
       "</table>\n",
       "</div>"
      ],
      "text/plain": [
       "                                   maid  latitude   longitude  \\\n",
       "0  de1cc960-90fe-46cb-91ae-eb08b27ebc37 -7.800000  110.300003   \n",
       "1  ee52276f-0886-40a1-ab70-b32ba57615a5 -7.830476  110.295151   \n",
       "2  6a1dbe26-eea5-4a6c-8445-13ab396db37d -7.830476  110.295151   \n",
       "3  33ed0b90-7269-461f-ae28-f50599614361 -7.800000  110.300003   \n",
       "4  43e0d958-8833-47c6-a56d-7957fd2ba838 -7.800000  110.300003   \n",
       "\n",
       "          datetime_wib                              geometry Kelurahan/Desa  \\\n",
       "0  2022-01-01 00:00:00        POINT (110.3000030517578 -7.8)      Balecatur   \n",
       "1  2022-01-01 00:00:08  POINT (110.2951507568359 -7.8304763)      Balecatur   \n",
       "2  2022-01-01 00:00:48  POINT (110.2951507568359 -7.8304763)      Balecatur   \n",
       "3  2022-01-01 00:01:17        POINT (110.3000030517578 -7.8)      Balecatur   \n",
       "4  2022-01-01 00:01:38        POINT (110.3000030517578 -7.8)      Balecatur   \n",
       "\n",
       "  Kecamatan Kabupaten  \n",
       "0   Gamping    Sleman  \n",
       "1   Gamping    Sleman  \n",
       "2   Gamping    Sleman  \n",
       "3   Gamping    Sleman  \n",
       "4   Gamping    Sleman  "
      ]
     },
     "execution_count": 3,
     "metadata": {},
     "output_type": "execute_result"
    }
   ],
   "source": [
    "path2 = './DataGPS/RGjanuari2022.csv'\n",
    "df2 = pd.read_csv(path2)\n",
    "df2 = df2.drop({'Unnamed: 0'},axis=1)\n",
    "df2.head()"
   ]
  },
  {
   "cell_type": "code",
   "execution_count": 4,
   "id": "1950e460",
   "metadata": {
    "scrolled": true
   },
   "outputs": [],
   "source": [
    "# df2.iloc[df2['maid'] == '8f60c037-8ff2-4ccd-bd6d-05630f92550b', [0,1,2,3]]\n",
    "# df.iloc[df['maid'] == '8f60c037-8ff2-4ccd-bd6d-05630f92550b']"
   ]
  },
  {
   "cell_type": "markdown",
   "id": "29e4a6cd",
   "metadata": {},
   "source": [
    "## Mulai Preprocess"
   ]
  },
  {
   "cell_type": "markdown",
   "id": "b7e493f5",
   "metadata": {},
   "source": [
    "## 1. Filter Unnecessary Area\n",
    "Membatasi area data point pada range yg dilakukan analisis"
   ]
  },
  {
   "cell_type": "code",
   "execution_count": 5,
   "id": "c6753f23",
   "metadata": {},
   "outputs": [],
   "source": [
    "def filter_area(gps, road, filename):\n",
    "    gps_path = gps\n",
    "    road_path = road\n",
    "    \n",
    "    tdf = skmob.TrajDataFrame.from_file(gps_path)\n",
    "    area_shape = gpd.read_file(road_path)\n",
    "    tdf.to_dataframe()\n",
    "    \n",
    "    gdf_gps = GeoDataFrame(tdf, geometry=gpd.points_from_xy(tdf['longitude'], tdf['latitude']))\n",
    "    filtered_data = gdf_gps[gdf_gps.geometry.within(area_shape.geometry.iloc[0])].copy()\n",
    "    \n",
    "    filtered_data['datetime_wib'] = pd.to_datetime(filtered_data['datetime_wib'])\n",
    "    filtered_data['tanggal'] = filtered_data['datetime_wib'].dt.date\n",
    "    \n",
    "    filtered_data.to_csv(filename + '.csv', index=False)    \n",
    "\n",
    "    filtered_data.info()\n",
    "    # print(filtered_data.head())\n",
    "    print(\"Filtering area for \", filename, \"succeed\")"
   ]
  },
  {
   "cell_type": "code",
   "execution_count": 6,
   "id": "46a4cc2d",
   "metadata": {},
   "outputs": [
    {
     "ename": "",
     "evalue": "",
     "output_type": "error",
     "traceback": [
      "\u001b[1;31mThe Kernel crashed while executing code in the the current cell or a previous cell. Please review the code in the cell(s) to identify a possible cause of the failure. Click <a href='https://aka.ms/vscodeJupyterKernelCrash'>here</a> for more info. View Jupyter <a href='command:jupyter.viewOutput'>log</a> for further details."
     ]
    }
   ],
   "source": [
    "gps = './DataGPS/RGnovember2021.csv'\n",
    "road = './JaringanJalan/Malioboro/clipping_boundary.geojson'\n",
    "filename ='filter1_malioboro_nov'\n",
    "filter_area(gps, road, filename)"
   ]
  },
  {
   "cell_type": "code",
   "execution_count": 23,
   "id": "a35bc473",
   "metadata": {},
   "outputs": [
    {
     "data": {
      "text/plain": [
       "array(['Kelurahan Ngupasan', 'Kelurahan Gowongan',\n",
       "       'Kelurahan Prawirodirjan', 'Kelurahan Suryatmajan',\n",
       "       'Kelurahan Sosromenduran'], dtype=object)"
      ]
     },
     "execution_count": 23,
     "metadata": {},
     "output_type": "execute_result"
    }
   ],
   "source": [
    "data = pd.read_csv('./filter1_malioboro_jan.csv')\n",
    "data['Kelurahan/Desa'].unique()"
   ]
  },
  {
   "cell_type": "markdown",
   "id": "226164fa",
   "metadata": {},
   "source": [
    "## 2. Lihat persebaran data"
   ]
  },
  {
   "cell_type": "code",
   "execution_count": 4,
   "id": "cd69adde",
   "metadata": {},
   "outputs": [],
   "source": [
    "def bar_chart(data):\n",
    "    filtered_data = data.copy()\n",
    "\n",
    "    # Hapus duplikat 'maid' berdasarkan tanggal\n",
    "    filtered_data_unique_maid = filtered_data.drop_duplicates(subset=['tanggal', 'maid'])\n",
    "\n",
    "    # Hitung jumlah unik per hari\n",
    "    jumlah_unik_per_hari = filtered_data_unique_maid.groupby('tanggal').size()\n",
    "\n",
    "    # Plotting\n",
    "    plt.figure(figsize=(10, 6))\n",
    "    jumlah_unik_per_hari.plot(kind='bar', color='skyblue')\n",
    "    plt.title('Jumlah Data Maid unik per Hari')\n",
    "    plt.xlabel('Tanggal')\n",
    "    plt.ylabel('Jumlah Data Unik')\n",
    "    plt.xticks(rotation=75)\n",
    "    plt.show()"
   ]
  },
  {
   "cell_type": "code",
   "execution_count": 5,
   "id": "7695ee60",
   "metadata": {},
   "outputs": [],
   "source": [
    "def count_maid(data):\n",
    "    filtered_data = data.copy()\n",
    "    \n",
    "    # Ganti 'datetime_wib' sesuai nama kolom datetime di data-mu\n",
    "    filtered_data['datetime_wib'] = pd.to_datetime(filtered_data['datetime_wib'])\n",
    "    filtered_data['tanggal'] = filtered_data['datetime_wib'].dt.date\n",
    "\n",
    "    # Hitung jumlah 'maid' unik per hari\n",
    "    jumlah_maid_unik_per_hari = filtered_data.groupby('tanggal')['maid'].nunique()\n",
    "\n",
    "    # Print hasilnya\n",
    "    print(jumlah_maid_unik_per_hari)\n"
   ]
  },
  {
   "cell_type": "code",
   "execution_count": 33,
   "id": "165b0beb",
   "metadata": {},
   "outputs": [],
   "source": [
    "def count_bykelurahan(data):\n",
    "    filtered_data = data.copy()\n",
    "\n",
    "    # Hitung jumlah 'maid' unik per hari\n",
    "    jumlah_maid_unik = filtered_data.groupby('Kelurahan/Desa')['maid'].nunique()\n",
    "\n",
    "    # Print hasilnya\n",
    "    print(jumlah_maid_unik)\n"
   ]
  },
  {
   "cell_type": "markdown",
   "id": "874e6254",
   "metadata": {},
   "source": [
    "### Januari 2022"
   ]
  },
  {
   "cell_type": "code",
   "execution_count": 20,
   "id": "6ffb3259",
   "metadata": {},
   "outputs": [
    {
     "data": {
      "image/png": "[encoded data removed]",
      "text/plain": [
       "<Figure size 1000x600 with 1 Axes>"
      ]
     },
     "metadata": {},
     "output_type": "display_data"
    }
   ],
   "source": [
    "path = 'df2_filter1_jan.csv'\n",
    "df2_filter1 = pd.read_csv(path)\n",
    "df2_filter1 = df2_filter1.drop({'Unnamed: 0'},axis=1)\n",
    "bar_chart(df2_filter1)"
   ]
  },
  {
   "cell_type": "code",
   "execution_count": 21,
   "id": "c0965813",
   "metadata": {},
   "outputs": [
    {
     "name": "stdout",
     "output_type": "stream",
     "text": [
      "<class 'pandas.core.frame.DataFrame'>\n",
      "RangeIndex: 96729 entries, 0 to 96728\n",
      "Data columns (total 9 columns):\n",
      " #   Column          Non-Null Count  Dtype  \n",
      "---  ------          --------------  -----  \n",
      " 0   maid            96729 non-null  object \n",
      " 1   latitude        96729 non-null  float64\n",
      " 2   longitude       96729 non-null  float64\n",
      " 3   datetime_wib    96729 non-null  object \n",
      " 4   geometry        96729 non-null  object \n",
      " 5   Kelurahan/Desa  96729 non-null  object \n",
      " 6   Kecamatan       96729 non-null  object \n",
      " 7   Kabupaten       96729 non-null  object \n",
      " 8   tanggal         96729 non-null  object \n",
      "dtypes: float64(2), object(7)\n",
      "memory usage: 6.6+ MB\n"
     ]
    },
    {
     "data": {
      "text/plain": [
       "4850"
      ]
     },
     "execution_count": 21,
     "metadata": {},
     "output_type": "execute_result"
    }
   ],
   "source": [
    "df2_filter1.info()\n",
    "len(df2_filter1[\"maid\"].unique())"
   ]
  },
  {
   "cell_type": "markdown",
   "id": "fb0682fc",
   "metadata": {},
   "source": [
    "### Februari 2022"
   ]
  },
  {
   "cell_type": "code",
   "execution_count": 22,
   "id": "4c2f6722",
   "metadata": {},
   "outputs": [
    {
     "data": {
      "image/png": "[encoded data removed]",
      "text/plain": [
       "<Figure size 1000x600 with 1 Axes>"
      ]
     },
     "metadata": {},
     "output_type": "display_data"
    }
   ],
   "source": [
    "path = 'df2_filter1_feb.csv'\n",
    "df2_filter1 = pd.read_csv(path)\n",
    "df2_filter1 = df2_filter1.drop({'Unnamed: 0'},axis=1)\n",
    "bar_chart(df2_filter1)"
   ]
  },
  {
   "cell_type": "code",
   "execution_count": 23,
   "id": "3243db11",
   "metadata": {},
   "outputs": [
    {
     "name": "stdout",
     "output_type": "stream",
     "text": [
      "<class 'pandas.core.frame.DataFrame'>\n",
      "RangeIndex: 244850 entries, 0 to 244849\n",
      "Data columns (total 9 columns):\n",
      " #   Column          Non-Null Count   Dtype  \n",
      "---  ------          --------------   -----  \n",
      " 0   maid            244850 non-null  object \n",
      " 1   latitude        244850 non-null  float64\n",
      " 2   longitude       244850 non-null  float64\n",
      " 3   datetime_wib    244850 non-null  object \n",
      " 4   geometry        244850 non-null  object \n",
      " 5   Kelurahan/Desa  244850 non-null  object \n",
      " 6   Kecamatan       244850 non-null  object \n",
      " 7   Kabupaten       244850 non-null  object \n",
      " 8   tanggal         244850 non-null  object \n",
      "dtypes: float64(2), object(7)\n",
      "memory usage: 16.8+ MB\n"
     ]
    },
    {
     "data": {
      "text/plain": [
       "7551"
      ]
     },
     "execution_count": 23,
     "metadata": {},
     "output_type": "execute_result"
    }
   ],
   "source": [
    "df2_filter1.info()\n",
    "len(df2_filter1[\"maid\"].unique())"
   ]
  },
  {
   "cell_type": "markdown",
   "id": "1ed9bca3",
   "metadata": {},
   "source": [
    "### Desember 2021"
   ]
  },
  {
   "cell_type": "code",
   "execution_count": 18,
   "id": "c8267329",
   "metadata": {},
   "outputs": [
    {
     "data": {
      "image/png": "[encoded data removed]",
      "text/plain": [
       "<Figure size 1000x600 with 1 Axes>"
      ]
     },
     "metadata": {},
     "output_type": "display_data"
    }
   ],
   "source": [
    "path = 'df2_filter1_des.csv'\n",
    "df2_filter1 = pd.read_csv(path)\n",
    "df2_filter1 = df2_filter1.drop({'Unnamed: 0'},axis=1)\n",
    "bar_chart(df2_filter1)"
   ]
  },
  {
   "cell_type": "code",
   "execution_count": 19,
   "id": "3915ee32",
   "metadata": {},
   "outputs": [
    {
     "name": "stdout",
     "output_type": "stream",
     "text": [
      "<class 'pandas.core.frame.DataFrame'>\n",
      "RangeIndex: 111775 entries, 0 to 111774\n",
      "Data columns (total 9 columns):\n",
      " #   Column          Non-Null Count   Dtype  \n",
      "---  ------          --------------   -----  \n",
      " 0   maid            111775 non-null  object \n",
      " 1   latitude        111775 non-null  float64\n",
      " 2   longitude       111775 non-null  float64\n",
      " 3   datetime_wib    111775 non-null  object \n",
      " 4   geometry        111775 non-null  object \n",
      " 5   Kelurahan/Desa  111775 non-null  object \n",
      " 6   Kecamatan       111775 non-null  object \n",
      " 7   Kabupaten       111775 non-null  object \n",
      " 8   tanggal         111775 non-null  object \n",
      "dtypes: float64(2), object(7)\n",
      "memory usage: 7.7+ MB\n"
     ]
    },
    {
     "data": {
      "text/plain": [
       "2779"
      ]
     },
     "execution_count": 19,
     "metadata": {},
     "output_type": "execute_result"
    }
   ],
   "source": [
    "df2_filter1.info()\n",
    "len(df2_filter1[\"maid\"].unique())"
   ]
  },
  {
   "cell_type": "markdown",
   "id": "ecd5fac5",
   "metadata": {},
   "source": [
    "### November 2021"
   ]
  },
  {
   "cell_type": "code",
   "execution_count": 6,
   "id": "96daee13",
   "metadata": {},
   "outputs": [
    {
     "data": {
      "image/png": "[encoded data removed]",
      "text/plain": [
       "<Figure size 1000x600 with 1 Axes>"
      ]
     },
     "metadata": {},
     "output_type": "display_data"
    }
   ],
   "source": [
    "path = 'df2_filter1_nov.csv'\n",
    "df2_filter1 = pd.read_csv(path)\n",
    "df2_filter1 = df2_filter1.drop({'Unnamed: 0.1'},axis=1)\n",
    "bar_chart(df2_filter1)"
   ]
  },
  {
   "cell_type": "code",
   "execution_count": 17,
   "id": "ea8a52d6",
   "metadata": {},
   "outputs": [
    {
     "data": {
      "text/plain": [
       "3949"
      ]
     },
     "execution_count": 17,
     "metadata": {},
     "output_type": "execute_result"
    }
   ],
   "source": [
    "len(df2_filter1[\"maid\"].unique())"
   ]
  },
  {
   "cell_type": "code",
   "execution_count": 69,
   "id": "43aa6672",
   "metadata": {},
   "outputs": [
    {
     "name": "stdout",
     "output_type": "stream",
     "text": [
      "<class 'pandas.core.frame.DataFrame'>\n",
      "RangeIndex: 527286 entries, 0 to 527285\n",
      "Data columns (total 9 columns):\n",
      " #   Column          Non-Null Count   Dtype  \n",
      "---  ------          --------------   -----  \n",
      " 0   maid            527286 non-null  object \n",
      " 1   latitude        527286 non-null  float64\n",
      " 2   longitude       527286 non-null  float64\n",
      " 3   datetime_wib    527286 non-null  object \n",
      " 4   geometry        527286 non-null  object \n",
      " 5   Kelurahan/Desa  527286 non-null  object \n",
      " 6   Kecamatan       527286 non-null  object \n",
      " 7   Kabupaten       527286 non-null  object \n",
      " 8   tanggal         527286 non-null  object \n",
      "dtypes: float64(2), object(7)\n",
      "memory usage: 36.2+ MB\n"
     ]
    }
   ],
   "source": [
    "df2_filter1.info()"
   ]
  },
  {
   "cell_type": "code",
   "execution_count": 13,
   "id": "d62b4619",
   "metadata": {},
   "outputs": [
    {
     "data": {
      "text/html": [
       "<div>\n",
       "<style scoped>\n",
       "    .dataframe tbody tr th:only-of-type {\n",
       "        vertical-align: middle;\n",
       "    }\n",
       "\n",
       "    .dataframe tbody tr th {\n",
       "        vertical-align: top;\n",
       "    }\n",
       "\n",
       "    .dataframe thead th {\n",
       "        text-align: right;\n",
       "    }\n",
       "</style>\n",
       "<table border=\"1\" class=\"dataframe\">\n",
       "  <thead>\n",
       "    <tr style=\"text-align: right;\">\n",
       "      <th></th>\n",
       "      <th>maid</th>\n",
       "      <th>latitude</th>\n",
       "      <th>longitude</th>\n",
       "      <th>datetime_wib</th>\n",
       "      <th>geometry</th>\n",
       "      <th>Kelurahan/Desa</th>\n",
       "      <th>Kecamatan</th>\n",
       "      <th>Kabupaten</th>\n",
       "      <th>tanggal</th>\n",
       "    </tr>\n",
       "  </thead>\n",
       "  <tbody>\n",
       "    <tr>\n",
       "      <th>0</th>\n",
       "      <td>375bc2e5-1e09-4620-a780-c75d5a6aeb69</td>\n",
       "      <td>-7.775690</td>\n",
       "      <td>110.377663</td>\n",
       "      <td>2021-11-01 00:11:19</td>\n",
       "      <td>POINT (110.3776626586914 -7.77569)</td>\n",
       "      <td>Caturtunggal</td>\n",
       "      <td>Depok</td>\n",
       "      <td>Sleman</td>\n",
       "      <td>2021-11-01</td>\n",
       "    </tr>\n",
       "    <tr>\n",
       "      <th>1</th>\n",
       "      <td>375bc2e5-1e09-4620-a780-c75d5a6aeb69</td>\n",
       "      <td>-7.775680</td>\n",
       "      <td>110.377647</td>\n",
       "      <td>2021-11-01 00:11:29</td>\n",
       "      <td>POINT (110.37764739990234 -7.77568)</td>\n",
       "      <td>Caturtunggal</td>\n",
       "      <td>Depok</td>\n",
       "      <td>Sleman</td>\n",
       "      <td>2021-11-01</td>\n",
       "    </tr>\n",
       "    <tr>\n",
       "      <th>10</th>\n",
       "      <td>375bc2e5-1e09-4620-a780-c75d5a6aeb69</td>\n",
       "      <td>-7.775863</td>\n",
       "      <td>110.377472</td>\n",
       "      <td>2021-11-01 01:02:37</td>\n",
       "      <td>POINT (110.37747192382812 -7.775863)</td>\n",
       "      <td>Caturtunggal</td>\n",
       "      <td>Depok</td>\n",
       "      <td>Sleman</td>\n",
       "      <td>2021-11-01</td>\n",
       "    </tr>\n",
       "    <tr>\n",
       "      <th>11</th>\n",
       "      <td>375bc2e5-1e09-4620-a780-c75d5a6aeb69</td>\n",
       "      <td>-7.775863</td>\n",
       "      <td>110.377472</td>\n",
       "      <td>2021-11-01 01:02:37</td>\n",
       "      <td>POINT (110.37747192382812 -7.775863)</td>\n",
       "      <td>Caturtunggal</td>\n",
       "      <td>Depok</td>\n",
       "      <td>Sleman</td>\n",
       "      <td>2021-11-01</td>\n",
       "    </tr>\n",
       "    <tr>\n",
       "      <th>12</th>\n",
       "      <td>375bc2e5-1e09-4620-a780-c75d5a6aeb69</td>\n",
       "      <td>-7.775870</td>\n",
       "      <td>110.377472</td>\n",
       "      <td>2021-11-01 01:02:47</td>\n",
       "      <td>POINT (110.37747192382812 -7.77587)</td>\n",
       "      <td>Caturtunggal</td>\n",
       "      <td>Depok</td>\n",
       "      <td>Sleman</td>\n",
       "      <td>2021-11-01</td>\n",
       "    </tr>\n",
       "    <tr>\n",
       "      <th>...</th>\n",
       "      <td>...</td>\n",
       "      <td>...</td>\n",
       "      <td>...</td>\n",
       "      <td>...</td>\n",
       "      <td>...</td>\n",
       "      <td>...</td>\n",
       "      <td>...</td>\n",
       "      <td>...</td>\n",
       "      <td>...</td>\n",
       "    </tr>\n",
       "    <tr>\n",
       "      <th>465963</th>\n",
       "      <td>375bc2e5-1e09-4620-a780-c75d5a6aeb69</td>\n",
       "      <td>-7.775890</td>\n",
       "      <td>110.377541</td>\n",
       "      <td>2021-11-28 22:17:47</td>\n",
       "      <td>POINT (110.3775405883789 -7.77589)</td>\n",
       "      <td>Caturtunggal</td>\n",
       "      <td>Depok</td>\n",
       "      <td>Sleman</td>\n",
       "      <td>2021-11-28</td>\n",
       "    </tr>\n",
       "    <tr>\n",
       "      <th>465964</th>\n",
       "      <td>375bc2e5-1e09-4620-a780-c75d5a6aeb69</td>\n",
       "      <td>-7.775890</td>\n",
       "      <td>110.377541</td>\n",
       "      <td>2021-11-28 22:17:47</td>\n",
       "      <td>POINT (110.3775405883789 -7.77589)</td>\n",
       "      <td>Caturtunggal</td>\n",
       "      <td>Depok</td>\n",
       "      <td>Sleman</td>\n",
       "      <td>2021-11-28</td>\n",
       "    </tr>\n",
       "    <tr>\n",
       "      <th>466388</th>\n",
       "      <td>375bc2e5-1e09-4620-a780-c75d5a6aeb69</td>\n",
       "      <td>-7.775794</td>\n",
       "      <td>110.377495</td>\n",
       "      <td>2021-11-29 23:44:24</td>\n",
       "      <td>POINT (110.37749481201172 -7.775794)</td>\n",
       "      <td>Caturtunggal</td>\n",
       "      <td>Depok</td>\n",
       "      <td>Sleman</td>\n",
       "      <td>2021-11-29</td>\n",
       "    </tr>\n",
       "    <tr>\n",
       "      <th>466389</th>\n",
       "      <td>375bc2e5-1e09-4620-a780-c75d5a6aeb69</td>\n",
       "      <td>-7.775890</td>\n",
       "      <td>110.377518</td>\n",
       "      <td>2021-11-30 06:06:10</td>\n",
       "      <td>POINT (110.37751770019533 -7.77589)</td>\n",
       "      <td>Caturtunggal</td>\n",
       "      <td>Depok</td>\n",
       "      <td>Sleman</td>\n",
       "      <td>2021-11-30</td>\n",
       "    </tr>\n",
       "    <tr>\n",
       "      <th>466390</th>\n",
       "      <td>375bc2e5-1e09-4620-a780-c75d5a6aeb69</td>\n",
       "      <td>-7.775890</td>\n",
       "      <td>110.377518</td>\n",
       "      <td>2021-11-30 06:06:25</td>\n",
       "      <td>POINT (110.37751770019533 -7.77589)</td>\n",
       "      <td>Caturtunggal</td>\n",
       "      <td>Depok</td>\n",
       "      <td>Sleman</td>\n",
       "      <td>2021-11-30</td>\n",
       "    </tr>\n",
       "  </tbody>\n",
       "</table>\n",
       "<p>4275 rows × 9 columns</p>\n",
       "</div>"
      ],
      "text/plain": [
       "                                        maid  latitude   longitude  \\\n",
       "0       375bc2e5-1e09-4620-a780-c75d5a6aeb69 -7.775690  110.377663   \n",
       "1       375bc2e5-1e09-4620-a780-c75d5a6aeb69 -7.775680  110.377647   \n",
       "10      375bc2e5-1e09-4620-a780-c75d5a6aeb69 -7.775863  110.377472   \n",
       "11      375bc2e5-1e09-4620-a780-c75d5a6aeb69 -7.775863  110.377472   \n",
       "12      375bc2e5-1e09-4620-a780-c75d5a6aeb69 -7.775870  110.377472   \n",
       "...                                      ...       ...         ...   \n",
       "465963  375bc2e5-1e09-4620-a780-c75d5a6aeb69 -7.775890  110.377541   \n",
       "465964  375bc2e5-1e09-4620-a780-c75d5a6aeb69 -7.775890  110.377541   \n",
       "466388  375bc2e5-1e09-4620-a780-c75d5a6aeb69 -7.775794  110.377495   \n",
       "466389  375bc2e5-1e09-4620-a780-c75d5a6aeb69 -7.775890  110.377518   \n",
       "466390  375bc2e5-1e09-4620-a780-c75d5a6aeb69 -7.775890  110.377518   \n",
       "\n",
       "               datetime_wib                              geometry  \\\n",
       "0       2021-11-01 00:11:19    POINT (110.3776626586914 -7.77569)   \n",
       "1       2021-11-01 00:11:29   POINT (110.37764739990234 -7.77568)   \n",
       "10      2021-11-01 01:02:37  POINT (110.37747192382812 -7.775863)   \n",
       "11      2021-11-01 01:02:37  POINT (110.37747192382812 -7.775863)   \n",
       "12      2021-11-01 01:02:47   POINT (110.37747192382812 -7.77587)   \n",
       "...                     ...                                   ...   \n",
       "465963  2021-11-28 22:17:47    POINT (110.3775405883789 -7.77589)   \n",
       "465964  2021-11-28 22:17:47    POINT (110.3775405883789 -7.77589)   \n",
       "466388  2021-11-29 23:44:24  POINT (110.37749481201172 -7.775794)   \n",
       "466389  2021-11-30 06:06:10   POINT (110.37751770019533 -7.77589)   \n",
       "466390  2021-11-30 06:06:25   POINT (110.37751770019533 -7.77589)   \n",
       "\n",
       "       Kelurahan/Desa Kecamatan Kabupaten     tanggal  \n",
       "0        Caturtunggal     Depok    Sleman  2021-11-01  \n",
       "1        Caturtunggal     Depok    Sleman  2021-11-01  \n",
       "10       Caturtunggal     Depok    Sleman  2021-11-01  \n",
       "11       Caturtunggal     Depok    Sleman  2021-11-01  \n",
       "12       Caturtunggal     Depok    Sleman  2021-11-01  \n",
       "...               ...       ...       ...         ...  \n",
       "465963   Caturtunggal     Depok    Sleman  2021-11-28  \n",
       "465964   Caturtunggal     Depok    Sleman  2021-11-28  \n",
       "466388   Caturtunggal     Depok    Sleman  2021-11-29  \n",
       "466389   Caturtunggal     Depok    Sleman  2021-11-30  \n",
       "466390   Caturtunggal     Depok    Sleman  2021-11-30  \n",
       "\n",
       "[4275 rows x 9 columns]"
      ]
     },
     "execution_count": 13,
     "metadata": {},
     "output_type": "execute_result"
    }
   ],
   "source": [
    "df2_filter1[df2_filter1[\"maid\"] == '375bc2e5-1e09-4620-a780-c75d5a6aeb69']"
   ]
  },
  {
   "cell_type": "code",
   "execution_count": null,
   "id": "f2fc56c4",
   "metadata": {},
   "outputs": [],
   "source": []
  }
 ],
 "metadata": {
  "kernelspec": {
   "display_name": "Python 3 (ipykernel)",
   "language": "python",
   "name": "python3"
  },
  "language_info": {
   "codemirror_mode": {
    "name": "ipython",
    "version": 3
   },
   "file_extension": ".py",
   "mimetype": "text/x-python",
   "name": "python",
   "nbconvert_exporter": "python",
   "pygments_lexer": "ipython3",
   "version": "3.10.13"
  }
 },
 "nbformat": 4,
 "nbformat_minor": 5
}
