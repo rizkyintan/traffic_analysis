{
 "cells": [
  {
   "cell_type": "code",
   "execution_count": 2,
   "id": "05b81567",
   "metadata": {},
   "outputs": [],
   "source": [
    "import pandas as pd\n",
    "import matplotlib.pyplot as plt\n",
    "import numpy as np\n",
    "import geopandas as gpd\n",
    "from geopandas import GeoDataFrame\n",
    "from shapely.geometry import Point\n",
    "import skmob\n",
    "from skmob import preprocessing"
   ]
  },
  {
   "cell_type": "markdown",
   "id": "e558928d",
   "metadata": {},
   "source": [
    "## Lihat persebaran data"
   ]
  },
  {
   "cell_type": "code",
   "execution_count": 3,
   "id": "4fef4dde",
   "metadata": {},
   "outputs": [],
   "source": [
    "def bar_chart(path):\n",
    "    data = pd.read_csv(path)\n",
    "    data.drop({'Unnamed: 0'},axis=1)\n",
    "    filtered_data = data.copy()\n",
    "\n",
    "    # Hapus duplikat 'maid' berdasarkan tanggal\n",
    "    filtered_data_unique_maid = filtered_data.drop_duplicates(subset=['tanggal', 'maid'])\n",
    "\n",
    "    # Hitung jumlah unik per hari\n",
    "    jumlah_unik_per_hari = filtered_data_unique_maid.groupby('tanggal').size()\n",
    "\n",
    "    # Plotting\n",
    "    plt.figure(figsize=(10, 6))\n",
    "    jumlah_unik_per_hari.plot(kind='bar', color='skyblue')\n",
    "    plt.title('Jumlah Data Maid unik per Hari')\n",
    "    plt.xlabel('Tanggal')\n",
    "    plt.ylabel('Jumlah Data Unik')\n",
    "    plt.xticks(rotation=75)\n",
    "    plt.show()"
   ]
  },
  {
   "cell_type": "code",
   "execution_count": 4,
   "id": "bbc72a3a",
   "metadata": {},
   "outputs": [],
   "source": [
    "def count_maid(path):\n",
    "    data = pd.read_csv(path)\n",
    "    data.drop({'Unnamed: 0'},axis=1)\n",
    "    filtered_data = data.copy()\n",
    "    \n",
    "    # Ganti 'datetime_wib' sesuai nama kolom datetime di data-mu\n",
    "    filtered_data['datetime_wib'] = pd.to_datetime(filtered_data['datetime_wib'])\n",
    "    filtered_data['tanggal'] = filtered_data['datetime_wib'].dt.date\n",
    "\n",
    "    # Hitung jumlah 'maid' unik per hari\n",
    "    jumlah_maid_unik_per_hari = filtered_data.groupby('tanggal')['maid'].nunique()\n",
    "\n",
    "    # Print hasilnya\n",
    "    print(\"Jumlah ID user unik: \", data['maid'].nunique())\n",
    "#     print(jumlah_maid_unik_per_hari)\n"
   ]
  },
  {
   "cell_type": "code",
   "execution_count": 5,
   "id": "1ef24102",
   "metadata": {},
   "outputs": [],
   "source": [
    "def count_bykelurahan(path):\n",
    "    data = pd.read_csv(path)\n",
    "    data.drop({'Unnamed: 0'},axis=1)\n",
    "    filtered_data = data.copy()\n",
    "\n",
    "    # Hitung jumlah 'maid' unik per hari\n",
    "    jumlah_maid_unik = filtered_data.groupby('Kelurahan/Desa')['maid'].nunique()\n",
    "\n",
    "    # Print hasilnya\n",
    "    print(jumlah_maid_unik)\n"
   ]
  },
  {
   "cell_type": "markdown",
   "id": "74342a17",
   "metadata": {},
   "source": [
    "## Desember 2021"
   ]
  },
  {
   "cell_type": "code",
   "execution_count": 39,
   "id": "b9ab92cc",
   "metadata": {},
   "outputs": [
    {
     "name": "stdout",
     "output_type": "stream",
     "text": [
      "Kelurahan/Desa\n",
      "Kelurahan Gowongan           26\n",
      "Kelurahan Ngupasan         7573\n",
      "Kelurahan Prawirodirjan     246\n",
      "Kelurahan Sosromenduran     424\n",
      "Kelurahan Suryatmajan      1433\n",
      "Name: maid, dtype: int64\n",
      "Jumlah ID user unik:  9402\n"
     ]
    },
    {
     "data": {
      "image/png": "[encoded data removed]",
      "text/plain": [
       "<Figure size 1000x600 with 1 Axes>"
      ]
     },
     "metadata": {},
     "output_type": "display_data"
    }
   ],
   "source": [
    "path = './filter1_malioboro_des.csv'\n",
    "data = pd.read_csv(path)\n",
    "data.drop({'Unnamed: 0'},axis=1)\n",
    "\n",
    "count_bykelurahan(path)\n",
    "count_maid(path)\n",
    "bar_chart(path)"
   ]
  },
  {
   "cell_type": "code",
   "execution_count": 30,
   "id": "e99d7fa4",
   "metadata": {},
   "outputs": [
    {
     "data": {
      "text/html": [
       "<div>\n",
       "<style scoped>\n",
       "    .dataframe tbody tr th:only-of-type {\n",
       "        vertical-align: middle;\n",
       "    }\n",
       "\n",
       "    .dataframe tbody tr th {\n",
       "        vertical-align: top;\n",
       "    }\n",
       "\n",
       "    .dataframe thead th {\n",
       "        text-align: right;\n",
       "    }\n",
       "</style>\n",
       "<table border=\"1\" class=\"dataframe\">\n",
       "  <thead>\n",
       "    <tr style=\"text-align: right;\">\n",
       "      <th></th>\n",
       "      <th>Unnamed: 0</th>\n",
       "      <th>maid</th>\n",
       "      <th>latitude</th>\n",
       "      <th>longitude</th>\n",
       "      <th>datetime_wib</th>\n",
       "      <th>geometry</th>\n",
       "      <th>Kelurahan/Desa</th>\n",
       "      <th>Kecamatan</th>\n",
       "      <th>Kabupaten</th>\n",
       "      <th>tanggal</th>\n",
       "    </tr>\n",
       "  </thead>\n",
       "  <tbody>\n",
       "    <tr>\n",
       "      <th>0</th>\n",
       "      <td>39</td>\n",
       "      <td>d60a2068-d7ea-48a7-a363-e3e7e0bd02cb</td>\n",
       "      <td>-7.794847</td>\n",
       "      <td>110.365608</td>\n",
       "      <td>2021-12-01 00:00:35</td>\n",
       "      <td>POINT (110.36560821533205 -7.794847)</td>\n",
       "      <td>Kelurahan Suryatmajan</td>\n",
       "      <td>Danurejan</td>\n",
       "      <td>Kota Yogyakarta</td>\n",
       "      <td>2021-12-01</td>\n",
       "    </tr>\n",
       "    <tr>\n",
       "      <th>1</th>\n",
       "      <td>102</td>\n",
       "      <td>3ad1fad6-400a-4ae9-8610-c2d355dcd9f9</td>\n",
       "      <td>-7.794029</td>\n",
       "      <td>110.365944</td>\n",
       "      <td>2021-12-01 00:01:24</td>\n",
       "      <td>POINT (110.3659439086914 -7.794029)</td>\n",
       "      <td>Kelurahan Suryatmajan</td>\n",
       "      <td>Danurejan</td>\n",
       "      <td>Kota Yogyakarta</td>\n",
       "      <td>2021-12-01</td>\n",
       "    </tr>\n",
       "    <tr>\n",
       "      <th>2</th>\n",
       "      <td>103</td>\n",
       "      <td>3ad1fad6-400a-4ae9-8610-c2d355dcd9f9</td>\n",
       "      <td>-7.794029</td>\n",
       "      <td>110.365944</td>\n",
       "      <td>2021-12-01 00:01:24</td>\n",
       "      <td>POINT (110.3659439086914 -7.794029)</td>\n",
       "      <td>Kelurahan Suryatmajan</td>\n",
       "      <td>Danurejan</td>\n",
       "      <td>Kota Yogyakarta</td>\n",
       "      <td>2021-12-01</td>\n",
       "    </tr>\n",
       "    <tr>\n",
       "      <th>3</th>\n",
       "      <td>104</td>\n",
       "      <td>d60a2068-d7ea-48a7-a363-e3e7e0bd02cb</td>\n",
       "      <td>-7.794847</td>\n",
       "      <td>110.365608</td>\n",
       "      <td>2021-12-01 00:01:27</td>\n",
       "      <td>POINT (110.36560821533205 -7.794847)</td>\n",
       "      <td>Kelurahan Suryatmajan</td>\n",
       "      <td>Danurejan</td>\n",
       "      <td>Kota Yogyakarta</td>\n",
       "      <td>2021-12-01</td>\n",
       "    </tr>\n",
       "    <tr>\n",
       "      <th>4</th>\n",
       "      <td>105</td>\n",
       "      <td>d60a2068-d7ea-48a7-a363-e3e7e0bd02cb</td>\n",
       "      <td>-7.794847</td>\n",
       "      <td>110.365608</td>\n",
       "      <td>2021-12-01 00:01:27</td>\n",
       "      <td>POINT (110.36560821533205 -7.794847)</td>\n",
       "      <td>Kelurahan Suryatmajan</td>\n",
       "      <td>Danurejan</td>\n",
       "      <td>Kota Yogyakarta</td>\n",
       "      <td>2021-12-01</td>\n",
       "    </tr>\n",
       "  </tbody>\n",
       "</table>\n",
       "</div>"
      ],
      "text/plain": [
       "   Unnamed: 0                                  maid  latitude   longitude  \\\n",
       "0          39  d60a2068-d7ea-48a7-a363-e3e7e0bd02cb -7.794847  110.365608   \n",
       "1         102  3ad1fad6-400a-4ae9-8610-c2d355dcd9f9 -7.794029  110.365944   \n",
       "2         103  3ad1fad6-400a-4ae9-8610-c2d355dcd9f9 -7.794029  110.365944   \n",
       "3         104  d60a2068-d7ea-48a7-a363-e3e7e0bd02cb -7.794847  110.365608   \n",
       "4         105  d60a2068-d7ea-48a7-a363-e3e7e0bd02cb -7.794847  110.365608   \n",
       "\n",
       "          datetime_wib                              geometry  \\\n",
       "0  2021-12-01 00:00:35  POINT (110.36560821533205 -7.794847)   \n",
       "1  2021-12-01 00:01:24   POINT (110.3659439086914 -7.794029)   \n",
       "2  2021-12-01 00:01:24   POINT (110.3659439086914 -7.794029)   \n",
       "3  2021-12-01 00:01:27  POINT (110.36560821533205 -7.794847)   \n",
       "4  2021-12-01 00:01:27  POINT (110.36560821533205 -7.794847)   \n",
       "\n",
       "          Kelurahan/Desa  Kecamatan        Kabupaten     tanggal  \n",
       "0  Kelurahan Suryatmajan  Danurejan  Kota Yogyakarta  2021-12-01  \n",
       "1  Kelurahan Suryatmajan  Danurejan  Kota Yogyakarta  2021-12-01  \n",
       "2  Kelurahan Suryatmajan  Danurejan  Kota Yogyakarta  2021-12-01  \n",
       "3  Kelurahan Suryatmajan  Danurejan  Kota Yogyakarta  2021-12-01  \n",
       "4  Kelurahan Suryatmajan  Danurejan  Kota Yogyakarta  2021-12-01  "
      ]
     },
     "execution_count": 30,
     "metadata": {},
     "output_type": "execute_result"
    }
   ],
   "source": [
    "data.head()"
   ]
  },
  {
   "cell_type": "code",
   "execution_count": 40,
   "id": "375eb103",
   "metadata": {},
   "outputs": [
    {
     "data": {
      "text/plain": [
       "Unnamed: 0        149307\n",
       "maid                9402\n",
       "latitude            6469\n",
       "longitude            811\n",
       "datetime_wib       43375\n",
       "geometry           26458\n",
       "Kelurahan/Desa         5\n",
       "Kecamatan              4\n",
       "Kabupaten              1\n",
       "tanggal               31\n",
       "dtype: int64"
      ]
     },
     "execution_count": 40,
     "metadata": {},
     "output_type": "execute_result"
    }
   ],
   "source": [
    "data.nunique()"
   ]
  },
  {
   "cell_type": "markdown",
   "id": "f09f2241",
   "metadata": {},
   "source": [
    "## Januari 2022"
   ]
  },
  {
   "cell_type": "code",
   "execution_count": 41,
   "id": "95b5701d",
   "metadata": {},
   "outputs": [
    {
     "name": "stdout",
     "output_type": "stream",
     "text": [
      "Kelurahan/Desa\n",
      "Kelurahan Gowongan           22\n",
      "Kelurahan Ngupasan         6556\n",
      "Kelurahan Prawirodirjan     551\n",
      "Kelurahan Sosromenduran    1289\n",
      "Kelurahan Suryatmajan      2746\n",
      "Name: maid, dtype: int64\n",
      "Jumlah ID user unik:  9228\n"
     ]
    },
    {
     "data": {
      "image/png": "[encoded data removed]",
      "text/plain": [
       "<Figure size 1000x600 with 1 Axes>"
      ]
     },
     "metadata": {},
     "output_type": "display_data"
    }
   ],
   "source": [
    "path = './filter1_malioboro_jan.csv'\n",
    "data = pd.read_csv(path)\n",
    "data.drop({'Unnamed: 0'},axis=1)\n",
    "\n",
    "count_bykelurahan(path)\n",
    "count_maid(path)\n",
    "bar_chart(path)"
   ]
  },
  {
   "cell_type": "code",
   "execution_count": 42,
   "id": "c113954f",
   "metadata": {},
   "outputs": [
    {
     "data": {
      "text/html": [
       "<div>\n",
       "<style scoped>\n",
       "    .dataframe tbody tr th:only-of-type {\n",
       "        vertical-align: middle;\n",
       "    }\n",
       "\n",
       "    .dataframe tbody tr th {\n",
       "        vertical-align: top;\n",
       "    }\n",
       "\n",
       "    .dataframe thead th {\n",
       "        text-align: right;\n",
       "    }\n",
       "</style>\n",
       "<table border=\"1\" class=\"dataframe\">\n",
       "  <thead>\n",
       "    <tr style=\"text-align: right;\">\n",
       "      <th></th>\n",
       "      <th>Unnamed: 0</th>\n",
       "      <th>maid</th>\n",
       "      <th>latitude</th>\n",
       "      <th>longitude</th>\n",
       "      <th>datetime_wib</th>\n",
       "      <th>geometry</th>\n",
       "      <th>Kelurahan/Desa</th>\n",
       "      <th>Kecamatan</th>\n",
       "      <th>Kabupaten</th>\n",
       "      <th>tanggal</th>\n",
       "    </tr>\n",
       "  </thead>\n",
       "  <tbody>\n",
       "    <tr>\n",
       "      <th>0</th>\n",
       "      <td>5986476</td>\n",
       "      <td>49634199-8f25-4a73-9b60-9632d847e020</td>\n",
       "      <td>-7.800140</td>\n",
       "      <td>110.36499</td>\n",
       "      <td>2022-01-01 00:17:18</td>\n",
       "      <td>POINT (110.364990234375 -7.80014)</td>\n",
       "      <td>Kelurahan Ngupasan</td>\n",
       "      <td>Gondomanan</td>\n",
       "      <td>Kota Yogyakarta</td>\n",
       "      <td>2022-01-01</td>\n",
       "    </tr>\n",
       "    <tr>\n",
       "      <th>1</th>\n",
       "      <td>5986477</td>\n",
       "      <td>49634199-8f25-4a73-9b60-9632d847e020</td>\n",
       "      <td>-7.800145</td>\n",
       "      <td>110.36499</td>\n",
       "      <td>2022-01-01 00:17:28</td>\n",
       "      <td>POINT (110.364990234375 -7.800145)</td>\n",
       "      <td>Kelurahan Ngupasan</td>\n",
       "      <td>Gondomanan</td>\n",
       "      <td>Kota Yogyakarta</td>\n",
       "      <td>2022-01-01</td>\n",
       "    </tr>\n",
       "    <tr>\n",
       "      <th>2</th>\n",
       "      <td>5986478</td>\n",
       "      <td>49634199-8f25-4a73-9b60-9632d847e020</td>\n",
       "      <td>-7.800150</td>\n",
       "      <td>110.36499</td>\n",
       "      <td>2022-01-01 00:17:28</td>\n",
       "      <td>POINT (110.364990234375 -7.80015)</td>\n",
       "      <td>Kelurahan Ngupasan</td>\n",
       "      <td>Gondomanan</td>\n",
       "      <td>Kota Yogyakarta</td>\n",
       "      <td>2022-01-01</td>\n",
       "    </tr>\n",
       "    <tr>\n",
       "      <th>3</th>\n",
       "      <td>5986479</td>\n",
       "      <td>49634199-8f25-4a73-9b60-9632d847e020</td>\n",
       "      <td>-7.800145</td>\n",
       "      <td>110.36499</td>\n",
       "      <td>2022-01-01 00:17:28</td>\n",
       "      <td>POINT (110.364990234375 -7.800145)</td>\n",
       "      <td>Kelurahan Ngupasan</td>\n",
       "      <td>Gondomanan</td>\n",
       "      <td>Kota Yogyakarta</td>\n",
       "      <td>2022-01-01</td>\n",
       "    </tr>\n",
       "    <tr>\n",
       "      <th>4</th>\n",
       "      <td>5986480</td>\n",
       "      <td>49634199-8f25-4a73-9b60-9632d847e020</td>\n",
       "      <td>-7.800145</td>\n",
       "      <td>110.36499</td>\n",
       "      <td>2022-01-01 00:17:28</td>\n",
       "      <td>POINT (110.364990234375 -7.800145)</td>\n",
       "      <td>Kelurahan Ngupasan</td>\n",
       "      <td>Gondomanan</td>\n",
       "      <td>Kota Yogyakarta</td>\n",
       "      <td>2022-01-01</td>\n",
       "    </tr>\n",
       "  </tbody>\n",
       "</table>\n",
       "</div>"
      ],
      "text/plain": [
       "   Unnamed: 0                                  maid  latitude  longitude  \\\n",
       "0     5986476  49634199-8f25-4a73-9b60-9632d847e020 -7.800140  110.36499   \n",
       "1     5986477  49634199-8f25-4a73-9b60-9632d847e020 -7.800145  110.36499   \n",
       "2     5986478  49634199-8f25-4a73-9b60-9632d847e020 -7.800150  110.36499   \n",
       "3     5986479  49634199-8f25-4a73-9b60-9632d847e020 -7.800145  110.36499   \n",
       "4     5986480  49634199-8f25-4a73-9b60-9632d847e020 -7.800145  110.36499   \n",
       "\n",
       "          datetime_wib                            geometry  \\\n",
       "0  2022-01-01 00:17:18   POINT (110.364990234375 -7.80014)   \n",
       "1  2022-01-01 00:17:28  POINT (110.364990234375 -7.800145)   \n",
       "2  2022-01-01 00:17:28   POINT (110.364990234375 -7.80015)   \n",
       "3  2022-01-01 00:17:28  POINT (110.364990234375 -7.800145)   \n",
       "4  2022-01-01 00:17:28  POINT (110.364990234375 -7.800145)   \n",
       "\n",
       "       Kelurahan/Desa   Kecamatan        Kabupaten     tanggal  \n",
       "0  Kelurahan Ngupasan  Gondomanan  Kota Yogyakarta  2022-01-01  \n",
       "1  Kelurahan Ngupasan  Gondomanan  Kota Yogyakarta  2022-01-01  \n",
       "2  Kelurahan Ngupasan  Gondomanan  Kota Yogyakarta  2022-01-01  \n",
       "3  Kelurahan Ngupasan  Gondomanan  Kota Yogyakarta  2022-01-01  \n",
       "4  Kelurahan Ngupasan  Gondomanan  Kota Yogyakarta  2022-01-01  "
      ]
     },
     "execution_count": 42,
     "metadata": {},
     "output_type": "execute_result"
    }
   ],
   "source": [
    "data.head()"
   ]
  },
  {
   "cell_type": "code",
   "execution_count": 43,
   "id": "d5cbab1a",
   "metadata": {},
   "outputs": [
    {
     "data": {
      "text/plain": [
       "Unnamed: 0        117527\n",
       "maid                9228\n",
       "latitude           12880\n",
       "longitude            774\n",
       "datetime_wib       55154\n",
       "geometry           37937\n",
       "Kelurahan/Desa         5\n",
       "Kecamatan              4\n",
       "Kabupaten              1\n",
       "tanggal               31\n",
       "dtype: int64"
      ]
     },
     "execution_count": 43,
     "metadata": {},
     "output_type": "execute_result"
    }
   ],
   "source": [
    "data.nunique()"
   ]
  },
  {
   "cell_type": "code",
   "execution_count": null,
   "id": "a18aefae",
   "metadata": {},
   "outputs": [],
   "source": []
  },
  {
   "cell_type": "markdown",
   "id": "3d1f52f9",
   "metadata": {},
   "source": [
    "## November 2021"
   ]
  },
  {
   "cell_type": "code",
   "execution_count": 6,
   "id": "9332392c",
   "metadata": {},
   "outputs": [
    {
     "name": "stdout",
     "output_type": "stream",
     "text": [
      "Kelurahan/Desa\n",
      "Kelurahan Gowongan            29\n",
      "Kelurahan Ngupasan         10215\n",
      "Kelurahan Prawirodirjan      436\n",
      "Kelurahan Sosromenduran     1105\n",
      "Kelurahan Suryatmajan       2341\n",
      "Name: maid, dtype: int64\n",
      "Jumlah ID user unik:  13106\n"
     ]
    },
    {
     "data": {
      "image/png": "[encoded data removed]",
      "text/plain": [
       "<Figure size 1000x600 with 1 Axes>"
      ]
     },
     "metadata": {},
     "output_type": "display_data"
    }
   ],
   "source": [
    "path = './filter1_malioboro_nov.csv'\n",
    "data = pd.read_csv(path)\n",
    "data.drop({'Unnamed: 0'},axis=1)\n",
    "\n",
    "count_bykelurahan(path)\n",
    "count_maid(path)\n",
    "bar_chart(path)"
   ]
  },
  {
   "cell_type": "code",
   "execution_count": 7,
   "id": "e0c1c9ea",
   "metadata": {},
   "outputs": [
    {
     "data": {
      "text/html": [
       "<div>\n",
       "<style scoped>\n",
       "    .dataframe tbody tr th:only-of-type {\n",
       "        vertical-align: middle;\n",
       "    }\n",
       "\n",
       "    .dataframe tbody tr th {\n",
       "        vertical-align: top;\n",
       "    }\n",
       "\n",
       "    .dataframe thead th {\n",
       "        text-align: right;\n",
       "    }\n",
       "</style>\n",
       "<table border=\"1\" class=\"dataframe\">\n",
       "  <thead>\n",
       "    <tr style=\"text-align: right;\">\n",
       "      <th></th>\n",
       "      <th>Unnamed: 0.1</th>\n",
       "      <th>Unnamed: 0</th>\n",
       "      <th>maid</th>\n",
       "      <th>latitude</th>\n",
       "      <th>longitude</th>\n",
       "      <th>datetime_wib</th>\n",
       "      <th>geometry</th>\n",
       "      <th>Kelurahan/Desa</th>\n",
       "      <th>Kecamatan</th>\n",
       "      <th>Kabupaten</th>\n",
       "      <th>tanggal</th>\n",
       "    </tr>\n",
       "  </thead>\n",
       "  <tbody>\n",
       "    <tr>\n",
       "      <th>0</th>\n",
       "      <td>1488284</td>\n",
       "      <td>1488284</td>\n",
       "      <td>31cdeb51-76f4-46c2-98cf-a4454cb93e72</td>\n",
       "      <td>-7.793918</td>\n",
       "      <td>110.364883</td>\n",
       "      <td>2021-11-01 00:00:16</td>\n",
       "      <td>POINT (110.36488342285156 -7.793918)</td>\n",
       "      <td>Kelurahan Sosromenduran</td>\n",
       "      <td>Gedongtengen</td>\n",
       "      <td>Kota Yogyakarta</td>\n",
       "      <td>2021-11-01</td>\n",
       "    </tr>\n",
       "    <tr>\n",
       "      <th>1</th>\n",
       "      <td>1488285</td>\n",
       "      <td>1488285</td>\n",
       "      <td>31cdeb51-76f4-46c2-98cf-a4454cb93e72</td>\n",
       "      <td>-7.793918</td>\n",
       "      <td>110.364883</td>\n",
       "      <td>2021-11-01 00:02:57</td>\n",
       "      <td>POINT (110.36488342285156 -7.793918)</td>\n",
       "      <td>Kelurahan Sosromenduran</td>\n",
       "      <td>Gedongtengen</td>\n",
       "      <td>Kota Yogyakarta</td>\n",
       "      <td>2021-11-01</td>\n",
       "    </tr>\n",
       "    <tr>\n",
       "      <th>2</th>\n",
       "      <td>1488286</td>\n",
       "      <td>1488286</td>\n",
       "      <td>31cdeb51-76f4-46c2-98cf-a4454cb93e72</td>\n",
       "      <td>-7.793940</td>\n",
       "      <td>110.364883</td>\n",
       "      <td>2021-11-01 00:03:11</td>\n",
       "      <td>POINT (110.36488342285156 -7.79394)</td>\n",
       "      <td>Kelurahan Sosromenduran</td>\n",
       "      <td>Gedongtengen</td>\n",
       "      <td>Kota Yogyakarta</td>\n",
       "      <td>2021-11-01</td>\n",
       "    </tr>\n",
       "    <tr>\n",
       "      <th>3</th>\n",
       "      <td>1488287</td>\n",
       "      <td>1488287</td>\n",
       "      <td>31cdeb51-76f4-46c2-98cf-a4454cb93e72</td>\n",
       "      <td>-7.793918</td>\n",
       "      <td>110.364883</td>\n",
       "      <td>2021-11-01 00:03:11</td>\n",
       "      <td>POINT (110.36488342285156 -7.793918)</td>\n",
       "      <td>Kelurahan Sosromenduran</td>\n",
       "      <td>Gedongtengen</td>\n",
       "      <td>Kota Yogyakarta</td>\n",
       "      <td>2021-11-01</td>\n",
       "    </tr>\n",
       "    <tr>\n",
       "      <th>4</th>\n",
       "      <td>1488288</td>\n",
       "      <td>1488288</td>\n",
       "      <td>31cdeb51-76f4-46c2-98cf-a4454cb93e72</td>\n",
       "      <td>-7.793930</td>\n",
       "      <td>110.364868</td>\n",
       "      <td>2021-11-01 00:03:22</td>\n",
       "      <td>POINT (110.3648681640625 -7.79393)</td>\n",
       "      <td>Kelurahan Sosromenduran</td>\n",
       "      <td>Gedongtengen</td>\n",
       "      <td>Kota Yogyakarta</td>\n",
       "      <td>2021-11-01</td>\n",
       "    </tr>\n",
       "  </tbody>\n",
       "</table>\n",
       "</div>"
      ],
      "text/plain": [
       "   Unnamed: 0.1  Unnamed: 0                                  maid  latitude  \\\n",
       "0       1488284     1488284  31cdeb51-76f4-46c2-98cf-a4454cb93e72 -7.793918   \n",
       "1       1488285     1488285  31cdeb51-76f4-46c2-98cf-a4454cb93e72 -7.793918   \n",
       "2       1488286     1488286  31cdeb51-76f4-46c2-98cf-a4454cb93e72 -7.793940   \n",
       "3       1488287     1488287  31cdeb51-76f4-46c2-98cf-a4454cb93e72 -7.793918   \n",
       "4       1488288     1488288  31cdeb51-76f4-46c2-98cf-a4454cb93e72 -7.793930   \n",
       "\n",
       "    longitude         datetime_wib                              geometry  \\\n",
       "0  110.364883  2021-11-01 00:00:16  POINT (110.36488342285156 -7.793918)   \n",
       "1  110.364883  2021-11-01 00:02:57  POINT (110.36488342285156 -7.793918)   \n",
       "2  110.364883  2021-11-01 00:03:11   POINT (110.36488342285156 -7.79394)   \n",
       "3  110.364883  2021-11-01 00:03:11  POINT (110.36488342285156 -7.793918)   \n",
       "4  110.364868  2021-11-01 00:03:22    POINT (110.3648681640625 -7.79393)   \n",
       "\n",
       "            Kelurahan/Desa     Kecamatan        Kabupaten     tanggal  \n",
       "0  Kelurahan Sosromenduran  Gedongtengen  Kota Yogyakarta  2021-11-01  \n",
       "1  Kelurahan Sosromenduran  Gedongtengen  Kota Yogyakarta  2021-11-01  \n",
       "2  Kelurahan Sosromenduran  Gedongtengen  Kota Yogyakarta  2021-11-01  \n",
       "3  Kelurahan Sosromenduran  Gedongtengen  Kota Yogyakarta  2021-11-01  \n",
       "4  Kelurahan Sosromenduran  Gedongtengen  Kota Yogyakarta  2021-11-01  "
      ]
     },
     "execution_count": 7,
     "metadata": {},
     "output_type": "execute_result"
    }
   ],
   "source": [
    "data.head()"
   ]
  },
  {
   "cell_type": "code",
   "execution_count": 8,
   "id": "f45d8515",
   "metadata": {},
   "outputs": [
    {
     "data": {
      "text/plain": [
       "Unnamed: 0.1      597265\n",
       "Unnamed: 0        597265\n",
       "maid               13106\n",
       "latitude            9314\n",
       "longitude            837\n",
       "datetime_wib      103084\n",
       "geometry           58483\n",
       "Kelurahan/Desa         5\n",
       "Kecamatan              4\n",
       "Kabupaten              1\n",
       "tanggal               30\n",
       "dtype: int64"
      ]
     },
     "execution_count": 8,
     "metadata": {},
     "output_type": "execute_result"
    }
   ],
   "source": [
    "data.nunique()"
   ]
  },
  {
   "cell_type": "code",
   "execution_count": null,
   "id": "88183fe4",
   "metadata": {},
   "outputs": [],
   "source": []
  }
 ],
 "metadata": {
  "kernelspec": {
   "display_name": "Python 3 (ipykernel)",
   "language": "python",
   "name": "python3"
  },
  "language_info": {
   "codemirror_mode": {
    "name": "ipython",
    "version": 3
   },
   "file_extension": ".py",
   "mimetype": "text/x-python",
   "name": "python",
   "nbconvert_exporter": "python",
   "pygments_lexer": "ipython3",
   "version": "3.10.13"
  }
 },
 "nbformat": 4,
 "nbformat_minor": 5
}
