{
 "cells": [
  {
   "cell_type": "code",
   "execution_count": 2,
   "metadata": {},
   "outputs": [],
   "source": [
    "import pandas as pd\n",
    "import matplotlib.pyplot as plt"
   ]
  },
  {
   "cell_type": "markdown",
   "metadata": {},
   "source": [
    "## Lihat persebaran data"
   ]
  },
  {
   "cell_type": "code",
   "execution_count": 3,
   "metadata": {},
   "outputs": [],
   "source": [
    "def count_maid(data):\n",
    "    filtered_data = data.copy()\n",
    "    \n",
    "    # Ganti 'datetime_wib' sesuai nama kolom datetime di data-mu\n",
    "    filtered_data['datetime_wib'] = pd.to_datetime(filtered_data['datetime_wib'])\n",
    "    filtered_data['tanggal'] = filtered_data['datetime_wib'].dt.date\n",
    "\n",
    "    # Hitung jumlah 'maid' unik per hari\n",
    "    jumlah_maid_unik_per_hari = filtered_data.groupby('tanggal')['maid'].nunique()\n",
    "\n",
    "    # Print hasilnya\n",
    "    # print(\"Jumlah ID user unik: \", data['maid'].nunique())\n",
    "    maid = data['maid'].nunique()\n",
    "    return(maid)\n",
    "#     print(jumlah_maid_unik_per_hari)\n"
   ]
  },
  {
   "cell_type": "code",
   "execution_count": 4,
   "metadata": {},
   "outputs": [],
   "source": [
    "def bar_chart(data):\n",
    "    filtered_data = data.copy()\n",
    "\n",
    "    # Hapus duplikat 'maid' berdasarkan tanggal\n",
    "    filtered_data_unique_maid = filtered_data.drop_duplicates(subset=['tanggal', 'maid'])\n",
    "\n",
    "    # Hitung jumlah unik per hari\n",
    "    jumlah_unik_per_hari = filtered_data_unique_maid.groupby('tanggal').size()\n",
    "\n",
    "    # Plotting\n",
    "    plt.figure(figsize=(10, 6))\n",
    "    jumlah_unik_per_hari.plot(kind='bar', color='skyblue')\n",
    "    maid = count_maid(data)\n",
    "    plt.title(f'Jumlah Data Maid unik per Hari: {maid}')\n",
    "    plt.xlabel('Tanggal')\n",
    "    plt.ylabel('Jumlah Data Unik')\n",
    "    plt.xticks(rotation=75)\n",
    "    plt.show()"
   ]
  },
  {
   "cell_type": "code",
   "execution_count": 5,
   "metadata": {},
   "outputs": [],
   "source": [
    "def count_bykelurahan(data):\n",
    "    filtered_data = data.copy()\n",
    "\n",
    "    # Hitung jumlah 'maid' unik per hari\n",
    "    jumlah_maid_unik = filtered_data.groupby('Kelurahan/Desa')['maid'].nunique()\n",
    "\n",
    "    # Print hasilnya\n",
    "    print(jumlah_maid_unik)\n"
   ]
  },
  {
   "cell_type": "code",
   "execution_count": 6,
   "metadata": {},
   "outputs": [],
   "source": [
    "def drop_columns(data):\n",
    "    if 'Unnamed: 0' in data.columns:\n",
    "        data = data.drop({'Unnamed: 0'},axis=1)\n",
    "    \n",
    "    if 'Unnamed: 0.1' in data.columns:\n",
    "        data = data.drop({'Unnamed: 0.1'},axis=1)\n",
    "\n",
    "    return data"
   ]
  },
  {
   "cell_type": "markdown",
   "metadata": {},
   "source": [
    "## Oktober 2021"
   ]
  },
  {
   "cell_type": "code",
   "execution_count": 7,
   "metadata": {},
   "outputs": [],
   "source": [
    "# path = './DataGPS_Malioboro/filter1_malioboro_okt.csv'\n",
    "# data = pd.read_csv(path)\n",
    "# data = drop_columns(data)\n",
    "\n",
    "# count_bykelurahan(data)\n",
    "# count_maid(data)\n",
    "# bar_chart(data)"
   ]
  },
  {
   "cell_type": "code",
   "execution_count": 8,
   "metadata": {},
   "outputs": [],
   "source": [
    "# data.head()"
   ]
  },
  {
   "cell_type": "code",
   "execution_count": 9,
   "metadata": {},
   "outputs": [],
   "source": [
    "# data.nunique()"
   ]
  },
  {
   "cell_type": "markdown",
   "metadata": {},
   "source": [
    "## November 2021"
   ]
  },
  {
   "cell_type": "code",
   "execution_count": 10,
   "metadata": {},
   "outputs": [
    {
     "name": "stdout",
     "output_type": "stream",
     "text": [
      "Kelurahan/Desa\n",
      "Caturtunggal    164\n",
      "Condongcatur    830\n",
      "Name: maid, dtype: int64\n"
     ]
    },
    {
     "data": {
      "image/png": "[encoded data removed]",
      "text/plain": [
       "<Figure size 1000x600 with 1 Axes>"
      ]
     },
     "metadata": {},
     "output_type": "display_data"
    }
   ],
   "source": [
    "path = './DataGPS_Affandi/filter1_affandi_nov.csv'\n",
    "data = pd.read_csv(path)\n",
    "data = drop_columns(data)\n",
    "\n",
    "count_bykelurahan(data)\n",
    "count_maid(data)\n",
    "bar_chart(data)"
   ]
  },
  {
   "cell_type": "code",
   "execution_count": 10,
   "metadata": {},
   "outputs": [
    {
     "data": {
      "text/html": [
       "<div>\n",
       "<style scoped>\n",
       "    .dataframe tbody tr th:only-of-type {\n",
       "        vertical-align: middle;\n",
       "    }\n",
       "\n",
       "    .dataframe tbody tr th {\n",
       "        vertical-align: top;\n",
       "    }\n",
       "\n",
       "    .dataframe thead th {\n",
       "        text-align: right;\n",
       "    }\n",
       "</style>\n",
       "<table border=\"1\" class=\"dataframe\">\n",
       "  <thead>\n",
       "    <tr style=\"text-align: right;\">\n",
       "      <th></th>\n",
       "      <th>maid</th>\n",
       "      <th>latitude</th>\n",
       "      <th>longitude</th>\n",
       "      <th>datetime_wib</th>\n",
       "      <th>geometry</th>\n",
       "      <th>Kelurahan/Desa</th>\n",
       "      <th>Kecamatan</th>\n",
       "      <th>Kabupaten</th>\n",
       "      <th>tanggal</th>\n",
       "    </tr>\n",
       "  </thead>\n",
       "  <tbody>\n",
       "    <tr>\n",
       "      <th>0</th>\n",
       "      <td>31cdeb51-76f4-46c2-98cf-a4454cb93e72</td>\n",
       "      <td>-7.793918</td>\n",
       "      <td>110.364883</td>\n",
       "      <td>2021-11-01 00:00:16</td>\n",
       "      <td>POINT (110.36488342285156 -7.793918)</td>\n",
       "      <td>Kelurahan Sosromenduran</td>\n",
       "      <td>Gedongtengen</td>\n",
       "      <td>Kota Yogyakarta</td>\n",
       "      <td>2021-11-01</td>\n",
       "    </tr>\n",
       "    <tr>\n",
       "      <th>1</th>\n",
       "      <td>31cdeb51-76f4-46c2-98cf-a4454cb93e72</td>\n",
       "      <td>-7.793918</td>\n",
       "      <td>110.364883</td>\n",
       "      <td>2021-11-01 00:02:57</td>\n",
       "      <td>POINT (110.36488342285156 -7.793918)</td>\n",
       "      <td>Kelurahan Sosromenduran</td>\n",
       "      <td>Gedongtengen</td>\n",
       "      <td>Kota Yogyakarta</td>\n",
       "      <td>2021-11-01</td>\n",
       "    </tr>\n",
       "    <tr>\n",
       "      <th>2</th>\n",
       "      <td>31cdeb51-76f4-46c2-98cf-a4454cb93e72</td>\n",
       "      <td>-7.793940</td>\n",
       "      <td>110.364883</td>\n",
       "      <td>2021-11-01 00:03:11</td>\n",
       "      <td>POINT (110.36488342285156 -7.79394)</td>\n",
       "      <td>Kelurahan Sosromenduran</td>\n",
       "      <td>Gedongtengen</td>\n",
       "      <td>Kota Yogyakarta</td>\n",
       "      <td>2021-11-01</td>\n",
       "    </tr>\n",
       "    <tr>\n",
       "      <th>3</th>\n",
       "      <td>31cdeb51-76f4-46c2-98cf-a4454cb93e72</td>\n",
       "      <td>-7.793918</td>\n",
       "      <td>110.364883</td>\n",
       "      <td>2021-11-01 00:03:11</td>\n",
       "      <td>POINT (110.36488342285156 -7.793918)</td>\n",
       "      <td>Kelurahan Sosromenduran</td>\n",
       "      <td>Gedongtengen</td>\n",
       "      <td>Kota Yogyakarta</td>\n",
       "      <td>2021-11-01</td>\n",
       "    </tr>\n",
       "    <tr>\n",
       "      <th>4</th>\n",
       "      <td>31cdeb51-76f4-46c2-98cf-a4454cb93e72</td>\n",
       "      <td>-7.793930</td>\n",
       "      <td>110.364868</td>\n",
       "      <td>2021-11-01 00:03:22</td>\n",
       "      <td>POINT (110.3648681640625 -7.79393)</td>\n",
       "      <td>Kelurahan Sosromenduran</td>\n",
       "      <td>Gedongtengen</td>\n",
       "      <td>Kota Yogyakarta</td>\n",
       "      <td>2021-11-01</td>\n",
       "    </tr>\n",
       "  </tbody>\n",
       "</table>\n",
       "</div>"
      ],
      "text/plain": [
       "                                   maid  latitude   longitude  \\\n",
       "0  31cdeb51-76f4-46c2-98cf-a4454cb93e72 -7.793918  110.364883   \n",
       "1  31cdeb51-76f4-46c2-98cf-a4454cb93e72 -7.793918  110.364883   \n",
       "2  31cdeb51-76f4-46c2-98cf-a4454cb93e72 -7.793940  110.364883   \n",
       "3  31cdeb51-76f4-46c2-98cf-a4454cb93e72 -7.793918  110.364883   \n",
       "4  31cdeb51-76f4-46c2-98cf-a4454cb93e72 -7.793930  110.364868   \n",
       "\n",
       "          datetime_wib                              geometry  \\\n",
       "0  2021-11-01 00:00:16  POINT (110.36488342285156 -7.793918)   \n",
       "1  2021-11-01 00:02:57  POINT (110.36488342285156 -7.793918)   \n",
       "2  2021-11-01 00:03:11   POINT (110.36488342285156 -7.79394)   \n",
       "3  2021-11-01 00:03:11  POINT (110.36488342285156 -7.793918)   \n",
       "4  2021-11-01 00:03:22    POINT (110.3648681640625 -7.79393)   \n",
       "\n",
       "            Kelurahan/Desa     Kecamatan        Kabupaten     tanggal  \n",
       "0  Kelurahan Sosromenduran  Gedongtengen  Kota Yogyakarta  2021-11-01  \n",
       "1  Kelurahan Sosromenduran  Gedongtengen  Kota Yogyakarta  2021-11-01  \n",
       "2  Kelurahan Sosromenduran  Gedongtengen  Kota Yogyakarta  2021-11-01  \n",
       "3  Kelurahan Sosromenduran  Gedongtengen  Kota Yogyakarta  2021-11-01  \n",
       "4  Kelurahan Sosromenduran  Gedongtengen  Kota Yogyakarta  2021-11-01  "
      ]
     },
     "execution_count": 10,
     "metadata": {},
     "output_type": "execute_result"
    }
   ],
   "source": [
    "data.head()"
   ]
  },
  {
   "cell_type": "code",
   "execution_count": 11,
   "metadata": {},
   "outputs": [
    {
     "data": {
      "text/plain": [
       "maid               13106\n",
       "latitude            9314\n",
       "longitude            837\n",
       "datetime_wib      103084\n",
       "geometry           58483\n",
       "Kelurahan/Desa         5\n",
       "Kecamatan              4\n",
       "Kabupaten              1\n",
       "tanggal               30\n",
       "dtype: int64"
      ]
     },
     "execution_count": 11,
     "metadata": {},
     "output_type": "execute_result"
    }
   ],
   "source": [
    "data.nunique()"
   ]
  },
  {
   "cell_type": "markdown",
   "metadata": {},
   "source": [
    "## Desember 2021"
   ]
  },
  {
   "cell_type": "code",
   "execution_count": 11,
   "metadata": {},
   "outputs": [
    {
     "name": "stdout",
     "output_type": "stream",
     "text": [
      "Kelurahan/Desa\n",
      "Caturtunggal    229\n",
      "Condongcatur    672\n",
      "Name: maid, dtype: int64\n"
     ]
    },
    {
     "data": {
      "image/png": "[encoded data removed]",
      "text/plain": [
       "<Figure size 1000x600 with 1 Axes>"
      ]
     },
     "metadata": {},
     "output_type": "display_data"
    }
   ],
   "source": [
    "path = './DataGPS_Affandi/filter1_affandi_des.csv'\n",
    "data = pd.read_csv(path)\n",
    "data = drop_columns(data)\n",
    "\n",
    "count_bykelurahan(data)\n",
    "count_maid(data)\n",
    "bar_chart(data)"
   ]
  },
  {
   "cell_type": "code",
   "execution_count": 7,
   "metadata": {},
   "outputs": [
    {
     "data": {
      "text/html": [
       "<div>\n",
       "<style scoped>\n",
       "    .dataframe tbody tr th:only-of-type {\n",
       "        vertical-align: middle;\n",
       "    }\n",
       "\n",
       "    .dataframe tbody tr th {\n",
       "        vertical-align: top;\n",
       "    }\n",
       "\n",
       "    .dataframe thead th {\n",
       "        text-align: right;\n",
       "    }\n",
       "</style>\n",
       "<table border=\"1\" class=\"dataframe\">\n",
       "  <thead>\n",
       "    <tr style=\"text-align: right;\">\n",
       "      <th></th>\n",
       "      <th>maid</th>\n",
       "      <th>latitude</th>\n",
       "      <th>longitude</th>\n",
       "      <th>datetime_wib</th>\n",
       "      <th>geometry</th>\n",
       "      <th>Kelurahan/Desa</th>\n",
       "      <th>Kecamatan</th>\n",
       "      <th>Kabupaten</th>\n",
       "      <th>tanggal</th>\n",
       "    </tr>\n",
       "  </thead>\n",
       "  <tbody>\n",
       "    <tr>\n",
       "      <th>0</th>\n",
       "      <td>63c24f60-2316-44c7-a5dd-c15e90ca44ad</td>\n",
       "      <td>-7.76271</td>\n",
       "      <td>110.393360</td>\n",
       "      <td>2021-12-01 00:01:15</td>\n",
       "      <td>POINT (110.39336 -7.76271)</td>\n",
       "      <td>Caturtunggal</td>\n",
       "      <td>Depok</td>\n",
       "      <td>Sleman</td>\n",
       "      <td>2021-12-01</td>\n",
       "    </tr>\n",
       "    <tr>\n",
       "      <th>1</th>\n",
       "      <td>63c24f60-2316-44c7-a5dd-c15e90ca44ad</td>\n",
       "      <td>-7.76271</td>\n",
       "      <td>110.393356</td>\n",
       "      <td>2021-12-01 00:01:15</td>\n",
       "      <td>POINT (110.3933563232422 -7.76271)</td>\n",
       "      <td>Caturtunggal</td>\n",
       "      <td>Depok</td>\n",
       "      <td>Sleman</td>\n",
       "      <td>2021-12-01</td>\n",
       "    </tr>\n",
       "    <tr>\n",
       "      <th>2</th>\n",
       "      <td>63c24f60-2316-44c7-a5dd-c15e90ca44ad</td>\n",
       "      <td>-7.76271</td>\n",
       "      <td>110.393356</td>\n",
       "      <td>2021-12-01 00:01:15</td>\n",
       "      <td>POINT (110.3933563232422 -7.76271)</td>\n",
       "      <td>Caturtunggal</td>\n",
       "      <td>Depok</td>\n",
       "      <td>Sleman</td>\n",
       "      <td>2021-12-01</td>\n",
       "    </tr>\n",
       "    <tr>\n",
       "      <th>3</th>\n",
       "      <td>63c24f60-2316-44c7-a5dd-c15e90ca44ad</td>\n",
       "      <td>-7.76271</td>\n",
       "      <td>110.393356</td>\n",
       "      <td>2021-12-01 00:03:59</td>\n",
       "      <td>POINT (110.3933563232422 -7.76271)</td>\n",
       "      <td>Caturtunggal</td>\n",
       "      <td>Depok</td>\n",
       "      <td>Sleman</td>\n",
       "      <td>2021-12-01</td>\n",
       "    </tr>\n",
       "    <tr>\n",
       "      <th>4</th>\n",
       "      <td>63c24f60-2316-44c7-a5dd-c15e90ca44ad</td>\n",
       "      <td>-7.76271</td>\n",
       "      <td>110.393356</td>\n",
       "      <td>2021-12-01 00:03:59</td>\n",
       "      <td>POINT (110.3933563232422 -7.76271)</td>\n",
       "      <td>Caturtunggal</td>\n",
       "      <td>Depok</td>\n",
       "      <td>Sleman</td>\n",
       "      <td>2021-12-01</td>\n",
       "    </tr>\n",
       "  </tbody>\n",
       "</table>\n",
       "</div>"
      ],
      "text/plain": [
       "                                   maid  latitude   longitude  \\\n",
       "0  63c24f60-2316-44c7-a5dd-c15e90ca44ad  -7.76271  110.393360   \n",
       "1  63c24f60-2316-44c7-a5dd-c15e90ca44ad  -7.76271  110.393356   \n",
       "2  63c24f60-2316-44c7-a5dd-c15e90ca44ad  -7.76271  110.393356   \n",
       "3  63c24f60-2316-44c7-a5dd-c15e90ca44ad  -7.76271  110.393356   \n",
       "4  63c24f60-2316-44c7-a5dd-c15e90ca44ad  -7.76271  110.393356   \n",
       "\n",
       "          datetime_wib                            geometry Kelurahan/Desa  \\\n",
       "0  2021-12-01 00:01:15          POINT (110.39336 -7.76271)   Caturtunggal   \n",
       "1  2021-12-01 00:01:15  POINT (110.3933563232422 -7.76271)   Caturtunggal   \n",
       "2  2021-12-01 00:01:15  POINT (110.3933563232422 -7.76271)   Caturtunggal   \n",
       "3  2021-12-01 00:03:59  POINT (110.3933563232422 -7.76271)   Caturtunggal   \n",
       "4  2021-12-01 00:03:59  POINT (110.3933563232422 -7.76271)   Caturtunggal   \n",
       "\n",
       "  Kecamatan Kabupaten     tanggal  \n",
       "0     Depok    Sleman  2021-12-01  \n",
       "1     Depok    Sleman  2021-12-01  \n",
       "2     Depok    Sleman  2021-12-01  \n",
       "3     Depok    Sleman  2021-12-01  \n",
       "4     Depok    Sleman  2021-12-01  "
      ]
     },
     "execution_count": 7,
     "metadata": {},
     "output_type": "execute_result"
    }
   ],
   "source": [
    "data.head()"
   ]
  },
  {
   "cell_type": "code",
   "execution_count": 8,
   "metadata": {},
   "outputs": [
    {
     "data": {
      "text/plain": [
       "maid               848\n",
       "latitude          1393\n",
       "longitude          574\n",
       "datetime_wib      4819\n",
       "geometry          3374\n",
       "Kelurahan/Desa       2\n",
       "Kecamatan            1\n",
       "Kabupaten            1\n",
       "tanggal             31\n",
       "dtype: int64"
      ]
     },
     "execution_count": 8,
     "metadata": {},
     "output_type": "execute_result"
    }
   ],
   "source": [
    "data.nunique()"
   ]
  },
  {
   "cell_type": "markdown",
   "metadata": {},
   "source": [
    "## Januari 2022"
   ]
  },
  {
   "cell_type": "code",
   "execution_count": 12,
   "metadata": {},
   "outputs": [
    {
     "name": "stdout",
     "output_type": "stream",
     "text": [
      "Kelurahan/Desa\n",
      "Caturtunggal     423\n",
      "Condongcatur    1747\n",
      "Name: maid, dtype: int64\n"
     ]
    },
    {
     "data": {
      "image/png": "[encoded data removed]",
      "text/plain": [
       "<Figure size 1000x600 with 1 Axes>"
      ]
     },
     "metadata": {},
     "output_type": "display_data"
    }
   ],
   "source": [
    "path = './DataGPS_Affandi/filter1_affandi_jan.csv'\n",
    "data = pd.read_csv(path)\n",
    "data = drop_columns(data)\n",
    "\n",
    "count_bykelurahan(data)\n",
    "count_maid(data)\n",
    "bar_chart(data)"
   ]
  },
  {
   "cell_type": "code",
   "execution_count": 13,
   "metadata": {},
   "outputs": [
    {
     "data": {
      "text/html": [
       "<div>\n",
       "<style scoped>\n",
       "    .dataframe tbody tr th:only-of-type {\n",
       "        vertical-align: middle;\n",
       "    }\n",
       "\n",
       "    .dataframe tbody tr th {\n",
       "        vertical-align: top;\n",
       "    }\n",
       "\n",
       "    .dataframe thead th {\n",
       "        text-align: right;\n",
       "    }\n",
       "</style>\n",
       "<table border=\"1\" class=\"dataframe\">\n",
       "  <thead>\n",
       "    <tr style=\"text-align: right;\">\n",
       "      <th></th>\n",
       "      <th>maid</th>\n",
       "      <th>latitude</th>\n",
       "      <th>longitude</th>\n",
       "      <th>datetime_wib</th>\n",
       "      <th>geometry</th>\n",
       "      <th>Kelurahan/Desa</th>\n",
       "      <th>Kecamatan</th>\n",
       "      <th>Kabupaten</th>\n",
       "      <th>tanggal</th>\n",
       "    </tr>\n",
       "  </thead>\n",
       "  <tbody>\n",
       "    <tr>\n",
       "      <th>0</th>\n",
       "      <td>97248250-431c-495f-b22e-b55000008eae</td>\n",
       "      <td>-7.762893</td>\n",
       "      <td>110.393936</td>\n",
       "      <td>2022-01-01 01:17:24</td>\n",
       "      <td>POINT (110.39393615722656 -7.7628927)</td>\n",
       "      <td>Caturtunggal</td>\n",
       "      <td>Depok</td>\n",
       "      <td>Sleman</td>\n",
       "      <td>2022-01-01</td>\n",
       "    </tr>\n",
       "    <tr>\n",
       "      <th>1</th>\n",
       "      <td>050d3373-6c6a-41be-a6aa-c4d7d0bca052</td>\n",
       "      <td>-7.762464</td>\n",
       "      <td>110.393684</td>\n",
       "      <td>2022-01-01 12:36:17</td>\n",
       "      <td>POINT (110.39368438720705 -7.762464)</td>\n",
       "      <td>Caturtunggal</td>\n",
       "      <td>Depok</td>\n",
       "      <td>Sleman</td>\n",
       "      <td>2022-01-01</td>\n",
       "    </tr>\n",
       "    <tr>\n",
       "      <th>2</th>\n",
       "      <td>050d3373-6c6a-41be-a6aa-c4d7d0bca052</td>\n",
       "      <td>-7.762464</td>\n",
       "      <td>110.393684</td>\n",
       "      <td>2022-01-01 12:36:17</td>\n",
       "      <td>POINT (110.39368438720705 -7.7624636)</td>\n",
       "      <td>Caturtunggal</td>\n",
       "      <td>Depok</td>\n",
       "      <td>Sleman</td>\n",
       "      <td>2022-01-01</td>\n",
       "    </tr>\n",
       "    <tr>\n",
       "      <th>3</th>\n",
       "      <td>050d3373-6c6a-41be-a6aa-c4d7d0bca052</td>\n",
       "      <td>-7.762464</td>\n",
       "      <td>110.393684</td>\n",
       "      <td>2022-01-01 12:37:34</td>\n",
       "      <td>POINT (110.39368438720705 -7.762464)</td>\n",
       "      <td>Caturtunggal</td>\n",
       "      <td>Depok</td>\n",
       "      <td>Sleman</td>\n",
       "      <td>2022-01-01</td>\n",
       "    </tr>\n",
       "    <tr>\n",
       "      <th>4</th>\n",
       "      <td>050d3373-6c6a-41be-a6aa-c4d7d0bca052</td>\n",
       "      <td>-7.762464</td>\n",
       "      <td>110.393684</td>\n",
       "      <td>2022-01-01 12:38:42</td>\n",
       "      <td>POINT (110.39368438720705 -7.762464)</td>\n",
       "      <td>Caturtunggal</td>\n",
       "      <td>Depok</td>\n",
       "      <td>Sleman</td>\n",
       "      <td>2022-01-01</td>\n",
       "    </tr>\n",
       "  </tbody>\n",
       "</table>\n",
       "</div>"
      ],
      "text/plain": [
       "                                   maid  latitude   longitude  \\\n",
       "0  97248250-431c-495f-b22e-b55000008eae -7.762893  110.393936   \n",
       "1  050d3373-6c6a-41be-a6aa-c4d7d0bca052 -7.762464  110.393684   \n",
       "2  050d3373-6c6a-41be-a6aa-c4d7d0bca052 -7.762464  110.393684   \n",
       "3  050d3373-6c6a-41be-a6aa-c4d7d0bca052 -7.762464  110.393684   \n",
       "4  050d3373-6c6a-41be-a6aa-c4d7d0bca052 -7.762464  110.393684   \n",
       "\n",
       "          datetime_wib                               geometry Kelurahan/Desa  \\\n",
       "0  2022-01-01 01:17:24  POINT (110.39393615722656 -7.7628927)   Caturtunggal   \n",
       "1  2022-01-01 12:36:17   POINT (110.39368438720705 -7.762464)   Caturtunggal   \n",
       "2  2022-01-01 12:36:17  POINT (110.39368438720705 -7.7624636)   Caturtunggal   \n",
       "3  2022-01-01 12:37:34   POINT (110.39368438720705 -7.762464)   Caturtunggal   \n",
       "4  2022-01-01 12:38:42   POINT (110.39368438720705 -7.762464)   Caturtunggal   \n",
       "\n",
       "  Kecamatan Kabupaten     tanggal  \n",
       "0     Depok    Sleman  2022-01-01  \n",
       "1     Depok    Sleman  2022-01-01  \n",
       "2     Depok    Sleman  2022-01-01  \n",
       "3     Depok    Sleman  2022-01-01  \n",
       "4     Depok    Sleman  2022-01-01  "
      ]
     },
     "execution_count": 13,
     "metadata": {},
     "output_type": "execute_result"
    }
   ],
   "source": [
    "data.head()"
   ]
  },
  {
   "cell_type": "code",
   "execution_count": 14,
   "metadata": {},
   "outputs": [
    {
     "data": {
      "text/plain": [
       "maid              1935\n",
       "latitude          4226\n",
       "longitude          549\n",
       "datetime_wib      9843\n",
       "geometry          8613\n",
       "Kelurahan/Desa       2\n",
       "Kecamatan            1\n",
       "Kabupaten            1\n",
       "tanggal             31\n",
       "dtype: int64"
      ]
     },
     "execution_count": 14,
     "metadata": {},
     "output_type": "execute_result"
    }
   ],
   "source": [
    "data.nunique()"
   ]
  },
  {
   "cell_type": "markdown",
   "metadata": {},
   "source": [
    "## Februari 2022"
   ]
  },
  {
   "cell_type": "code",
   "execution_count": 12,
   "metadata": {},
   "outputs": [
    {
     "name": "stdout",
     "output_type": "stream",
     "text": [
      "Kelurahan/Desa\n",
      "Caturtunggal     804\n",
      "Condongcatur    3420\n",
      "Name: maid, dtype: int64\n"
     ]
    },
    {
     "data": {
      "image/png": "[encoded data removed]",
      "text/plain": [
       "<Figure size 1000x600 with 1 Axes>"
      ]
     },
     "metadata": {},
     "output_type": "display_data"
    }
   ],
   "source": [
    "path = './DataGPS_Affandi/filter1_affandi_feb.csv'\n",
    "data = pd.read_csv(path)\n",
    "data = drop_columns(data)\n",
    "\n",
    "count_bykelurahan(data)\n",
    "count_maid(data)\n",
    "bar_chart(data)"
   ]
  },
  {
   "cell_type": "code",
   "execution_count": 16,
   "metadata": {},
   "outputs": [
    {
     "data": {
      "text/html": [
       "<div>\n",
       "<style scoped>\n",
       "    .dataframe tbody tr th:only-of-type {\n",
       "        vertical-align: middle;\n",
       "    }\n",
       "\n",
       "    .dataframe tbody tr th {\n",
       "        vertical-align: top;\n",
       "    }\n",
       "\n",
       "    .dataframe thead th {\n",
       "        text-align: right;\n",
       "    }\n",
       "</style>\n",
       "<table border=\"1\" class=\"dataframe\">\n",
       "  <thead>\n",
       "    <tr style=\"text-align: right;\">\n",
       "      <th></th>\n",
       "      <th>maid</th>\n",
       "      <th>latitude</th>\n",
       "      <th>longitude</th>\n",
       "      <th>datetime_wib</th>\n",
       "      <th>geometry</th>\n",
       "      <th>Kelurahan/Desa</th>\n",
       "      <th>Kecamatan</th>\n",
       "      <th>Kabupaten</th>\n",
       "      <th>tanggal</th>\n",
       "    </tr>\n",
       "  </thead>\n",
       "  <tbody>\n",
       "    <tr>\n",
       "      <th>0</th>\n",
       "      <td>03b954de-a549-477e-9c64-2986f539dce7</td>\n",
       "      <td>-7.763425</td>\n",
       "      <td>110.393578</td>\n",
       "      <td>2022-02-01 00:13:22</td>\n",
       "      <td>POINT (110.3935775756836 -7.763425)</td>\n",
       "      <td>Caturtunggal</td>\n",
       "      <td>Depok</td>\n",
       "      <td>Sleman</td>\n",
       "      <td>2022-02-01</td>\n",
       "    </tr>\n",
       "    <tr>\n",
       "      <th>1</th>\n",
       "      <td>7f518a6a-d3d2-4fc6-87da-fc9034fa7a86</td>\n",
       "      <td>-7.763670</td>\n",
       "      <td>110.393661</td>\n",
       "      <td>2022-02-01 06:03:36</td>\n",
       "      <td>POINT (110.39366149902344 -7.76367)</td>\n",
       "      <td>Caturtunggal</td>\n",
       "      <td>Depok</td>\n",
       "      <td>Sleman</td>\n",
       "      <td>2022-02-01</td>\n",
       "    </tr>\n",
       "    <tr>\n",
       "      <th>2</th>\n",
       "      <td>7f518a6a-d3d2-4fc6-87da-fc9034fa7a86</td>\n",
       "      <td>-7.763670</td>\n",
       "      <td>110.393661</td>\n",
       "      <td>2022-02-01 06:03:36</td>\n",
       "      <td>POINT (110.39366149902344 -7.76367)</td>\n",
       "      <td>Caturtunggal</td>\n",
       "      <td>Depok</td>\n",
       "      <td>Sleman</td>\n",
       "      <td>2022-02-01</td>\n",
       "    </tr>\n",
       "    <tr>\n",
       "      <th>3</th>\n",
       "      <td>8dcb33f3-3c9a-461c-b09b-33f0eafbe233</td>\n",
       "      <td>-7.762599</td>\n",
       "      <td>110.393837</td>\n",
       "      <td>2022-02-01 07:22:48</td>\n",
       "      <td>POINT (110.39383697509766 -7.762599)</td>\n",
       "      <td>Caturtunggal</td>\n",
       "      <td>Depok</td>\n",
       "      <td>Sleman</td>\n",
       "      <td>2022-02-01</td>\n",
       "    </tr>\n",
       "    <tr>\n",
       "      <th>4</th>\n",
       "      <td>8dcb33f3-3c9a-461c-b09b-33f0eafbe233</td>\n",
       "      <td>-7.762599</td>\n",
       "      <td>110.393837</td>\n",
       "      <td>2022-02-01 07:22:48</td>\n",
       "      <td>POINT (110.39383697509766 -7.762599)</td>\n",
       "      <td>Caturtunggal</td>\n",
       "      <td>Depok</td>\n",
       "      <td>Sleman</td>\n",
       "      <td>2022-02-01</td>\n",
       "    </tr>\n",
       "  </tbody>\n",
       "</table>\n",
       "</div>"
      ],
      "text/plain": [
       "                                   maid  latitude   longitude  \\\n",
       "0  03b954de-a549-477e-9c64-2986f539dce7 -7.763425  110.393578   \n",
       "1  7f518a6a-d3d2-4fc6-87da-fc9034fa7a86 -7.763670  110.393661   \n",
       "2  7f518a6a-d3d2-4fc6-87da-fc9034fa7a86 -7.763670  110.393661   \n",
       "3  8dcb33f3-3c9a-461c-b09b-33f0eafbe233 -7.762599  110.393837   \n",
       "4  8dcb33f3-3c9a-461c-b09b-33f0eafbe233 -7.762599  110.393837   \n",
       "\n",
       "          datetime_wib                              geometry Kelurahan/Desa  \\\n",
       "0  2022-02-01 00:13:22   POINT (110.3935775756836 -7.763425)   Caturtunggal   \n",
       "1  2022-02-01 06:03:36   POINT (110.39366149902344 -7.76367)   Caturtunggal   \n",
       "2  2022-02-01 06:03:36   POINT (110.39366149902344 -7.76367)   Caturtunggal   \n",
       "3  2022-02-01 07:22:48  POINT (110.39383697509766 -7.762599)   Caturtunggal   \n",
       "4  2022-02-01 07:22:48  POINT (110.39383697509766 -7.762599)   Caturtunggal   \n",
       "\n",
       "  Kecamatan Kabupaten     tanggal  \n",
       "0     Depok    Sleman  2022-02-01  \n",
       "1     Depok    Sleman  2022-02-01  \n",
       "2     Depok    Sleman  2022-02-01  \n",
       "3     Depok    Sleman  2022-02-01  \n",
       "4     Depok    Sleman  2022-02-01  "
      ]
     },
     "execution_count": 16,
     "metadata": {},
     "output_type": "execute_result"
    }
   ],
   "source": [
    "data.head()"
   ]
  },
  {
   "cell_type": "code",
   "execution_count": 17,
   "metadata": {},
   "outputs": [
    {
     "data": {
      "text/plain": [
       "maid               3625\n",
       "latitude           5809\n",
       "longitude           720\n",
       "datetime_wib      16836\n",
       "geometry          19629\n",
       "Kelurahan/Desa        2\n",
       "Kecamatan             1\n",
       "Kabupaten             1\n",
       "tanggal              28\n",
       "dtype: int64"
      ]
     },
     "execution_count": 17,
     "metadata": {},
     "output_type": "execute_result"
    }
   ],
   "source": [
    "data.nunique()"
   ]
  },
  {
   "cell_type": "markdown",
   "metadata": {},
   "source": [
    "## Maret 2022"
   ]
  },
  {
   "cell_type": "code",
   "execution_count": 13,
   "metadata": {},
   "outputs": [
    {
     "name": "stdout",
     "output_type": "stream",
     "text": [
      "Kelurahan/Desa\n",
      "Caturtunggal     55\n",
      "Condongcatur    302\n",
      "Name: maid, dtype: int64\n"
     ]
    },
    {
     "data": {
      "image/png": "[encoded data removed]",
      "text/plain": [
       "<Figure size 1000x600 with 1 Axes>"
      ]
     },
     "metadata": {},
     "output_type": "display_data"
    }
   ],
   "source": [
    "path = './DataGPS_Affandi/filter1_affandi_mar.csv'\n",
    "data = pd.read_csv(path)\n",
    "data = drop_columns(data)\n",
    "\n",
    "count_bykelurahan(data)\n",
    "count_maid(data)\n",
    "bar_chart(data)"
   ]
  },
  {
   "cell_type": "code",
   "execution_count": 22,
   "metadata": {},
   "outputs": [
    {
     "data": {
      "text/html": [
       "<div>\n",
       "<style scoped>\n",
       "    .dataframe tbody tr th:only-of-type {\n",
       "        vertical-align: middle;\n",
       "    }\n",
       "\n",
       "    .dataframe tbody tr th {\n",
       "        vertical-align: top;\n",
       "    }\n",
       "\n",
       "    .dataframe thead th {\n",
       "        text-align: right;\n",
       "    }\n",
       "</style>\n",
       "<table border=\"1\" class=\"dataframe\">\n",
       "  <thead>\n",
       "    <tr style=\"text-align: right;\">\n",
       "      <th></th>\n",
       "      <th>maid</th>\n",
       "      <th>latitude</th>\n",
       "      <th>longitude</th>\n",
       "      <th>datetime_wib</th>\n",
       "      <th>geometry</th>\n",
       "      <th>Kelurahan/Desa</th>\n",
       "      <th>Kecamatan</th>\n",
       "      <th>Kabupaten</th>\n",
       "      <th>tanggal</th>\n",
       "    </tr>\n",
       "  </thead>\n",
       "  <tbody>\n",
       "    <tr>\n",
       "      <th>0</th>\n",
       "      <td>ef9d058c-8c58-4865-96e0-64be4ff1f59e</td>\n",
       "      <td>-7.79311</td>\n",
       "      <td>110.365700</td>\n",
       "      <td>2022-03-01 00:04:09</td>\n",
       "      <td>POINT (110.3656997680664 -7.79311)</td>\n",
       "      <td>Kelurahan Sosromenduran</td>\n",
       "      <td>Gedongtengen</td>\n",
       "      <td>Kota Yogyakarta</td>\n",
       "      <td>2022-03-01</td>\n",
       "    </tr>\n",
       "    <tr>\n",
       "      <th>1</th>\n",
       "      <td>ef9d058c-8c58-4865-96e0-64be4ff1f59e</td>\n",
       "      <td>-7.79311</td>\n",
       "      <td>110.365707</td>\n",
       "      <td>2022-03-01 00:04:09</td>\n",
       "      <td>POINT (110.36570739746094 -7.79311)</td>\n",
       "      <td>Kelurahan Sosromenduran</td>\n",
       "      <td>Gedongtengen</td>\n",
       "      <td>Kota Yogyakarta</td>\n",
       "      <td>2022-03-01</td>\n",
       "    </tr>\n",
       "    <tr>\n",
       "      <th>2</th>\n",
       "      <td>ef9d058c-8c58-4865-96e0-64be4ff1f59e</td>\n",
       "      <td>-7.79311</td>\n",
       "      <td>110.365707</td>\n",
       "      <td>2022-03-01 00:04:09</td>\n",
       "      <td>POINT (110.36570739746094 -7.79311)</td>\n",
       "      <td>Kelurahan Sosromenduran</td>\n",
       "      <td>Gedongtengen</td>\n",
       "      <td>Kota Yogyakarta</td>\n",
       "      <td>2022-03-01</td>\n",
       "    </tr>\n",
       "    <tr>\n",
       "      <th>3</th>\n",
       "      <td>ef9d058c-8c58-4865-96e0-64be4ff1f59e</td>\n",
       "      <td>-7.79311</td>\n",
       "      <td>110.365707</td>\n",
       "      <td>2022-03-01 00:04:09</td>\n",
       "      <td>POINT (110.36570739746094 -7.79311)</td>\n",
       "      <td>Kelurahan Sosromenduran</td>\n",
       "      <td>Gedongtengen</td>\n",
       "      <td>Kota Yogyakarta</td>\n",
       "      <td>2022-03-01</td>\n",
       "    </tr>\n",
       "    <tr>\n",
       "      <th>4</th>\n",
       "      <td>ef9d058c-8c58-4865-96e0-64be4ff1f59e</td>\n",
       "      <td>-7.79311</td>\n",
       "      <td>110.365700</td>\n",
       "      <td>2022-03-01 00:04:09</td>\n",
       "      <td>POINT (110.3656997680664 -7.79311)</td>\n",
       "      <td>Kelurahan Sosromenduran</td>\n",
       "      <td>Gedongtengen</td>\n",
       "      <td>Kota Yogyakarta</td>\n",
       "      <td>2022-03-01</td>\n",
       "    </tr>\n",
       "  </tbody>\n",
       "</table>\n",
       "</div>"
      ],
      "text/plain": [
       "                                   maid  latitude   longitude  \\\n",
       "0  ef9d058c-8c58-4865-96e0-64be4ff1f59e  -7.79311  110.365700   \n",
       "1  ef9d058c-8c58-4865-96e0-64be4ff1f59e  -7.79311  110.365707   \n",
       "2  ef9d058c-8c58-4865-96e0-64be4ff1f59e  -7.79311  110.365707   \n",
       "3  ef9d058c-8c58-4865-96e0-64be4ff1f59e  -7.79311  110.365707   \n",
       "4  ef9d058c-8c58-4865-96e0-64be4ff1f59e  -7.79311  110.365700   \n",
       "\n",
       "          datetime_wib                             geometry  \\\n",
       "0  2022-03-01 00:04:09   POINT (110.3656997680664 -7.79311)   \n",
       "1  2022-03-01 00:04:09  POINT (110.36570739746094 -7.79311)   \n",
       "2  2022-03-01 00:04:09  POINT (110.36570739746094 -7.79311)   \n",
       "3  2022-03-01 00:04:09  POINT (110.36570739746094 -7.79311)   \n",
       "4  2022-03-01 00:04:09   POINT (110.3656997680664 -7.79311)   \n",
       "\n",
       "            Kelurahan/Desa     Kecamatan        Kabupaten     tanggal  \n",
       "0  Kelurahan Sosromenduran  Gedongtengen  Kota Yogyakarta  2022-03-01  \n",
       "1  Kelurahan Sosromenduran  Gedongtengen  Kota Yogyakarta  2022-03-01  \n",
       "2  Kelurahan Sosromenduran  Gedongtengen  Kota Yogyakarta  2022-03-01  \n",
       "3  Kelurahan Sosromenduran  Gedongtengen  Kota Yogyakarta  2022-03-01  \n",
       "4  Kelurahan Sosromenduran  Gedongtengen  Kota Yogyakarta  2022-03-01  "
      ]
     },
     "execution_count": 22,
     "metadata": {},
     "output_type": "execute_result"
    }
   ],
   "source": [
    "data.head()"
   ]
  },
  {
   "cell_type": "code",
   "execution_count": 23,
   "metadata": {},
   "outputs": [
    {
     "data": {
      "text/plain": [
       "maid               2426\n",
       "latitude           8201\n",
       "longitude           827\n",
       "datetime_wib      29394\n",
       "geometry          39152\n",
       "Kelurahan/Desa        5\n",
       "Kecamatan             4\n",
       "Kabupaten             1\n",
       "tanggal              31\n",
       "dtype: int64"
      ]
     },
     "execution_count": 23,
     "metadata": {},
     "output_type": "execute_result"
    }
   ],
   "source": [
    "data.nunique()"
   ]
  },
  {
   "cell_type": "markdown",
   "metadata": {},
   "source": [
    "## April 2022"
   ]
  },
  {
   "cell_type": "code",
   "execution_count": 14,
   "metadata": {},
   "outputs": [
    {
     "name": "stdout",
     "output_type": "stream",
     "text": [
      "Kelurahan/Desa\n",
      "Caturtunggal     36\n",
      "Condongcatur    209\n",
      "Name: maid, dtype: int64\n"
     ]
    },
    {
     "data": {
      "image/png": "[encoded data removed]",
      "text/plain": [
       "<Figure size 1000x600 with 1 Axes>"
      ]
     },
     "metadata": {},
     "output_type": "display_data"
    }
   ],
   "source": [
    "path = './DataGPS_Affandi/filter1_affandi_apr.csv'\n",
    "data = pd.read_csv(path)\n",
    "data = drop_columns(data)\n",
    "\n",
    "count_bykelurahan(data)\n",
    "count_maid(data)\n",
    "bar_chart(data)"
   ]
  },
  {
   "cell_type": "code",
   "execution_count": 20,
   "metadata": {},
   "outputs": [
    {
     "data": {
      "text/html": [
       "<div>\n",
       "<style scoped>\n",
       "    .dataframe tbody tr th:only-of-type {\n",
       "        vertical-align: middle;\n",
       "    }\n",
       "\n",
       "    .dataframe tbody tr th {\n",
       "        vertical-align: top;\n",
       "    }\n",
       "\n",
       "    .dataframe thead th {\n",
       "        text-align: right;\n",
       "    }\n",
       "</style>\n",
       "<table border=\"1\" class=\"dataframe\">\n",
       "  <thead>\n",
       "    <tr style=\"text-align: right;\">\n",
       "      <th></th>\n",
       "      <th>maid</th>\n",
       "      <th>latitude</th>\n",
       "      <th>longitude</th>\n",
       "      <th>datetime_wib</th>\n",
       "      <th>geometry</th>\n",
       "      <th>Kelurahan/Desa</th>\n",
       "      <th>Kecamatan</th>\n",
       "      <th>Kabupaten</th>\n",
       "      <th>tanggal</th>\n",
       "    </tr>\n",
       "  </thead>\n",
       "  <tbody>\n",
       "    <tr>\n",
       "      <th>0</th>\n",
       "      <td>cc23d464-dfc8-4ac3-9a47-be6ed2931965</td>\n",
       "      <td>-7.763130</td>\n",
       "      <td>110.393761</td>\n",
       "      <td>2022-04-01 08:37:36</td>\n",
       "      <td>POINT (110.39376068115234 -7.76313)</td>\n",
       "      <td>Caturtunggal</td>\n",
       "      <td>Depok</td>\n",
       "      <td>Sleman</td>\n",
       "      <td>2022-04-01</td>\n",
       "    </tr>\n",
       "    <tr>\n",
       "      <th>1</th>\n",
       "      <td>cc23d464-dfc8-4ac3-9a47-be6ed2931965</td>\n",
       "      <td>-7.763130</td>\n",
       "      <td>110.393768</td>\n",
       "      <td>2022-04-01 08:37:36</td>\n",
       "      <td>POINT (110.39376831054688 -7.76313)</td>\n",
       "      <td>Caturtunggal</td>\n",
       "      <td>Depok</td>\n",
       "      <td>Sleman</td>\n",
       "      <td>2022-04-01</td>\n",
       "    </tr>\n",
       "    <tr>\n",
       "      <th>2</th>\n",
       "      <td>cc23d464-dfc8-4ac3-9a47-be6ed2931965</td>\n",
       "      <td>-7.763122</td>\n",
       "      <td>110.393768</td>\n",
       "      <td>2022-04-01 08:37:36</td>\n",
       "      <td>POINT (110.39376831054688 -7.7631216)</td>\n",
       "      <td>Caturtunggal</td>\n",
       "      <td>Depok</td>\n",
       "      <td>Sleman</td>\n",
       "      <td>2022-04-01</td>\n",
       "    </tr>\n",
       "    <tr>\n",
       "      <th>3</th>\n",
       "      <td>cc23d464-dfc8-4ac3-9a47-be6ed2931965</td>\n",
       "      <td>-7.763122</td>\n",
       "      <td>110.393768</td>\n",
       "      <td>2022-04-01 08:37:36</td>\n",
       "      <td>POINT (110.39376831054688 -7.7631216)</td>\n",
       "      <td>Caturtunggal</td>\n",
       "      <td>Depok</td>\n",
       "      <td>Sleman</td>\n",
       "      <td>2022-04-01</td>\n",
       "    </tr>\n",
       "    <tr>\n",
       "      <th>4</th>\n",
       "      <td>cc23d464-dfc8-4ac3-9a47-be6ed2931965</td>\n",
       "      <td>-7.763121</td>\n",
       "      <td>110.393768</td>\n",
       "      <td>2022-04-01 08:37:36</td>\n",
       "      <td>POINT (110.39376831054688 -7.763121)</td>\n",
       "      <td>Caturtunggal</td>\n",
       "      <td>Depok</td>\n",
       "      <td>Sleman</td>\n",
       "      <td>2022-04-01</td>\n",
       "    </tr>\n",
       "  </tbody>\n",
       "</table>\n",
       "</div>"
      ],
      "text/plain": [
       "                                   maid  latitude   longitude  \\\n",
       "0  cc23d464-dfc8-4ac3-9a47-be6ed2931965 -7.763130  110.393761   \n",
       "1  cc23d464-dfc8-4ac3-9a47-be6ed2931965 -7.763130  110.393768   \n",
       "2  cc23d464-dfc8-4ac3-9a47-be6ed2931965 -7.763122  110.393768   \n",
       "3  cc23d464-dfc8-4ac3-9a47-be6ed2931965 -7.763122  110.393768   \n",
       "4  cc23d464-dfc8-4ac3-9a47-be6ed2931965 -7.763121  110.393768   \n",
       "\n",
       "          datetime_wib                               geometry Kelurahan/Desa  \\\n",
       "0  2022-04-01 08:37:36    POINT (110.39376068115234 -7.76313)   Caturtunggal   \n",
       "1  2022-04-01 08:37:36    POINT (110.39376831054688 -7.76313)   Caturtunggal   \n",
       "2  2022-04-01 08:37:36  POINT (110.39376831054688 -7.7631216)   Caturtunggal   \n",
       "3  2022-04-01 08:37:36  POINT (110.39376831054688 -7.7631216)   Caturtunggal   \n",
       "4  2022-04-01 08:37:36   POINT (110.39376831054688 -7.763121)   Caturtunggal   \n",
       "\n",
       "  Kecamatan Kabupaten     tanggal  \n",
       "0     Depok    Sleman  2022-04-01  \n",
       "1     Depok    Sleman  2022-04-01  \n",
       "2     Depok    Sleman  2022-04-01  \n",
       "3     Depok    Sleman  2022-04-01  \n",
       "4     Depok    Sleman  2022-04-01  "
      ]
     },
     "execution_count": 20,
     "metadata": {},
     "output_type": "execute_result"
    }
   ],
   "source": [
    "data.head()"
   ]
  },
  {
   "cell_type": "code",
   "execution_count": 21,
   "metadata": {},
   "outputs": [
    {
     "data": {
      "text/plain": [
       "maid               232\n",
       "latitude           613\n",
       "longitude          436\n",
       "datetime_wib      1398\n",
       "geometry          1347\n",
       "Kelurahan/Desa       2\n",
       "Kecamatan            1\n",
       "Kabupaten            1\n",
       "tanggal             29\n",
       "dtype: int64"
      ]
     },
     "execution_count": 21,
     "metadata": {},
     "output_type": "execute_result"
    }
   ],
   "source": [
    "data.nunique()"
   ]
  },
  {
   "cell_type": "markdown",
   "metadata": {},
   "source": [
    "## Mei 2022"
   ]
  },
  {
   "cell_type": "code",
   "execution_count": 22,
   "metadata": {},
   "outputs": [
    {
     "name": "stdout",
     "output_type": "stream",
     "text": [
      "Kelurahan/Desa\n",
      "Caturtunggal     615\n",
      "Condongcatur    2970\n",
      "Name: maid, dtype: int64\n"
     ]
    },
    {
     "data": {
      "image/png": "[encoded data removed]",
      "text/plain": [
       "<Figure size 1000x600 with 1 Axes>"
      ]
     },
     "metadata": {},
     "output_type": "display_data"
    }
   ],
   "source": [
    "path = './DataGPS_Affandi/filter1_affandi_mei.csv'\n",
    "data = pd.read_csv(path)\n",
    "data = drop_columns(data)\n",
    "\n",
    "count_bykelurahan(data)\n",
    "count_maid(data)\n",
    "bar_chart(data)"
   ]
  },
  {
   "cell_type": "code",
   "execution_count": 28,
   "metadata": {},
   "outputs": [
    {
     "data": {
      "text/html": [
       "<div>\n",
       "<style scoped>\n",
       "    .dataframe tbody tr th:only-of-type {\n",
       "        vertical-align: middle;\n",
       "    }\n",
       "\n",
       "    .dataframe tbody tr th {\n",
       "        vertical-align: top;\n",
       "    }\n",
       "\n",
       "    .dataframe thead th {\n",
       "        text-align: right;\n",
       "    }\n",
       "</style>\n",
       "<table border=\"1\" class=\"dataframe\">\n",
       "  <thead>\n",
       "    <tr style=\"text-align: right;\">\n",
       "      <th></th>\n",
       "      <th>maid</th>\n",
       "      <th>latitude</th>\n",
       "      <th>longitude</th>\n",
       "      <th>datetime_wib</th>\n",
       "      <th>geometry</th>\n",
       "      <th>Kelurahan/Desa</th>\n",
       "      <th>Kecamatan</th>\n",
       "      <th>Kabupaten</th>\n",
       "      <th>tanggal</th>\n",
       "    </tr>\n",
       "  </thead>\n",
       "  <tbody>\n",
       "    <tr>\n",
       "      <th>0</th>\n",
       "      <td>59b4ed3d-ed3d-49f3-c988-638c8671e4f6</td>\n",
       "      <td>-7.800270</td>\n",
       "      <td>110.364998</td>\n",
       "      <td>2022-05-01 01:23:14</td>\n",
       "      <td>POINT (110.36499786376952 -7.80027)</td>\n",
       "      <td>Kelurahan Ngupasan</td>\n",
       "      <td>Gondomanan</td>\n",
       "      <td>Kota Yogyakarta</td>\n",
       "      <td>2022-05-01</td>\n",
       "    </tr>\n",
       "    <tr>\n",
       "      <th>1</th>\n",
       "      <td>4a164920-0415-4026-9d59-f930a7f89894</td>\n",
       "      <td>-7.800260</td>\n",
       "      <td>110.364998</td>\n",
       "      <td>2022-05-01 01:23:23</td>\n",
       "      <td>POINT (110.36499786376952 -7.80026)</td>\n",
       "      <td>Kelurahan Ngupasan</td>\n",
       "      <td>Gondomanan</td>\n",
       "      <td>Kota Yogyakarta</td>\n",
       "      <td>2022-05-01</td>\n",
       "    </tr>\n",
       "    <tr>\n",
       "      <th>2</th>\n",
       "      <td>59b4ed3d-ed3d-49f3-c988-638c8671e4f6</td>\n",
       "      <td>-7.800260</td>\n",
       "      <td>110.364998</td>\n",
       "      <td>2022-05-01 01:23:23</td>\n",
       "      <td>POINT (110.36499786376952 -7.80026)</td>\n",
       "      <td>Kelurahan Ngupasan</td>\n",
       "      <td>Gondomanan</td>\n",
       "      <td>Kota Yogyakarta</td>\n",
       "      <td>2022-05-01</td>\n",
       "    </tr>\n",
       "    <tr>\n",
       "      <th>3</th>\n",
       "      <td>4a164920-0415-4026-9d59-f930a7f89894</td>\n",
       "      <td>-7.800252</td>\n",
       "      <td>110.365005</td>\n",
       "      <td>2022-05-01 01:23:23</td>\n",
       "      <td>POINT (110.365005 -7.800252)</td>\n",
       "      <td>Kelurahan Ngupasan</td>\n",
       "      <td>Gondomanan</td>\n",
       "      <td>Kota Yogyakarta</td>\n",
       "      <td>2022-05-01</td>\n",
       "    </tr>\n",
       "    <tr>\n",
       "      <th>4</th>\n",
       "      <td>4a164920-0415-4026-9d59-f930a7f89894</td>\n",
       "      <td>-7.800251</td>\n",
       "      <td>110.365005</td>\n",
       "      <td>2022-05-01 01:23:23</td>\n",
       "      <td>POINT (110.365005 -7.8002515)</td>\n",
       "      <td>Kelurahan Ngupasan</td>\n",
       "      <td>Gondomanan</td>\n",
       "      <td>Kota Yogyakarta</td>\n",
       "      <td>2022-05-01</td>\n",
       "    </tr>\n",
       "  </tbody>\n",
       "</table>\n",
       "</div>"
      ],
      "text/plain": [
       "                                   maid  latitude   longitude  \\\n",
       "0  59b4ed3d-ed3d-49f3-c988-638c8671e4f6 -7.800270  110.364998   \n",
       "1  4a164920-0415-4026-9d59-f930a7f89894 -7.800260  110.364998   \n",
       "2  59b4ed3d-ed3d-49f3-c988-638c8671e4f6 -7.800260  110.364998   \n",
       "3  4a164920-0415-4026-9d59-f930a7f89894 -7.800252  110.365005   \n",
       "4  4a164920-0415-4026-9d59-f930a7f89894 -7.800251  110.365005   \n",
       "\n",
       "          datetime_wib                             geometry  \\\n",
       "0  2022-05-01 01:23:14  POINT (110.36499786376952 -7.80027)   \n",
       "1  2022-05-01 01:23:23  POINT (110.36499786376952 -7.80026)   \n",
       "2  2022-05-01 01:23:23  POINT (110.36499786376952 -7.80026)   \n",
       "3  2022-05-01 01:23:23         POINT (110.365005 -7.800252)   \n",
       "4  2022-05-01 01:23:23        POINT (110.365005 -7.8002515)   \n",
       "\n",
       "       Kelurahan/Desa   Kecamatan        Kabupaten     tanggal  \n",
       "0  Kelurahan Ngupasan  Gondomanan  Kota Yogyakarta  2022-05-01  \n",
       "1  Kelurahan Ngupasan  Gondomanan  Kota Yogyakarta  2022-05-01  \n",
       "2  Kelurahan Ngupasan  Gondomanan  Kota Yogyakarta  2022-05-01  \n",
       "3  Kelurahan Ngupasan  Gondomanan  Kota Yogyakarta  2022-05-01  \n",
       "4  Kelurahan Ngupasan  Gondomanan  Kota Yogyakarta  2022-05-01  "
      ]
     },
     "execution_count": 28,
     "metadata": {},
     "output_type": "execute_result"
    }
   ],
   "source": [
    "data.head()"
   ]
  },
  {
   "cell_type": "code",
   "execution_count": 29,
   "metadata": {},
   "outputs": [
    {
     "data": {
      "text/plain": [
       "maid               6724\n",
       "latitude          14883\n",
       "longitude           873\n",
       "datetime_wib      57376\n",
       "geometry          66938\n",
       "Kelurahan/Desa        5\n",
       "Kecamatan             4\n",
       "Kabupaten             1\n",
       "tanggal              31\n",
       "dtype: int64"
      ]
     },
     "execution_count": 29,
     "metadata": {},
     "output_type": "execute_result"
    }
   ],
   "source": [
    "data.nunique()"
   ]
  },
  {
   "cell_type": "markdown",
   "metadata": {},
   "source": [
    "## Juni 2022"
   ]
  },
  {
   "cell_type": "code",
   "execution_count": 30,
   "metadata": {},
   "outputs": [],
   "source": [
    "# path = './DataGPS_Malioboro/filter1_malioboro_jun.csv'\n",
    "# data = pd.read_csv(path)\n",
    "# data = drop_columns(data)\n",
    "\n",
    "# count_bykelurahan(data)\n",
    "# count_maid(data)\n",
    "# bar_chart(data)"
   ]
  },
  {
   "cell_type": "code",
   "execution_count": 31,
   "metadata": {},
   "outputs": [],
   "source": [
    "# data.head()"
   ]
  },
  {
   "cell_type": "code",
   "execution_count": 32,
   "metadata": {},
   "outputs": [],
   "source": [
    "# data.nunique()"
   ]
  },
  {
   "cell_type": "code",
   "execution_count": null,
   "metadata": {},
   "outputs": [],
   "source": []
  }
 ],
 "metadata": {
  "kernelspec": {
   "display_name": "Python 3 (ipykernel)",
   "language": "python",
   "name": "python3"
  },
  "language_info": {
   "codemirror_mode": {
    "name": "ipython",
    "version": 3
   },
   "file_extension": ".py",
   "mimetype": "text/x-python",
   "name": "python",
   "nbconvert_exporter": "python",
   "pygments_lexer": "ipython3",
   "version": "3.10.13"
  }
 },
 "nbformat": 4,
 "nbformat_minor": 2
}
