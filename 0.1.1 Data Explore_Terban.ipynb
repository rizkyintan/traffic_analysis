{
 "cells": [
  {
   "cell_type": "code",
   "execution_count": 8,
   "metadata": {},
   "outputs": [],
   "source": [
    "import pandas as pd\n",
    "import matplotlib.pyplot as plt"
   ]
  },
  {
   "cell_type": "markdown",
   "metadata": {},
   "source": [
    "## Lihat persebaran data"
   ]
  },
  {
   "cell_type": "code",
   "execution_count": 9,
   "metadata": {},
   "outputs": [],
   "source": [
    "def count_maid(data):\n",
    "    filtered_data = data.copy()\n",
    "    \n",
    "    # Ganti 'datetime_wib' sesuai nama kolom datetime di data-mu\n",
    "    filtered_data['datetime_wib'] = pd.to_datetime(filtered_data['datetime_wib'])\n",
    "    filtered_data['tanggal'] = filtered_data['datetime_wib'].dt.date\n",
    "\n",
    "    # Hitung jumlah 'maid' unik per hari\n",
    "    jumlah_maid_unik_per_hari = filtered_data.groupby('tanggal')['maid'].nunique()\n",
    "\n",
    "    # Print hasilnya\n",
    "    # print(\"Jumlah ID user unik: \", data['maid'].nunique())\n",
    "    maid = data['maid'].nunique()\n",
    "    return(maid)\n",
    "#     print(jumlah_maid_unik_per_hari)\n"
   ]
  },
  {
   "cell_type": "code",
   "execution_count": 10,
   "metadata": {},
   "outputs": [],
   "source": [
    "def bar_chart(data):\n",
    "    filtered_data = data.copy()\n",
    "\n",
    "    # Hapus duplikat 'maid' berdasarkan tanggal\n",
    "    filtered_data_unique_maid = filtered_data.drop_duplicates(subset=['tanggal', 'maid'])\n",
    "\n",
    "    # Hitung jumlah unik per hari\n",
    "    jumlah_unik_per_hari = filtered_data_unique_maid.groupby('tanggal').size()\n",
    "\n",
    "    # Plotting\n",
    "    plt.figure(figsize=(10, 6))\n",
    "    jumlah_unik_per_hari.plot(kind='bar', color='skyblue')\n",
    "    maid = count_maid(data)\n",
    "    plt.title(f'Jumlah Data Maid unik per Hari: {maid}')\n",
    "    plt.xlabel('Tanggal')\n",
    "    plt.ylabel('Jumlah Data Unik')\n",
    "    plt.xticks(rotation=75)\n",
    "    plt.show()"
   ]
  },
  {
   "cell_type": "code",
   "execution_count": 11,
   "metadata": {},
   "outputs": [],
   "source": [
    "def count_bykelurahan(data):\n",
    "    filtered_data = data.copy()\n",
    "\n",
    "    # Hitung jumlah 'maid' unik per hari\n",
    "    jumlah_maid_unik = filtered_data.groupby('Kelurahan/Desa')['maid'].nunique()\n",
    "\n",
    "    # Print hasilnya\n",
    "    print(jumlah_maid_unik)\n"
   ]
  },
  {
   "cell_type": "code",
   "execution_count": 12,
   "metadata": {},
   "outputs": [],
   "source": [
    "def drop_columns(data):\n",
    "    if 'Unnamed: 0' in data.columns:\n",
    "        data = data.drop({'Unnamed: 0'},axis=1)\n",
    "    \n",
    "    if 'Unnamed: 0.1' in data.columns:\n",
    "        data = data.drop({'Unnamed: 0.1'},axis=1)\n",
    "\n",
    "    return data"
   ]
  },
  {
   "cell_type": "markdown",
   "metadata": {},
   "source": [
    "## Oktober 2021"
   ]
  },
  {
   "cell_type": "code",
   "execution_count": 41,
   "metadata": {},
   "outputs": [
    {
     "name": "stdout",
     "output_type": "stream",
     "text": [
      "Kelurahan/Desa\n",
      "Caturtunggal           66\n",
      "Kelurahan Kotabaru    441\n",
      "Kelurahan Terban      448\n",
      "Name: maid, dtype: int64\n"
     ]
    },
    {
     "data": {
      "image/png": "[encoded data removed]",
      "text/plain": [
       "<Figure size 1000x600 with 1 Axes>"
      ]
     },
     "metadata": {},
     "output_type": "display_data"
    }
   ],
   "source": [
    "path = './DataGPS_Terban/filter1_terban_okt.csv'\n",
    "data = pd.read_csv(path)\n",
    "data = drop_columns(data)\n",
    "\n",
    "count_bykelurahan(data)\n",
    "count_maid(data)\n",
    "bar_chart(data)"
   ]
  },
  {
   "cell_type": "code",
   "execution_count": 42,
   "metadata": {},
   "outputs": [
    {
     "data": {
      "text/html": [
       "<div>\n",
       "<style scoped>\n",
       "    .dataframe tbody tr th:only-of-type {\n",
       "        vertical-align: middle;\n",
       "    }\n",
       "\n",
       "    .dataframe tbody tr th {\n",
       "        vertical-align: top;\n",
       "    }\n",
       "\n",
       "    .dataframe thead th {\n",
       "        text-align: right;\n",
       "    }\n",
       "</style>\n",
       "<table border=\"1\" class=\"dataframe\">\n",
       "  <thead>\n",
       "    <tr style=\"text-align: right;\">\n",
       "      <th></th>\n",
       "      <th>maid</th>\n",
       "      <th>latitude</th>\n",
       "      <th>longitude</th>\n",
       "      <th>datetime_wib</th>\n",
       "      <th>geometry</th>\n",
       "      <th>Kelurahan/Desa</th>\n",
       "      <th>Kecamatan</th>\n",
       "      <th>Kabupaten</th>\n",
       "      <th>tanggal</th>\n",
       "    </tr>\n",
       "  </thead>\n",
       "  <tbody>\n",
       "    <tr>\n",
       "      <th>0</th>\n",
       "      <td>16aafa30-aeb2-43c9-b5eb-451877e4847d</td>\n",
       "      <td>-7.77621</td>\n",
       "      <td>110.378349</td>\n",
       "      <td>2021-10-23 07:21:07</td>\n",
       "      <td>POINT (110.37834930419922 -7.77621)</td>\n",
       "      <td>Caturtunggal</td>\n",
       "      <td>Depok</td>\n",
       "      <td>Sleman</td>\n",
       "      <td>2021-10-23</td>\n",
       "    </tr>\n",
       "    <tr>\n",
       "      <th>1</th>\n",
       "      <td>16aafa30-aeb2-43c9-b5eb-451877e4847d</td>\n",
       "      <td>-7.77621</td>\n",
       "      <td>110.378349</td>\n",
       "      <td>2021-10-23 07:21:07</td>\n",
       "      <td>POINT (110.37834930419922 -7.77621)</td>\n",
       "      <td>Caturtunggal</td>\n",
       "      <td>Depok</td>\n",
       "      <td>Sleman</td>\n",
       "      <td>2021-10-23</td>\n",
       "    </tr>\n",
       "    <tr>\n",
       "      <th>2</th>\n",
       "      <td>16aafa30-aeb2-43c9-b5eb-451877e4847d</td>\n",
       "      <td>-7.77622</td>\n",
       "      <td>110.378357</td>\n",
       "      <td>2021-10-23 07:21:08</td>\n",
       "      <td>POINT (110.37835693359376 -7.77622)</td>\n",
       "      <td>Caturtunggal</td>\n",
       "      <td>Depok</td>\n",
       "      <td>Sleman</td>\n",
       "      <td>2021-10-23</td>\n",
       "    </tr>\n",
       "    <tr>\n",
       "      <th>3</th>\n",
       "      <td>16aafa30-aeb2-43c9-b5eb-451877e4847d</td>\n",
       "      <td>-7.77621</td>\n",
       "      <td>110.378342</td>\n",
       "      <td>2021-10-23 07:21:58</td>\n",
       "      <td>POINT (110.37834167480467 -7.77621)</td>\n",
       "      <td>Caturtunggal</td>\n",
       "      <td>Depok</td>\n",
       "      <td>Sleman</td>\n",
       "      <td>2021-10-23</td>\n",
       "    </tr>\n",
       "    <tr>\n",
       "      <th>4</th>\n",
       "      <td>7bc0731c-0c54-42a3-bf6f-cdfa68aa5951</td>\n",
       "      <td>-7.77651</td>\n",
       "      <td>110.377357</td>\n",
       "      <td>2021-10-23 07:41:43</td>\n",
       "      <td>POINT (110.37735748291016 -7.77651)</td>\n",
       "      <td>Caturtunggal</td>\n",
       "      <td>Depok</td>\n",
       "      <td>Sleman</td>\n",
       "      <td>2021-10-23</td>\n",
       "    </tr>\n",
       "  </tbody>\n",
       "</table>\n",
       "</div>"
      ],
      "text/plain": [
       "                                   maid  latitude   longitude  \\\n",
       "0  16aafa30-aeb2-43c9-b5eb-451877e4847d  -7.77621  110.378349   \n",
       "1  16aafa30-aeb2-43c9-b5eb-451877e4847d  -7.77621  110.378349   \n",
       "2  16aafa30-aeb2-43c9-b5eb-451877e4847d  -7.77622  110.378357   \n",
       "3  16aafa30-aeb2-43c9-b5eb-451877e4847d  -7.77621  110.378342   \n",
       "4  7bc0731c-0c54-42a3-bf6f-cdfa68aa5951  -7.77651  110.377357   \n",
       "\n",
       "          datetime_wib                             geometry Kelurahan/Desa  \\\n",
       "0  2021-10-23 07:21:07  POINT (110.37834930419922 -7.77621)   Caturtunggal   \n",
       "1  2021-10-23 07:21:07  POINT (110.37834930419922 -7.77621)   Caturtunggal   \n",
       "2  2021-10-23 07:21:08  POINT (110.37835693359376 -7.77622)   Caturtunggal   \n",
       "3  2021-10-23 07:21:58  POINT (110.37834167480467 -7.77621)   Caturtunggal   \n",
       "4  2021-10-23 07:41:43  POINT (110.37735748291016 -7.77651)   Caturtunggal   \n",
       "\n",
       "  Kecamatan Kabupaten     tanggal  \n",
       "0     Depok    Sleman  2021-10-23  \n",
       "1     Depok    Sleman  2021-10-23  \n",
       "2     Depok    Sleman  2021-10-23  \n",
       "3     Depok    Sleman  2021-10-23  \n",
       "4     Depok    Sleman  2021-10-23  "
      ]
     },
     "execution_count": 42,
     "metadata": {},
     "output_type": "execute_result"
    }
   ],
   "source": [
    "data.head()"
   ]
  },
  {
   "cell_type": "code",
   "execution_count": 43,
   "metadata": {},
   "outputs": [
    {
     "data": {
      "text/plain": [
       "maid               884\n",
       "latitude          2412\n",
       "longitude          755\n",
       "datetime_wib      9661\n",
       "geometry          5208\n",
       "Kelurahan/Desa       3\n",
       "Kecamatan            2\n",
       "Kabupaten            2\n",
       "tanggal              9\n",
       "dtype: int64"
      ]
     },
     "execution_count": 43,
     "metadata": {},
     "output_type": "execute_result"
    }
   ],
   "source": [
    "data.nunique()"
   ]
  },
  {
   "cell_type": "markdown",
   "metadata": {},
   "source": [
    "## November 2021"
   ]
  },
  {
   "cell_type": "code",
   "execution_count": 16,
   "metadata": {},
   "outputs": [
    {
     "name": "stdout",
     "output_type": "stream",
     "text": [
      "Kelurahan/Desa\n",
      "Caturtunggal           309\n",
      "Kelurahan Kotabaru    2132\n",
      "Kelurahan Terban      1867\n",
      "Name: maid, dtype: int64\n"
     ]
    },
    {
     "data": {
      "image/png": "[encoded data removed]",
      "text/plain": [
       "<Figure size 1000x600 with 1 Axes>"
      ]
     },
     "metadata": {},
     "output_type": "display_data"
    }
   ],
   "source": [
    "path = './DataGPS_Terban/filter1_terban_nov.csv'\n",
    "data = pd.read_csv(path)\n",
    "data = drop_columns(data)\n",
    "\n",
    "count_bykelurahan(data)\n",
    "count_maid(data)\n",
    "bar_chart(data)"
   ]
  },
  {
   "cell_type": "code",
   "execution_count": 17,
   "metadata": {},
   "outputs": [
    {
     "data": {
      "text/html": [
       "<div>\n",
       "<style scoped>\n",
       "    .dataframe tbody tr th:only-of-type {\n",
       "        vertical-align: middle;\n",
       "    }\n",
       "\n",
       "    .dataframe tbody tr th {\n",
       "        vertical-align: top;\n",
       "    }\n",
       "\n",
       "    .dataframe thead th {\n",
       "        text-align: right;\n",
       "    }\n",
       "</style>\n",
       "<table border=\"1\" class=\"dataframe\">\n",
       "  <thead>\n",
       "    <tr style=\"text-align: right;\">\n",
       "      <th></th>\n",
       "      <th>maid</th>\n",
       "      <th>latitude</th>\n",
       "      <th>longitude</th>\n",
       "      <th>datetime_wib</th>\n",
       "      <th>geometry</th>\n",
       "      <th>Kelurahan/Desa</th>\n",
       "      <th>Kecamatan</th>\n",
       "      <th>Kabupaten</th>\n",
       "      <th>tanggal</th>\n",
       "    </tr>\n",
       "  </thead>\n",
       "  <tbody>\n",
       "    <tr>\n",
       "      <th>0</th>\n",
       "      <td>375bc2e5-1e09-4620-a780-c75d5a6aeb69</td>\n",
       "      <td>-7.77569</td>\n",
       "      <td>110.377663</td>\n",
       "      <td>2021-11-01 00:11:19</td>\n",
       "      <td>POINT (110.3776626586914 -7.77569)</td>\n",
       "      <td>Caturtunggal</td>\n",
       "      <td>Depok</td>\n",
       "      <td>Sleman</td>\n",
       "      <td>2021-11-01</td>\n",
       "    </tr>\n",
       "    <tr>\n",
       "      <th>1</th>\n",
       "      <td>375bc2e5-1e09-4620-a780-c75d5a6aeb69</td>\n",
       "      <td>-7.77568</td>\n",
       "      <td>110.377647</td>\n",
       "      <td>2021-11-01 00:11:29</td>\n",
       "      <td>POINT (110.37764739990234 -7.77568)</td>\n",
       "      <td>Caturtunggal</td>\n",
       "      <td>Depok</td>\n",
       "      <td>Sleman</td>\n",
       "      <td>2021-11-01</td>\n",
       "    </tr>\n",
       "    <tr>\n",
       "      <th>2</th>\n",
       "      <td>ce6ec216-64cc-444b-80fc-39cc3ea1b51c</td>\n",
       "      <td>-7.77631</td>\n",
       "      <td>110.377251</td>\n",
       "      <td>2021-11-01 00:12:14</td>\n",
       "      <td>POINT (110.37725067138672 -7.77631)</td>\n",
       "      <td>Caturtunggal</td>\n",
       "      <td>Depok</td>\n",
       "      <td>Sleman</td>\n",
       "      <td>2021-11-01</td>\n",
       "    </tr>\n",
       "    <tr>\n",
       "      <th>3</th>\n",
       "      <td>ce6ec216-64cc-444b-80fc-39cc3ea1b51c</td>\n",
       "      <td>-7.77634</td>\n",
       "      <td>110.377258</td>\n",
       "      <td>2021-11-01 00:12:23</td>\n",
       "      <td>POINT (110.37725830078124 -7.77634)</td>\n",
       "      <td>Caturtunggal</td>\n",
       "      <td>Depok</td>\n",
       "      <td>Sleman</td>\n",
       "      <td>2021-11-01</td>\n",
       "    </tr>\n",
       "    <tr>\n",
       "      <th>4</th>\n",
       "      <td>ce6ec216-64cc-444b-80fc-39cc3ea1b51c</td>\n",
       "      <td>-7.77632</td>\n",
       "      <td>110.377258</td>\n",
       "      <td>2021-11-01 00:15:01</td>\n",
       "      <td>POINT (110.37725830078124 -7.77632)</td>\n",
       "      <td>Caturtunggal</td>\n",
       "      <td>Depok</td>\n",
       "      <td>Sleman</td>\n",
       "      <td>2021-11-01</td>\n",
       "    </tr>\n",
       "  </tbody>\n",
       "</table>\n",
       "</div>"
      ],
      "text/plain": [
       "                                   maid  latitude   longitude  \\\n",
       "0  375bc2e5-1e09-4620-a780-c75d5a6aeb69  -7.77569  110.377663   \n",
       "1  375bc2e5-1e09-4620-a780-c75d5a6aeb69  -7.77568  110.377647   \n",
       "2  ce6ec216-64cc-444b-80fc-39cc3ea1b51c  -7.77631  110.377251   \n",
       "3  ce6ec216-64cc-444b-80fc-39cc3ea1b51c  -7.77634  110.377258   \n",
       "4  ce6ec216-64cc-444b-80fc-39cc3ea1b51c  -7.77632  110.377258   \n",
       "\n",
       "          datetime_wib                             geometry Kelurahan/Desa  \\\n",
       "0  2021-11-01 00:11:19   POINT (110.3776626586914 -7.77569)   Caturtunggal   \n",
       "1  2021-11-01 00:11:29  POINT (110.37764739990234 -7.77568)   Caturtunggal   \n",
       "2  2021-11-01 00:12:14  POINT (110.37725067138672 -7.77631)   Caturtunggal   \n",
       "3  2021-11-01 00:12:23  POINT (110.37725830078124 -7.77634)   Caturtunggal   \n",
       "4  2021-11-01 00:15:01  POINT (110.37725830078124 -7.77632)   Caturtunggal   \n",
       "\n",
       "  Kecamatan Kabupaten     tanggal  \n",
       "0     Depok    Sleman  2021-11-01  \n",
       "1     Depok    Sleman  2021-11-01  \n",
       "2     Depok    Sleman  2021-11-01  \n",
       "3     Depok    Sleman  2021-11-01  \n",
       "4     Depok    Sleman  2021-11-01  "
      ]
     },
     "execution_count": 17,
     "metadata": {},
     "output_type": "execute_result"
    }
   ],
   "source": [
    "data.head()"
   ]
  },
  {
   "cell_type": "code",
   "execution_count": 18,
   "metadata": {},
   "outputs": [
    {
     "data": {
      "text/plain": [
       "maid               3949\n",
       "latitude           7993\n",
       "longitude          1735\n",
       "datetime_wib      68741\n",
       "geometry          43796\n",
       "Kelurahan/Desa        3\n",
       "Kecamatan             2\n",
       "Kabupaten             2\n",
       "tanggal              30\n",
       "dtype: int64"
      ]
     },
     "execution_count": 18,
     "metadata": {},
     "output_type": "execute_result"
    }
   ],
   "source": [
    "data.nunique()"
   ]
  },
  {
   "cell_type": "markdown",
   "metadata": {},
   "source": [
    "## Desember 2021"
   ]
  },
  {
   "cell_type": "code",
   "execution_count": 19,
   "metadata": {},
   "outputs": [
    {
     "name": "stdout",
     "output_type": "stream",
     "text": [
      "Kelurahan/Desa\n",
      "Caturtunggal           180\n",
      "Kelurahan Kotabaru    1613\n",
      "Kelurahan Terban      1153\n",
      "Name: maid, dtype: int64\n"
     ]
    },
    {
     "data": {
      "image/png": "[encoded data removed]",
      "text/plain": [
       "<Figure size 1000x600 with 1 Axes>"
      ]
     },
     "metadata": {},
     "output_type": "display_data"
    }
   ],
   "source": [
    "path = './DataGPS_Terban/filter1_terban_des.csv'\n",
    "data = pd.read_csv(path)\n",
    "data = drop_columns(data)\n",
    "\n",
    "count_bykelurahan(data)\n",
    "count_maid(data)\n",
    "bar_chart(data)"
   ]
  },
  {
   "cell_type": "code",
   "execution_count": 20,
   "metadata": {},
   "outputs": [
    {
     "data": {
      "text/html": [
       "<div>\n",
       "<style scoped>\n",
       "    .dataframe tbody tr th:only-of-type {\n",
       "        vertical-align: middle;\n",
       "    }\n",
       "\n",
       "    .dataframe tbody tr th {\n",
       "        vertical-align: top;\n",
       "    }\n",
       "\n",
       "    .dataframe thead th {\n",
       "        text-align: right;\n",
       "    }\n",
       "</style>\n",
       "<table border=\"1\" class=\"dataframe\">\n",
       "  <thead>\n",
       "    <tr style=\"text-align: right;\">\n",
       "      <th></th>\n",
       "      <th>maid</th>\n",
       "      <th>latitude</th>\n",
       "      <th>longitude</th>\n",
       "      <th>datetime_wib</th>\n",
       "      <th>geometry</th>\n",
       "      <th>Kelurahan/Desa</th>\n",
       "      <th>Kecamatan</th>\n",
       "      <th>Kabupaten</th>\n",
       "      <th>tanggal</th>\n",
       "    </tr>\n",
       "  </thead>\n",
       "  <tbody>\n",
       "    <tr>\n",
       "      <th>0</th>\n",
       "      <td>beb995f2-542d-4f32-b782-d0347ef15241</td>\n",
       "      <td>-7.7746</td>\n",
       "      <td>110.373009</td>\n",
       "      <td>2021-12-01 04:49:08</td>\n",
       "      <td>POINT (110.37300872802734 -7.7746)</td>\n",
       "      <td>Caturtunggal</td>\n",
       "      <td>Depok</td>\n",
       "      <td>Sleman</td>\n",
       "      <td>2021-12-01</td>\n",
       "    </tr>\n",
       "    <tr>\n",
       "      <th>1</th>\n",
       "      <td>beb995f2-542d-4f32-b782-d0347ef15241</td>\n",
       "      <td>-7.7746</td>\n",
       "      <td>110.373009</td>\n",
       "      <td>2021-12-01 04:49:08</td>\n",
       "      <td>POINT (110.37300872802734 -7.7746)</td>\n",
       "      <td>Caturtunggal</td>\n",
       "      <td>Depok</td>\n",
       "      <td>Sleman</td>\n",
       "      <td>2021-12-01</td>\n",
       "    </tr>\n",
       "    <tr>\n",
       "      <th>2</th>\n",
       "      <td>beb995f2-542d-4f32-b782-d0347ef15241</td>\n",
       "      <td>-7.7746</td>\n",
       "      <td>110.373010</td>\n",
       "      <td>2021-12-01 04:49:08</td>\n",
       "      <td>POINT (110.37301 -7.7746)</td>\n",
       "      <td>Caturtunggal</td>\n",
       "      <td>Depok</td>\n",
       "      <td>Sleman</td>\n",
       "      <td>2021-12-01</td>\n",
       "    </tr>\n",
       "    <tr>\n",
       "      <th>3</th>\n",
       "      <td>beb995f2-542d-4f32-b782-d0347ef15241</td>\n",
       "      <td>-7.7746</td>\n",
       "      <td>110.373010</td>\n",
       "      <td>2021-12-01 04:49:08</td>\n",
       "      <td>POINT (110.37301 -7.7746)</td>\n",
       "      <td>Caturtunggal</td>\n",
       "      <td>Depok</td>\n",
       "      <td>Sleman</td>\n",
       "      <td>2021-12-01</td>\n",
       "    </tr>\n",
       "    <tr>\n",
       "      <th>4</th>\n",
       "      <td>beb995f2-542d-4f32-b782-d0347ef15241</td>\n",
       "      <td>-7.7746</td>\n",
       "      <td>110.373016</td>\n",
       "      <td>2021-12-01 04:49:08</td>\n",
       "      <td>POINT (110.37301635742188 -7.7746)</td>\n",
       "      <td>Caturtunggal</td>\n",
       "      <td>Depok</td>\n",
       "      <td>Sleman</td>\n",
       "      <td>2021-12-01</td>\n",
       "    </tr>\n",
       "  </tbody>\n",
       "</table>\n",
       "</div>"
      ],
      "text/plain": [
       "                                   maid  latitude   longitude  \\\n",
       "0  beb995f2-542d-4f32-b782-d0347ef15241   -7.7746  110.373009   \n",
       "1  beb995f2-542d-4f32-b782-d0347ef15241   -7.7746  110.373009   \n",
       "2  beb995f2-542d-4f32-b782-d0347ef15241   -7.7746  110.373010   \n",
       "3  beb995f2-542d-4f32-b782-d0347ef15241   -7.7746  110.373010   \n",
       "4  beb995f2-542d-4f32-b782-d0347ef15241   -7.7746  110.373016   \n",
       "\n",
       "          datetime_wib                            geometry Kelurahan/Desa  \\\n",
       "0  2021-12-01 04:49:08  POINT (110.37300872802734 -7.7746)   Caturtunggal   \n",
       "1  2021-12-01 04:49:08  POINT (110.37300872802734 -7.7746)   Caturtunggal   \n",
       "2  2021-12-01 04:49:08           POINT (110.37301 -7.7746)   Caturtunggal   \n",
       "3  2021-12-01 04:49:08           POINT (110.37301 -7.7746)   Caturtunggal   \n",
       "4  2021-12-01 04:49:08  POINT (110.37301635742188 -7.7746)   Caturtunggal   \n",
       "\n",
       "  Kecamatan Kabupaten     tanggal  \n",
       "0     Depok    Sleman  2021-12-01  \n",
       "1     Depok    Sleman  2021-12-01  \n",
       "2     Depok    Sleman  2021-12-01  \n",
       "3     Depok    Sleman  2021-12-01  \n",
       "4     Depok    Sleman  2021-12-01  "
      ]
     },
     "execution_count": 20,
     "metadata": {},
     "output_type": "execute_result"
    }
   ],
   "source": [
    "data.head()"
   ]
  },
  {
   "cell_type": "code",
   "execution_count": 21,
   "metadata": {},
   "outputs": [
    {
     "data": {
      "text/plain": [
       "maid               2779\n",
       "latitude           6313\n",
       "longitude          1663\n",
       "datetime_wib      27826\n",
       "geometry          23469\n",
       "Kelurahan/Desa        3\n",
       "Kecamatan             2\n",
       "Kabupaten             2\n",
       "tanggal              31\n",
       "dtype: int64"
      ]
     },
     "execution_count": 21,
     "metadata": {},
     "output_type": "execute_result"
    }
   ],
   "source": [
    "data.nunique()"
   ]
  },
  {
   "cell_type": "markdown",
   "metadata": {},
   "source": [
    "## Januari 2022"
   ]
  },
  {
   "cell_type": "code",
   "execution_count": 22,
   "metadata": {},
   "outputs": [
    {
     "name": "stdout",
     "output_type": "stream",
     "text": [
      "Kelurahan/Desa\n",
      "Caturtunggal           913\n",
      "Kelurahan Kotabaru    3037\n",
      "Kelurahan Terban      2746\n",
      "Name: maid, dtype: int64\n"
     ]
    },
    {
     "data": {
      "image/png": "[encoded data removed]",
      "text/plain": [
       "<Figure size 1000x600 with 1 Axes>"
      ]
     },
     "metadata": {},
     "output_type": "display_data"
    }
   ],
   "source": [
    "path = './DataGPS_Terban/filter1_terban_jan.csv'\n",
    "data = pd.read_csv(path)\n",
    "data = drop_columns(data)\n",
    "\n",
    "count_bykelurahan(data)\n",
    "count_maid(data)\n",
    "bar_chart(data)"
   ]
  },
  {
   "cell_type": "code",
   "execution_count": 23,
   "metadata": {},
   "outputs": [
    {
     "data": {
      "text/html": [
       "<div>\n",
       "<style scoped>\n",
       "    .dataframe tbody tr th:only-of-type {\n",
       "        vertical-align: middle;\n",
       "    }\n",
       "\n",
       "    .dataframe tbody tr th {\n",
       "        vertical-align: top;\n",
       "    }\n",
       "\n",
       "    .dataframe thead th {\n",
       "        text-align: right;\n",
       "    }\n",
       "</style>\n",
       "<table border=\"1\" class=\"dataframe\">\n",
       "  <thead>\n",
       "    <tr style=\"text-align: right;\">\n",
       "      <th></th>\n",
       "      <th>maid</th>\n",
       "      <th>latitude</th>\n",
       "      <th>longitude</th>\n",
       "      <th>datetime_wib</th>\n",
       "      <th>geometry</th>\n",
       "      <th>Kelurahan/Desa</th>\n",
       "      <th>Kecamatan</th>\n",
       "      <th>Kabupaten</th>\n",
       "      <th>tanggal</th>\n",
       "    </tr>\n",
       "  </thead>\n",
       "  <tbody>\n",
       "    <tr>\n",
       "      <th>0</th>\n",
       "      <td>bd78eb78-dabd-451b-b0d8-7926ce5998fc</td>\n",
       "      <td>-7.774712</td>\n",
       "      <td>110.375648</td>\n",
       "      <td>2022-01-01 01:31:12</td>\n",
       "      <td>POINT (110.37564849853516 -7.774712)</td>\n",
       "      <td>Caturtunggal</td>\n",
       "      <td>Depok</td>\n",
       "      <td>Sleman</td>\n",
       "      <td>2022-01-01</td>\n",
       "    </tr>\n",
       "    <tr>\n",
       "      <th>1</th>\n",
       "      <td>8f361af5-336a-4e64-9cac-13c1193445f7</td>\n",
       "      <td>-7.774310</td>\n",
       "      <td>110.375999</td>\n",
       "      <td>2022-01-01 05:46:03</td>\n",
       "      <td>POINT (110.3759994506836 -7.77431)</td>\n",
       "      <td>Caturtunggal</td>\n",
       "      <td>Depok</td>\n",
       "      <td>Sleman</td>\n",
       "      <td>2022-01-01</td>\n",
       "    </tr>\n",
       "    <tr>\n",
       "      <th>2</th>\n",
       "      <td>8f361af5-336a-4e64-9cac-13c1193445f7</td>\n",
       "      <td>-7.774310</td>\n",
       "      <td>110.375999</td>\n",
       "      <td>2022-01-01 05:47:49</td>\n",
       "      <td>POINT (110.3759994506836 -7.77431)</td>\n",
       "      <td>Caturtunggal</td>\n",
       "      <td>Depok</td>\n",
       "      <td>Sleman</td>\n",
       "      <td>2022-01-01</td>\n",
       "    </tr>\n",
       "    <tr>\n",
       "      <th>3</th>\n",
       "      <td>8f361af5-336a-4e64-9cac-13c1193445f7</td>\n",
       "      <td>-7.774310</td>\n",
       "      <td>110.375999</td>\n",
       "      <td>2022-01-01 05:49:15</td>\n",
       "      <td>POINT (110.3759994506836 -7.77431)</td>\n",
       "      <td>Caturtunggal</td>\n",
       "      <td>Depok</td>\n",
       "      <td>Sleman</td>\n",
       "      <td>2022-01-01</td>\n",
       "    </tr>\n",
       "    <tr>\n",
       "      <th>4</th>\n",
       "      <td>8f361af5-336a-4e64-9cac-13c1193445f7</td>\n",
       "      <td>-7.774310</td>\n",
       "      <td>110.375999</td>\n",
       "      <td>2022-01-01 05:50:17</td>\n",
       "      <td>POINT (110.3759994506836 -7.77431)</td>\n",
       "      <td>Caturtunggal</td>\n",
       "      <td>Depok</td>\n",
       "      <td>Sleman</td>\n",
       "      <td>2022-01-01</td>\n",
       "    </tr>\n",
       "  </tbody>\n",
       "</table>\n",
       "</div>"
      ],
      "text/plain": [
       "                                   maid  latitude   longitude  \\\n",
       "0  bd78eb78-dabd-451b-b0d8-7926ce5998fc -7.774712  110.375648   \n",
       "1  8f361af5-336a-4e64-9cac-13c1193445f7 -7.774310  110.375999   \n",
       "2  8f361af5-336a-4e64-9cac-13c1193445f7 -7.774310  110.375999   \n",
       "3  8f361af5-336a-4e64-9cac-13c1193445f7 -7.774310  110.375999   \n",
       "4  8f361af5-336a-4e64-9cac-13c1193445f7 -7.774310  110.375999   \n",
       "\n",
       "          datetime_wib                              geometry Kelurahan/Desa  \\\n",
       "0  2022-01-01 01:31:12  POINT (110.37564849853516 -7.774712)   Caturtunggal   \n",
       "1  2022-01-01 05:46:03    POINT (110.3759994506836 -7.77431)   Caturtunggal   \n",
       "2  2022-01-01 05:47:49    POINT (110.3759994506836 -7.77431)   Caturtunggal   \n",
       "3  2022-01-01 05:49:15    POINT (110.3759994506836 -7.77431)   Caturtunggal   \n",
       "4  2022-01-01 05:50:17    POINT (110.3759994506836 -7.77431)   Caturtunggal   \n",
       "\n",
       "  Kecamatan Kabupaten     tanggal  \n",
       "0     Depok    Sleman  2022-01-01  \n",
       "1     Depok    Sleman  2022-01-01  \n",
       "2     Depok    Sleman  2022-01-01  \n",
       "3     Depok    Sleman  2022-01-01  \n",
       "4     Depok    Sleman  2022-01-01  "
      ]
     },
     "execution_count": 23,
     "metadata": {},
     "output_type": "execute_result"
    }
   ],
   "source": [
    "data.head()"
   ]
  },
  {
   "cell_type": "code",
   "execution_count": 24,
   "metadata": {},
   "outputs": [
    {
     "data": {
      "text/plain": [
       "maid               4850\n",
       "latitude          14883\n",
       "longitude          1552\n",
       "datetime_wib      53140\n",
       "geometry          44784\n",
       "Kelurahan/Desa        3\n",
       "Kecamatan             2\n",
       "Kabupaten             2\n",
       "tanggal              31\n",
       "dtype: int64"
      ]
     },
     "execution_count": 24,
     "metadata": {},
     "output_type": "execute_result"
    }
   ],
   "source": [
    "data.nunique()"
   ]
  },
  {
   "cell_type": "markdown",
   "metadata": {},
   "source": [
    "## Februari 2022"
   ]
  },
  {
   "cell_type": "code",
   "execution_count": 25,
   "metadata": {},
   "outputs": [
    {
     "name": "stdout",
     "output_type": "stream",
     "text": [
      "Kelurahan/Desa\n",
      "Caturtunggal          1941\n",
      "Kelurahan Kotabaru    4819\n",
      "Kelurahan Terban      4843\n",
      "Name: maid, dtype: int64\n"
     ]
    },
    {
     "data": {
      "image/png": "[encoded data removed]",
      "text/plain": [
       "<Figure size 1000x600 with 1 Axes>"
      ]
     },
     "metadata": {},
     "output_type": "display_data"
    }
   ],
   "source": [
    "path = './DataGPS_Terban/filter1_terban_feb.csv'\n",
    "data = pd.read_csv(path)\n",
    "data = drop_columns(data)\n",
    "\n",
    "count_bykelurahan(data)\n",
    "count_maid(data)\n",
    "bar_chart(data)"
   ]
  },
  {
   "cell_type": "code",
   "execution_count": 26,
   "metadata": {},
   "outputs": [
    {
     "data": {
      "text/html": [
       "<div>\n",
       "<style scoped>\n",
       "    .dataframe tbody tr th:only-of-type {\n",
       "        vertical-align: middle;\n",
       "    }\n",
       "\n",
       "    .dataframe tbody tr th {\n",
       "        vertical-align: top;\n",
       "    }\n",
       "\n",
       "    .dataframe thead th {\n",
       "        text-align: right;\n",
       "    }\n",
       "</style>\n",
       "<table border=\"1\" class=\"dataframe\">\n",
       "  <thead>\n",
       "    <tr style=\"text-align: right;\">\n",
       "      <th></th>\n",
       "      <th>maid</th>\n",
       "      <th>latitude</th>\n",
       "      <th>longitude</th>\n",
       "      <th>datetime_wib</th>\n",
       "      <th>geometry</th>\n",
       "      <th>Kelurahan/Desa</th>\n",
       "      <th>Kecamatan</th>\n",
       "      <th>Kabupaten</th>\n",
       "      <th>tanggal</th>\n",
       "    </tr>\n",
       "  </thead>\n",
       "  <tbody>\n",
       "    <tr>\n",
       "      <th>0</th>\n",
       "      <td>beec0f73-1f47-431a-bba8-92ea23c62a09</td>\n",
       "      <td>-7.776889</td>\n",
       "      <td>110.377670</td>\n",
       "      <td>2022-02-01 00:01:20</td>\n",
       "      <td>POINT (110.37767028808594 -7.7768893)</td>\n",
       "      <td>Caturtunggal</td>\n",
       "      <td>Depok</td>\n",
       "      <td>Sleman</td>\n",
       "      <td>2022-02-01</td>\n",
       "    </tr>\n",
       "    <tr>\n",
       "      <th>1</th>\n",
       "      <td>beec0f73-1f47-431a-bba8-92ea23c62a09</td>\n",
       "      <td>-7.776938</td>\n",
       "      <td>110.377617</td>\n",
       "      <td>2022-02-01 00:03:36</td>\n",
       "      <td>POINT (110.37761688232422 -7.776938)</td>\n",
       "      <td>Caturtunggal</td>\n",
       "      <td>Depok</td>\n",
       "      <td>Sleman</td>\n",
       "      <td>2022-02-01</td>\n",
       "    </tr>\n",
       "    <tr>\n",
       "      <th>2</th>\n",
       "      <td>beec0f73-1f47-431a-bba8-92ea23c62a09</td>\n",
       "      <td>-7.776911</td>\n",
       "      <td>110.377663</td>\n",
       "      <td>2022-02-01 00:05:05</td>\n",
       "      <td>POINT (110.3776626586914 -7.776911)</td>\n",
       "      <td>Caturtunggal</td>\n",
       "      <td>Depok</td>\n",
       "      <td>Sleman</td>\n",
       "      <td>2022-02-01</td>\n",
       "    </tr>\n",
       "    <tr>\n",
       "      <th>3</th>\n",
       "      <td>beec0f73-1f47-431a-bba8-92ea23c62a09</td>\n",
       "      <td>-7.776889</td>\n",
       "      <td>110.377670</td>\n",
       "      <td>2022-02-01 00:05:52</td>\n",
       "      <td>POINT (110.37767028808594 -7.7768893)</td>\n",
       "      <td>Caturtunggal</td>\n",
       "      <td>Depok</td>\n",
       "      <td>Sleman</td>\n",
       "      <td>2022-02-01</td>\n",
       "    </tr>\n",
       "    <tr>\n",
       "      <th>4</th>\n",
       "      <td>beec0f73-1f47-431a-bba8-92ea23c62a09</td>\n",
       "      <td>-7.776889</td>\n",
       "      <td>110.377670</td>\n",
       "      <td>2022-02-01 00:06:33</td>\n",
       "      <td>POINT (110.37767028808594 -7.7768893)</td>\n",
       "      <td>Caturtunggal</td>\n",
       "      <td>Depok</td>\n",
       "      <td>Sleman</td>\n",
       "      <td>2022-02-01</td>\n",
       "    </tr>\n",
       "  </tbody>\n",
       "</table>\n",
       "</div>"
      ],
      "text/plain": [
       "                                   maid  latitude   longitude  \\\n",
       "0  beec0f73-1f47-431a-bba8-92ea23c62a09 -7.776889  110.377670   \n",
       "1  beec0f73-1f47-431a-bba8-92ea23c62a09 -7.776938  110.377617   \n",
       "2  beec0f73-1f47-431a-bba8-92ea23c62a09 -7.776911  110.377663   \n",
       "3  beec0f73-1f47-431a-bba8-92ea23c62a09 -7.776889  110.377670   \n",
       "4  beec0f73-1f47-431a-bba8-92ea23c62a09 -7.776889  110.377670   \n",
       "\n",
       "          datetime_wib                               geometry Kelurahan/Desa  \\\n",
       "0  2022-02-01 00:01:20  POINT (110.37767028808594 -7.7768893)   Caturtunggal   \n",
       "1  2022-02-01 00:03:36   POINT (110.37761688232422 -7.776938)   Caturtunggal   \n",
       "2  2022-02-01 00:05:05    POINT (110.3776626586914 -7.776911)   Caturtunggal   \n",
       "3  2022-02-01 00:05:52  POINT (110.37767028808594 -7.7768893)   Caturtunggal   \n",
       "4  2022-02-01 00:06:33  POINT (110.37767028808594 -7.7768893)   Caturtunggal   \n",
       "\n",
       "  Kecamatan Kabupaten     tanggal  \n",
       "0     Depok    Sleman  2022-02-01  \n",
       "1     Depok    Sleman  2022-02-01  \n",
       "2     Depok    Sleman  2022-02-01  \n",
       "3     Depok    Sleman  2022-02-01  \n",
       "4     Depok    Sleman  2022-02-01  "
      ]
     },
     "execution_count": 26,
     "metadata": {},
     "output_type": "execute_result"
    }
   ],
   "source": [
    "data.head()"
   ]
  },
  {
   "cell_type": "code",
   "execution_count": 27,
   "metadata": {},
   "outputs": [
    {
     "data": {
      "text/plain": [
       "maid                7551\n",
       "latitude           18971\n",
       "longitude           1770\n",
       "datetime_wib       92914\n",
       "geometry          104001\n",
       "Kelurahan/Desa         3\n",
       "Kecamatan              2\n",
       "Kabupaten              2\n",
       "tanggal               28\n",
       "dtype: int64"
      ]
     },
     "execution_count": 27,
     "metadata": {},
     "output_type": "execute_result"
    }
   ],
   "source": [
    "data.nunique()"
   ]
  },
  {
   "cell_type": "markdown",
   "metadata": {},
   "source": [
    "## Maret 2022"
   ]
  },
  {
   "cell_type": "code",
   "execution_count": 28,
   "metadata": {},
   "outputs": [
    {
     "name": "stdout",
     "output_type": "stream",
     "text": [
      "Kelurahan/Desa\n",
      "Caturtunggal          195\n",
      "Kelurahan Kotabaru    709\n",
      "Kelurahan Terban      892\n",
      "Name: maid, dtype: int64\n"
     ]
    },
    {
     "data": {
      "image/png": "[encoded data removed]",
      "text/plain": [
       "<Figure size 1000x600 with 1 Axes>"
      ]
     },
     "metadata": {},
     "output_type": "display_data"
    }
   ],
   "source": [
    "path = './DataGPS_Terban/filter1_terban_mar.csv'\n",
    "data = pd.read_csv(path)\n",
    "data = drop_columns(data)\n",
    "\n",
    "count_bykelurahan(data)\n",
    "count_maid(data)\n",
    "bar_chart(data)"
   ]
  },
  {
   "cell_type": "code",
   "execution_count": 29,
   "metadata": {},
   "outputs": [
    {
     "data": {
      "text/html": [
       "<div>\n",
       "<style scoped>\n",
       "    .dataframe tbody tr th:only-of-type {\n",
       "        vertical-align: middle;\n",
       "    }\n",
       "\n",
       "    .dataframe tbody tr th {\n",
       "        vertical-align: top;\n",
       "    }\n",
       "\n",
       "    .dataframe thead th {\n",
       "        text-align: right;\n",
       "    }\n",
       "</style>\n",
       "<table border=\"1\" class=\"dataframe\">\n",
       "  <thead>\n",
       "    <tr style=\"text-align: right;\">\n",
       "      <th></th>\n",
       "      <th>maid</th>\n",
       "      <th>latitude</th>\n",
       "      <th>longitude</th>\n",
       "      <th>datetime_wib</th>\n",
       "      <th>geometry</th>\n",
       "      <th>Kelurahan/Desa</th>\n",
       "      <th>Kecamatan</th>\n",
       "      <th>Kabupaten</th>\n",
       "      <th>tanggal</th>\n",
       "    </tr>\n",
       "  </thead>\n",
       "  <tbody>\n",
       "    <tr>\n",
       "      <th>0</th>\n",
       "      <td>58752f98-2f98-11e2-c4aa-6d2ae64d263b</td>\n",
       "      <td>-7.774636</td>\n",
       "      <td>110.377510</td>\n",
       "      <td>2022-03-01 02:07:05</td>\n",
       "      <td>POINT (110.37751007080078 -7.774636)</td>\n",
       "      <td>Caturtunggal</td>\n",
       "      <td>Depok</td>\n",
       "      <td>Sleman</td>\n",
       "      <td>2022-03-01</td>\n",
       "    </tr>\n",
       "    <tr>\n",
       "      <th>1</th>\n",
       "      <td>58752f98-2f98-11e2-c4aa-6d2ae64d263b</td>\n",
       "      <td>-7.774636</td>\n",
       "      <td>110.377510</td>\n",
       "      <td>2022-03-01 02:07:05</td>\n",
       "      <td>POINT (110.37751007080078 -7.774636)</td>\n",
       "      <td>Caturtunggal</td>\n",
       "      <td>Depok</td>\n",
       "      <td>Sleman</td>\n",
       "      <td>2022-03-01</td>\n",
       "    </tr>\n",
       "    <tr>\n",
       "      <th>2</th>\n",
       "      <td>adbe5953-0496-4a15-b013-6aee71d7ad6c</td>\n",
       "      <td>-7.776242</td>\n",
       "      <td>110.377777</td>\n",
       "      <td>2022-03-01 07:19:09</td>\n",
       "      <td>POINT (110.37777709960938 -7.776242)</td>\n",
       "      <td>Caturtunggal</td>\n",
       "      <td>Depok</td>\n",
       "      <td>Sleman</td>\n",
       "      <td>2022-03-01</td>\n",
       "    </tr>\n",
       "    <tr>\n",
       "      <th>3</th>\n",
       "      <td>adbe5953-0496-4a15-b013-6aee71d7ad6c</td>\n",
       "      <td>-7.776250</td>\n",
       "      <td>110.377769</td>\n",
       "      <td>2022-03-01 07:19:09</td>\n",
       "      <td>POINT (110.37776947021484 -7.77625)</td>\n",
       "      <td>Caturtunggal</td>\n",
       "      <td>Depok</td>\n",
       "      <td>Sleman</td>\n",
       "      <td>2022-03-01</td>\n",
       "    </tr>\n",
       "    <tr>\n",
       "      <th>4</th>\n",
       "      <td>48ab3e4a-3e4a-e750-ae55-b5812ff6c201</td>\n",
       "      <td>-7.776250</td>\n",
       "      <td>110.377769</td>\n",
       "      <td>2022-03-01 07:19:09</td>\n",
       "      <td>POINT (110.37776947021484 -7.77625)</td>\n",
       "      <td>Caturtunggal</td>\n",
       "      <td>Depok</td>\n",
       "      <td>Sleman</td>\n",
       "      <td>2022-03-01</td>\n",
       "    </tr>\n",
       "  </tbody>\n",
       "</table>\n",
       "</div>"
      ],
      "text/plain": [
       "                                   maid  latitude   longitude  \\\n",
       "0  58752f98-2f98-11e2-c4aa-6d2ae64d263b -7.774636  110.377510   \n",
       "1  58752f98-2f98-11e2-c4aa-6d2ae64d263b -7.774636  110.377510   \n",
       "2  adbe5953-0496-4a15-b013-6aee71d7ad6c -7.776242  110.377777   \n",
       "3  adbe5953-0496-4a15-b013-6aee71d7ad6c -7.776250  110.377769   \n",
       "4  48ab3e4a-3e4a-e750-ae55-b5812ff6c201 -7.776250  110.377769   \n",
       "\n",
       "          datetime_wib                              geometry Kelurahan/Desa  \\\n",
       "0  2022-03-01 02:07:05  POINT (110.37751007080078 -7.774636)   Caturtunggal   \n",
       "1  2022-03-01 02:07:05  POINT (110.37751007080078 -7.774636)   Caturtunggal   \n",
       "2  2022-03-01 07:19:09  POINT (110.37777709960938 -7.776242)   Caturtunggal   \n",
       "3  2022-03-01 07:19:09   POINT (110.37776947021484 -7.77625)   Caturtunggal   \n",
       "4  2022-03-01 07:19:09   POINT (110.37776947021484 -7.77625)   Caturtunggal   \n",
       "\n",
       "  Kecamatan Kabupaten     tanggal  \n",
       "0     Depok    Sleman  2022-03-01  \n",
       "1     Depok    Sleman  2022-03-01  \n",
       "2     Depok    Sleman  2022-03-01  \n",
       "3     Depok    Sleman  2022-03-01  \n",
       "4     Depok    Sleman  2022-03-01  "
      ]
     },
     "execution_count": 29,
     "metadata": {},
     "output_type": "execute_result"
    }
   ],
   "source": [
    "data.head()"
   ]
  },
  {
   "cell_type": "code",
   "execution_count": 30,
   "metadata": {},
   "outputs": [
    {
     "data": {
      "text/plain": [
       "maid               1512\n",
       "latitude           6751\n",
       "longitude          1681\n",
       "datetime_wib      16158\n",
       "geometry          22931\n",
       "Kelurahan/Desa        3\n",
       "Kecamatan             2\n",
       "Kabupaten             2\n",
       "tanggal              31\n",
       "dtype: int64"
      ]
     },
     "execution_count": 30,
     "metadata": {},
     "output_type": "execute_result"
    }
   ],
   "source": [
    "data.nunique()"
   ]
  },
  {
   "cell_type": "markdown",
   "metadata": {},
   "source": [
    "## April 2022"
   ]
  },
  {
   "cell_type": "code",
   "execution_count": 31,
   "metadata": {},
   "outputs": [
    {
     "name": "stdout",
     "output_type": "stream",
     "text": [
      "Kelurahan/Desa\n",
      "Caturtunggal          116\n",
      "Kelurahan Kotabaru    533\n",
      "Kelurahan Terban      593\n",
      "Name: maid, dtype: int64\n"
     ]
    },
    {
     "data": {
      "image/png": "[encoded data removed]",
      "text/plain": [
       "<Figure size 1000x600 with 1 Axes>"
      ]
     },
     "metadata": {},
     "output_type": "display_data"
    }
   ],
   "source": [
    "path = './DataGPS_Terban/filter1_terban_apr.csv'\n",
    "data = pd.read_csv(path)\n",
    "data = drop_columns(data)\n",
    "\n",
    "count_bykelurahan(data)\n",
    "count_maid(data)\n",
    "bar_chart(data)"
   ]
  },
  {
   "cell_type": "code",
   "execution_count": 32,
   "metadata": {},
   "outputs": [
    {
     "data": {
      "text/html": [
       "<div>\n",
       "<style scoped>\n",
       "    .dataframe tbody tr th:only-of-type {\n",
       "        vertical-align: middle;\n",
       "    }\n",
       "\n",
       "    .dataframe tbody tr th {\n",
       "        vertical-align: top;\n",
       "    }\n",
       "\n",
       "    .dataframe thead th {\n",
       "        text-align: right;\n",
       "    }\n",
       "</style>\n",
       "<table border=\"1\" class=\"dataframe\">\n",
       "  <thead>\n",
       "    <tr style=\"text-align: right;\">\n",
       "      <th></th>\n",
       "      <th>maid</th>\n",
       "      <th>latitude</th>\n",
       "      <th>longitude</th>\n",
       "      <th>datetime_wib</th>\n",
       "      <th>geometry</th>\n",
       "      <th>Kelurahan/Desa</th>\n",
       "      <th>Kecamatan</th>\n",
       "      <th>Kabupaten</th>\n",
       "      <th>tanggal</th>\n",
       "    </tr>\n",
       "  </thead>\n",
       "  <tbody>\n",
       "    <tr>\n",
       "      <th>0</th>\n",
       "      <td>d544043c-cd35-4e6c-9b93-c4ac3208b957</td>\n",
       "      <td>-7.776210</td>\n",
       "      <td>110.375923</td>\n",
       "      <td>2022-04-01 00:17:33</td>\n",
       "      <td>POINT (110.37592315673828 -7.77621)</td>\n",
       "      <td>Caturtunggal</td>\n",
       "      <td>Depok</td>\n",
       "      <td>Sleman</td>\n",
       "      <td>2022-04-01</td>\n",
       "    </tr>\n",
       "    <tr>\n",
       "      <th>1</th>\n",
       "      <td>d544043c-cd35-4e6c-9b93-c4ac3208b957</td>\n",
       "      <td>-7.776206</td>\n",
       "      <td>110.375923</td>\n",
       "      <td>2022-04-01 00:17:33</td>\n",
       "      <td>POINT (110.37592315673828 -7.776206)</td>\n",
       "      <td>Caturtunggal</td>\n",
       "      <td>Depok</td>\n",
       "      <td>Sleman</td>\n",
       "      <td>2022-04-01</td>\n",
       "    </tr>\n",
       "    <tr>\n",
       "      <th>2</th>\n",
       "      <td>d544043c-cd35-4e6c-9b93-c4ac3208b957</td>\n",
       "      <td>-7.776210</td>\n",
       "      <td>110.375920</td>\n",
       "      <td>2022-04-01 00:17:33</td>\n",
       "      <td>POINT (110.37592 -7.77621)</td>\n",
       "      <td>Caturtunggal</td>\n",
       "      <td>Depok</td>\n",
       "      <td>Sleman</td>\n",
       "      <td>2022-04-01</td>\n",
       "    </tr>\n",
       "    <tr>\n",
       "      <th>3</th>\n",
       "      <td>d544043c-cd35-4e6c-9b93-c4ac3208b957</td>\n",
       "      <td>-7.776206</td>\n",
       "      <td>110.375920</td>\n",
       "      <td>2022-04-01 00:17:33</td>\n",
       "      <td>POINT (110.37592 -7.776206)</td>\n",
       "      <td>Caturtunggal</td>\n",
       "      <td>Depok</td>\n",
       "      <td>Sleman</td>\n",
       "      <td>2022-04-01</td>\n",
       "    </tr>\n",
       "    <tr>\n",
       "      <th>4</th>\n",
       "      <td>5f4616cb-16cb-b190-8ff1-7aac23e6346f</td>\n",
       "      <td>-7.776210</td>\n",
       "      <td>110.375923</td>\n",
       "      <td>2022-04-01 00:17:33</td>\n",
       "      <td>POINT (110.37592315673828 -7.77621)</td>\n",
       "      <td>Caturtunggal</td>\n",
       "      <td>Depok</td>\n",
       "      <td>Sleman</td>\n",
       "      <td>2022-04-01</td>\n",
       "    </tr>\n",
       "  </tbody>\n",
       "</table>\n",
       "</div>"
      ],
      "text/plain": [
       "                                   maid  latitude   longitude  \\\n",
       "0  d544043c-cd35-4e6c-9b93-c4ac3208b957 -7.776210  110.375923   \n",
       "1  d544043c-cd35-4e6c-9b93-c4ac3208b957 -7.776206  110.375923   \n",
       "2  d544043c-cd35-4e6c-9b93-c4ac3208b957 -7.776210  110.375920   \n",
       "3  d544043c-cd35-4e6c-9b93-c4ac3208b957 -7.776206  110.375920   \n",
       "4  5f4616cb-16cb-b190-8ff1-7aac23e6346f -7.776210  110.375923   \n",
       "\n",
       "          datetime_wib                              geometry Kelurahan/Desa  \\\n",
       "0  2022-04-01 00:17:33   POINT (110.37592315673828 -7.77621)   Caturtunggal   \n",
       "1  2022-04-01 00:17:33  POINT (110.37592315673828 -7.776206)   Caturtunggal   \n",
       "2  2022-04-01 00:17:33            POINT (110.37592 -7.77621)   Caturtunggal   \n",
       "3  2022-04-01 00:17:33           POINT (110.37592 -7.776206)   Caturtunggal   \n",
       "4  2022-04-01 00:17:33   POINT (110.37592315673828 -7.77621)   Caturtunggal   \n",
       "\n",
       "  Kecamatan Kabupaten     tanggal  \n",
       "0     Depok    Sleman  2022-04-01  \n",
       "1     Depok    Sleman  2022-04-01  \n",
       "2     Depok    Sleman  2022-04-01  \n",
       "3     Depok    Sleman  2022-04-01  \n",
       "4     Depok    Sleman  2022-04-01  "
      ]
     },
     "execution_count": 32,
     "metadata": {},
     "output_type": "execute_result"
    }
   ],
   "source": [
    "data.head()"
   ]
  },
  {
   "cell_type": "code",
   "execution_count": 33,
   "metadata": {},
   "outputs": [
    {
     "data": {
      "text/plain": [
       "maid               1099\n",
       "latitude           4297\n",
       "longitude          1540\n",
       "datetime_wib       8774\n",
       "geometry          11167\n",
       "Kelurahan/Desa        3\n",
       "Kecamatan             2\n",
       "Kabupaten             2\n",
       "tanggal              30\n",
       "dtype: int64"
      ]
     },
     "execution_count": 33,
     "metadata": {},
     "output_type": "execute_result"
    }
   ],
   "source": [
    "data.nunique()"
   ]
  },
  {
   "cell_type": "markdown",
   "metadata": {},
   "source": [
    "## Mei 2022"
   ]
  },
  {
   "cell_type": "code",
   "execution_count": 34,
   "metadata": {},
   "outputs": [
    {
     "name": "stdout",
     "output_type": "stream",
     "text": [
      "Kelurahan/Desa\n",
      "Caturtunggal          1643\n",
      "Kelurahan Kotabaru    3867\n",
      "Kelurahan Terban      4388\n",
      "Name: maid, dtype: int64\n"
     ]
    },
    {
     "data": {
      "image/png": "[encoded data removed]",
      "text/plain": [
       "<Figure size 1000x600 with 1 Axes>"
      ]
     },
     "metadata": {},
     "output_type": "display_data"
    }
   ],
   "source": [
    "path = './DataGPS_Terban/filter1_terban_mei.csv'\n",
    "data = pd.read_csv(path)\n",
    "data = drop_columns(data)\n",
    "\n",
    "count_bykelurahan(data)\n",
    "count_maid(data)\n",
    "bar_chart(data)"
   ]
  },
  {
   "cell_type": "code",
   "execution_count": 35,
   "metadata": {},
   "outputs": [
    {
     "data": {
      "text/html": [
       "<div>\n",
       "<style scoped>\n",
       "    .dataframe tbody tr th:only-of-type {\n",
       "        vertical-align: middle;\n",
       "    }\n",
       "\n",
       "    .dataframe tbody tr th {\n",
       "        vertical-align: top;\n",
       "    }\n",
       "\n",
       "    .dataframe thead th {\n",
       "        text-align: right;\n",
       "    }\n",
       "</style>\n",
       "<table border=\"1\" class=\"dataframe\">\n",
       "  <thead>\n",
       "    <tr style=\"text-align: right;\">\n",
       "      <th></th>\n",
       "      <th>maid</th>\n",
       "      <th>latitude</th>\n",
       "      <th>longitude</th>\n",
       "      <th>datetime_wib</th>\n",
       "      <th>geometry</th>\n",
       "      <th>Kelurahan/Desa</th>\n",
       "      <th>Kecamatan</th>\n",
       "      <th>Kabupaten</th>\n",
       "      <th>tanggal</th>\n",
       "    </tr>\n",
       "  </thead>\n",
       "  <tbody>\n",
       "    <tr>\n",
       "      <th>0</th>\n",
       "      <td>681918c3-18c3-e5cf-d420-e2951734c888</td>\n",
       "      <td>-7.774673</td>\n",
       "      <td>110.37481</td>\n",
       "      <td>2022-05-01 08:42:14</td>\n",
       "      <td>POINT (110.37481 -7.7746735)</td>\n",
       "      <td>Caturtunggal</td>\n",
       "      <td>Depok</td>\n",
       "      <td>Sleman</td>\n",
       "      <td>2022-05-01</td>\n",
       "    </tr>\n",
       "    <tr>\n",
       "      <th>1</th>\n",
       "      <td>caa6bfe7-bfe7-d20b-c089-b5e7a652d999</td>\n",
       "      <td>-7.776470</td>\n",
       "      <td>110.37753</td>\n",
       "      <td>2022-05-02 02:26:19</td>\n",
       "      <td>POINT (110.37753 -7.77647)</td>\n",
       "      <td>Caturtunggal</td>\n",
       "      <td>Depok</td>\n",
       "      <td>Sleman</td>\n",
       "      <td>2022-05-02</td>\n",
       "    </tr>\n",
       "    <tr>\n",
       "      <th>2</th>\n",
       "      <td>55156a48-af54-4a95-96be-f9a04419f799</td>\n",
       "      <td>-7.776464</td>\n",
       "      <td>110.37753</td>\n",
       "      <td>2022-05-02 02:26:19</td>\n",
       "      <td>POINT (110.37753 -7.776464)</td>\n",
       "      <td>Caturtunggal</td>\n",
       "      <td>Depok</td>\n",
       "      <td>Sleman</td>\n",
       "      <td>2022-05-02</td>\n",
       "    </tr>\n",
       "    <tr>\n",
       "      <th>3</th>\n",
       "      <td>55156a48-af54-4a95-96be-f9a04419f799</td>\n",
       "      <td>-7.776470</td>\n",
       "      <td>110.37753</td>\n",
       "      <td>2022-05-02 02:26:19</td>\n",
       "      <td>POINT (110.37753 -7.77647)</td>\n",
       "      <td>Caturtunggal</td>\n",
       "      <td>Depok</td>\n",
       "      <td>Sleman</td>\n",
       "      <td>2022-05-02</td>\n",
       "    </tr>\n",
       "    <tr>\n",
       "      <th>4</th>\n",
       "      <td>55156a48-af54-4a95-96be-f9a04419f799</td>\n",
       "      <td>-7.776470</td>\n",
       "      <td>110.37753</td>\n",
       "      <td>2022-05-02 02:26:19</td>\n",
       "      <td>POINT (110.37753 -7.77647)</td>\n",
       "      <td>Caturtunggal</td>\n",
       "      <td>Depok</td>\n",
       "      <td>Sleman</td>\n",
       "      <td>2022-05-02</td>\n",
       "    </tr>\n",
       "  </tbody>\n",
       "</table>\n",
       "</div>"
      ],
      "text/plain": [
       "                                   maid  latitude  longitude  \\\n",
       "0  681918c3-18c3-e5cf-d420-e2951734c888 -7.774673  110.37481   \n",
       "1  caa6bfe7-bfe7-d20b-c089-b5e7a652d999 -7.776470  110.37753   \n",
       "2  55156a48-af54-4a95-96be-f9a04419f799 -7.776464  110.37753   \n",
       "3  55156a48-af54-4a95-96be-f9a04419f799 -7.776470  110.37753   \n",
       "4  55156a48-af54-4a95-96be-f9a04419f799 -7.776470  110.37753   \n",
       "\n",
       "          datetime_wib                      geometry Kelurahan/Desa Kecamatan  \\\n",
       "0  2022-05-01 08:42:14  POINT (110.37481 -7.7746735)   Caturtunggal     Depok   \n",
       "1  2022-05-02 02:26:19    POINT (110.37753 -7.77647)   Caturtunggal     Depok   \n",
       "2  2022-05-02 02:26:19   POINT (110.37753 -7.776464)   Caturtunggal     Depok   \n",
       "3  2022-05-02 02:26:19    POINT (110.37753 -7.77647)   Caturtunggal     Depok   \n",
       "4  2022-05-02 02:26:19    POINT (110.37753 -7.77647)   Caturtunggal     Depok   \n",
       "\n",
       "  Kabupaten     tanggal  \n",
       "0    Sleman  2022-05-01  \n",
       "1    Sleman  2022-05-02  \n",
       "2    Sleman  2022-05-02  \n",
       "3    Sleman  2022-05-02  \n",
       "4    Sleman  2022-05-02  "
      ]
     },
     "execution_count": 35,
     "metadata": {},
     "output_type": "execute_result"
    }
   ],
   "source": [
    "data.head()"
   ]
  },
  {
   "cell_type": "code",
   "execution_count": 36,
   "metadata": {},
   "outputs": [
    {
     "data": {
      "text/plain": [
       "maid                6688\n",
       "latitude           19323\n",
       "longitude           1776\n",
       "datetime_wib       84437\n",
       "geometry          102690\n",
       "Kelurahan/Desa         3\n",
       "Kecamatan              2\n",
       "Kabupaten              2\n",
       "tanggal               31\n",
       "dtype: int64"
      ]
     },
     "execution_count": 36,
     "metadata": {},
     "output_type": "execute_result"
    }
   ],
   "source": [
    "data.nunique()"
   ]
  },
  {
   "cell_type": "markdown",
   "metadata": {},
   "source": [
    "## Juni 2022"
   ]
  },
  {
   "cell_type": "code",
   "execution_count": 37,
   "metadata": {},
   "outputs": [
    {
     "name": "stdout",
     "output_type": "stream",
     "text": [
      "Kelurahan/Desa\n",
      "Caturtunggal           626\n",
      "Kelurahan Kotabaru    1633\n",
      "Kelurahan Terban      1754\n",
      "Name: maid, dtype: int64\n"
     ]
    },
    {
     "data": {
      "image/png": "[encoded data removed]",
      "text/plain": [
       "<Figure size 1000x600 with 1 Axes>"
      ]
     },
     "metadata": {},
     "output_type": "display_data"
    }
   ],
   "source": [
    "path = './DataGPS_Terban/filter1_terban_jun.csv'\n",
    "data = pd.read_csv(path)\n",
    "data = drop_columns(data)\n",
    "\n",
    "count_bykelurahan(data)\n",
    "count_maid(data)\n",
    "bar_chart(data)"
   ]
  },
  {
   "cell_type": "code",
   "execution_count": 38,
   "metadata": {},
   "outputs": [
    {
     "data": {
      "text/html": [
       "<div>\n",
       "<style scoped>\n",
       "    .dataframe tbody tr th:only-of-type {\n",
       "        vertical-align: middle;\n",
       "    }\n",
       "\n",
       "    .dataframe tbody tr th {\n",
       "        vertical-align: top;\n",
       "    }\n",
       "\n",
       "    .dataframe thead th {\n",
       "        text-align: right;\n",
       "    }\n",
       "</style>\n",
       "<table border=\"1\" class=\"dataframe\">\n",
       "  <thead>\n",
       "    <tr style=\"text-align: right;\">\n",
       "      <th></th>\n",
       "      <th>maid</th>\n",
       "      <th>latitude</th>\n",
       "      <th>longitude</th>\n",
       "      <th>datetime_wib</th>\n",
       "      <th>geometry</th>\n",
       "      <th>Kelurahan/Desa</th>\n",
       "      <th>Kecamatan</th>\n",
       "      <th>Kabupaten</th>\n",
       "      <th>tanggal</th>\n",
       "    </tr>\n",
       "  </thead>\n",
       "  <tbody>\n",
       "    <tr>\n",
       "      <th>0</th>\n",
       "      <td>42b578bb-3835-4947-83ee-62f1f01e5561</td>\n",
       "      <td>-7.78257</td>\n",
       "      <td>110.374207</td>\n",
       "      <td>2022-06-01 00:00:02</td>\n",
       "      <td>POINT (110.37420654296876 -7.78257)</td>\n",
       "      <td>Kelurahan Terban</td>\n",
       "      <td>Gondokusuman</td>\n",
       "      <td>Kota Yogyakarta</td>\n",
       "      <td>2022-06-01</td>\n",
       "    </tr>\n",
       "    <tr>\n",
       "      <th>1</th>\n",
       "      <td>42b578bb-3835-4947-83ee-62f1f01e5561</td>\n",
       "      <td>-7.78257</td>\n",
       "      <td>110.374207</td>\n",
       "      <td>2022-06-01 00:00:02</td>\n",
       "      <td>POINT (110.37420654296876 -7.78257)</td>\n",
       "      <td>Kelurahan Terban</td>\n",
       "      <td>Gondokusuman</td>\n",
       "      <td>Kota Yogyakarta</td>\n",
       "      <td>2022-06-01</td>\n",
       "    </tr>\n",
       "    <tr>\n",
       "      <th>2</th>\n",
       "      <td>42b578bb-3835-4947-83ee-62f1f01e5561</td>\n",
       "      <td>-7.78257</td>\n",
       "      <td>110.374214</td>\n",
       "      <td>2022-06-01 00:00:02</td>\n",
       "      <td>POINT (110.374214 -7.78257)</td>\n",
       "      <td>Kelurahan Terban</td>\n",
       "      <td>Gondokusuman</td>\n",
       "      <td>Kota Yogyakarta</td>\n",
       "      <td>2022-06-01</td>\n",
       "    </tr>\n",
       "    <tr>\n",
       "      <th>3</th>\n",
       "      <td>42b578bb-3835-4947-83ee-62f1f01e5561</td>\n",
       "      <td>-7.78257</td>\n",
       "      <td>110.374214</td>\n",
       "      <td>2022-06-01 00:00:02</td>\n",
       "      <td>POINT (110.374214 -7.78257)</td>\n",
       "      <td>Kelurahan Terban</td>\n",
       "      <td>Gondokusuman</td>\n",
       "      <td>Kota Yogyakarta</td>\n",
       "      <td>2022-06-01</td>\n",
       "    </tr>\n",
       "    <tr>\n",
       "      <th>4</th>\n",
       "      <td>42b578bb-3835-4947-83ee-62f1f01e5561</td>\n",
       "      <td>-7.78257</td>\n",
       "      <td>110.374210</td>\n",
       "      <td>2022-06-01 00:00:02</td>\n",
       "      <td>POINT (110.37421 -7.78257)</td>\n",
       "      <td>Kelurahan Terban</td>\n",
       "      <td>Gondokusuman</td>\n",
       "      <td>Kota Yogyakarta</td>\n",
       "      <td>2022-06-01</td>\n",
       "    </tr>\n",
       "  </tbody>\n",
       "</table>\n",
       "</div>"
      ],
      "text/plain": [
       "                                   maid  latitude   longitude  \\\n",
       "0  42b578bb-3835-4947-83ee-62f1f01e5561  -7.78257  110.374207   \n",
       "1  42b578bb-3835-4947-83ee-62f1f01e5561  -7.78257  110.374207   \n",
       "2  42b578bb-3835-4947-83ee-62f1f01e5561  -7.78257  110.374214   \n",
       "3  42b578bb-3835-4947-83ee-62f1f01e5561  -7.78257  110.374214   \n",
       "4  42b578bb-3835-4947-83ee-62f1f01e5561  -7.78257  110.374210   \n",
       "\n",
       "          datetime_wib                             geometry    Kelurahan/Desa  \\\n",
       "0  2022-06-01 00:00:02  POINT (110.37420654296876 -7.78257)  Kelurahan Terban   \n",
       "1  2022-06-01 00:00:02  POINT (110.37420654296876 -7.78257)  Kelurahan Terban   \n",
       "2  2022-06-01 00:00:02          POINT (110.374214 -7.78257)  Kelurahan Terban   \n",
       "3  2022-06-01 00:00:02          POINT (110.374214 -7.78257)  Kelurahan Terban   \n",
       "4  2022-06-01 00:00:02           POINT (110.37421 -7.78257)  Kelurahan Terban   \n",
       "\n",
       "      Kecamatan        Kabupaten     tanggal  \n",
       "0  Gondokusuman  Kota Yogyakarta  2022-06-01  \n",
       "1  Gondokusuman  Kota Yogyakarta  2022-06-01  \n",
       "2  Gondokusuman  Kota Yogyakarta  2022-06-01  \n",
       "3  Gondokusuman  Kota Yogyakarta  2022-06-01  \n",
       "4  Gondokusuman  Kota Yogyakarta  2022-06-01  "
      ]
     },
     "execution_count": 38,
     "metadata": {},
     "output_type": "execute_result"
    }
   ],
   "source": [
    "data.head()"
   ]
  },
  {
   "cell_type": "code",
   "execution_count": 39,
   "metadata": {},
   "outputs": [
    {
     "data": {
      "text/plain": [
       "maid               2768\n",
       "latitude          11537\n",
       "longitude          1725\n",
       "datetime_wib      24809\n",
       "geometry          29177\n",
       "Kelurahan/Desa        3\n",
       "Kecamatan             2\n",
       "Kabupaten             2\n",
       "tanggal               7\n",
       "dtype: int64"
      ]
     },
     "execution_count": 39,
     "metadata": {},
     "output_type": "execute_result"
    }
   ],
   "source": [
    "data.nunique()"
   ]
  },
  {
   "cell_type": "code",
   "execution_count": null,
   "metadata": {},
   "outputs": [],
   "source": []
  }
 ],
 "metadata": {
  "kernelspec": {
   "display_name": "Python 3",
   "language": "python",
   "name": "python3"
  },
  "language_info": {
   "codemirror_mode": {
    "name": "ipython",
    "version": 3
   },
   "file_extension": ".py",
   "mimetype": "text/x-python",
   "name": "python",
   "nbconvert_exporter": "python",
   "pygments_lexer": "ipython3",
   "version": "3.9.2"
  }
 },
 "nbformat": 4,
 "nbformat_minor": 2
}
