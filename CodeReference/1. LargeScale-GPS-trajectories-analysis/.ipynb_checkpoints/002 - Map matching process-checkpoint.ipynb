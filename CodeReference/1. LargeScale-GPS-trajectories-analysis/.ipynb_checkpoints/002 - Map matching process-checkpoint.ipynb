{
 "cells": [
  {
   "cell_type": "markdown",
   "metadata": {},
   "source": [
    "## 002 - Map matching process\n",
    "#### This script map matches the GPS points (sequences of points that represent the trajectories) to the road network represented as a vector file, and calculates the average speed and frequency per road segment. This codes uses the map matching algorithm developed by Nimol Vamoeurn (nimolva@gmail.com) and adapts it for this research purposes. The code uses a list of csv files as inputs that are produced by the code 001. "
   ]
  },
  {
   "cell_type": "code",
   "execution_count": null,
   "metadata": {
    "collapsed": true
   },
   "outputs": [],
   "source": [
    "import mapmatcher as mm\n",
    "import os\n",
    "import csv\n",
    "import itertools\n",
    "from collections import Counter, defaultdict\n",
    "from datetime import datetime\n",
    "#spatial libraries \n",
    "import fiona\n",
    "from shapely.geometry import shape, Point, mapping\n",
    "from shapely.ops import linemerge\n",
    "import pandas as pd \n",
    "\n",
    "startTime = datetime.now()"
   ]
  },
  {
   "cell_type": "code",
   "execution_count": null,
   "metadata": {
    "collapsed": true
   },
   "outputs": [],
   "source": [
    "# Read Road Network data from Shapefile \n",
    "street_network = 'C:/Data/road_network_melb_prj.shp'\n",
    "# Set segmment ID - OBJECTID \n",
    "seg_info = mm.getSegmentInfo(street_network)\n",
    "seg_geom = mm.getSegmentShapes(street_network)\n",
    "graph = mm.getNetworkGraph(street_network, seg_info[1])\n",
    "endpoints = seg_info[0]\n",
    "length = seg_info[1]\n",
    "# Create a spatial index for the road network\n",
    "idx = mm.buildRTree(street_network)\n",
    "\n",
    "\n",
    "# Input \n",
    "in_dir = 'C:/Data/Input files/test/'\n",
    "# Read point data\n",
    "csv_input = os.path.join(in_dir,r'test_am.csv')\n",
    "# Output \n",
    "out_file = 'C:/Data/Output files/test_am.csv'\n",
    "\n",
    "\n",
    "print \"Network and data loaded \"\n",
    "print (datetime.now() - startTime)"
   ]
  },
  {
   "cell_type": "code",
   "execution_count": null,
   "metadata": {
    "collapsed": true
   },
   "outputs": [],
   "source": [
    "def FloatOrZero(value):\n",
    "    try:\n",
    "        return float(value)\n",
    "    except:\n",
    "        return 0.0"
   ]
  },
  {
   "cell_type": "code",
   "execution_count": null,
   "metadata": {
    "collapsed": true,
    "scrolled": true
   },
   "outputs": [],
   "source": [
    "with open(csv_input, 'r') as input_track:\n",
    "    track = csv.reader(input_track, delimiter=',')\n",
    "    header_line = next(track)\n",
    "    seg_count_list = []\n",
    "    speed_count = defaultdict(list)\n",
    "    seg_speed_avg = {}\n",
    "    counter = 0\n",
    "    counter_sessions = 0\n",
    "    for key, group in itertools.groupby(track, key=lambda x: x[6]):\n",
    "        try:\n",
    "            indiv_track = []\n",
    "            speed_track = [float(0)]\n",
    "            print key\n",
    "            print \"------------------\"\n",
    "            for p in group:\n",
    "                # x and y coordinates\n",
    "                indiv_track.append((float(p[3]), float(p[4])))\n",
    "                if p[8] not in (None, \"\"):\n",
    "                    speed_track.append(float(p[8]))\n",
    "            print indiv_track\n",
    "            opt = mm.mapMatch(indiv_track, seg_info, graph, idx, seg_geom,\n",
    "                                  500, 400, 50)\n",
    "            print opt\n",
    "            # Create list of all matched segments\n",
    "            for seg in opt:\n",
    "                seg_count_list.append(seg)\n",
    "  \n",
    "            #Clean the path (remove double segments and crossings, etc.)\n",
    "            opt_clean = mm.cleanPath(opt, endpoints)\n",
    "        \n",
    "            print (\" %d total segments matched for segment ID\" %(len(opt)))\n",
    "            print (\" %d cleaned segments matched for segment ID\" %(len(opt_clean)))\n",
    "            print (\" %d records for session id %s\" %((len(indiv_track)), key))\n",
    "            print (\" %d valid speed records for session id %s\") %((len(speed_track)), key)\n",
    "            #Append speed value for matched segment \n",
    "            for segment, value in itertools.izip(opt, speed_track):\n",
    "                if segment in opt_clean:\n",
    "                    speed_count[segment].append(value)\n",
    "                    \n",
    "            counter_sessions +=1\n",
    "        except:\n",
    "            counter += 1\n",
    "    \n",
    "    #Calculate segment frequency \n",
    "    seg_freq = {x: seg_count_list.count(x) for x in seg_count_list}\n",
    "    #Calculate average speed for each segment\n",
    "    for items in speed_count.items():\n",
    "        seg_speed_avg[items[0]] = sum(items[-1])/len(items[-1])\n",
    "                      "
   ]
  },
  {
   "cell_type": "code",
   "execution_count": null,
   "metadata": {
    "collapsed": true
   },
   "outputs": [],
   "source": [
    "# Merge data \n",
    "df_freq = pd.DataFrame(seg_freq.items()) \n",
    "df_freq.rename(columns={0: 'SegmentID', 1: 'Freq'}, inplace=True)\n",
    "print (df_freq.head())\n",
    "df_speed = pd.DataFrame(seg_speed_avg.items())\n",
    "df_speed.rename(columns={0: 'SegmentID', 1: 'Avg_speed'}, inplace=True)\n",
    "print (df_speed.head())\n"
   ]
  },
  {
   "cell_type": "code",
   "execution_count": null,
   "metadata": {
    "collapsed": true
   },
   "outputs": [],
   "source": [
    "df_segments = df_freq.join(df_speed.set_index('SegmentID'), on = 'SegmentID')\n",
    "df_segments"
   ]
  },
  {
   "cell_type": "code",
   "execution_count": null,
   "metadata": {
    "collapsed": true
   },
   "outputs": [],
   "source": [
    "df_segments.to_csv(out_file,encoding = 'utf-8')"
   ]
  },
  {
   "cell_type": "code",
   "execution_count": null,
   "metadata": {
    "collapsed": true
   },
   "outputs": [],
   "source": [
    "print (\"Done!\")\n",
    "print \"Summary:\"\n",
    "print \"-------------------------------------\"\n",
    "print (\"%d matched segments\" %(len(seg_freq.keys())))\n",
    "print (\"%d total mapped sessions\" %(counter_sessions))\n",
    "print (\"%d broken or unmappable sessions\" %(counter))\n",
    "print (datetime.now() - startTime)"
   ]
  }
 ],
 "metadata": {
  "kernelspec": {
   "display_name": "Python 2",
   "language": "python",
   "name": "python2"
  },
  "language_info": {
   "codemirror_mode": {
    "name": "ipython",
    "version": 2
   },
   "file_extension": ".py",
   "mimetype": "text/x-python",
   "name": "python",
   "nbconvert_exporter": "python",
   "pygments_lexer": "ipython2",
   "version": "2.7.13"
  }
 },
 "nbformat": 4,
 "nbformat_minor": 2
}
