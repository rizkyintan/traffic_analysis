{
 "cells": [
  {
   "cell_type": "code",
   "execution_count": 1,
   "id": "4cc8ad6f",
   "metadata": {
    "scrolled": true
   },
   "outputs": [],
   "source": [
    "import pandas as pd\n",
    "import matplotlib.pyplot as plt\n",
    "import numpy as np"
   ]
  },
  {
   "cell_type": "markdown",
   "id": "3ab96827",
   "metadata": {},
   "source": [
    "## Reading the DataFrame"
   ]
  },
  {
   "cell_type": "markdown",
   "id": "bc7fb437",
   "metadata": {},
   "source": [
    "### Data original"
   ]
  },
  {
   "cell_type": "code",
   "execution_count": 19,
   "id": "366dad3b",
   "metadata": {
    "scrolled": true
   },
   "outputs": [
    {
     "name": "stderr",
     "output_type": "stream",
     "text": [
      "/tmp/ipykernel_15516/2349169461.py:2: DtypeWarning: Columns (2,3,4) have mixed types. Specify dtype option on import or set low_memory=False.\n",
      "  df = pd.read_csv(path)\n"
     ]
    },
    {
     "data": {
      "text/html": [
       "<div>\n",
       "<style scoped>\n",
       "    .dataframe tbody tr th:only-of-type {\n",
       "        vertical-align: middle;\n",
       "    }\n",
       "\n",
       "    .dataframe tbody tr th {\n",
       "        vertical-align: top;\n",
       "    }\n",
       "\n",
       "    .dataframe thead th {\n",
       "        text-align: right;\n",
       "    }\n",
       "</style>\n",
       "<table border=\"1\" class=\"dataframe\">\n",
       "  <thead>\n",
       "    <tr style=\"text-align: right;\">\n",
       "      <th></th>\n",
       "      <th>maid</th>\n",
       "      <th>latitude</th>\n",
       "      <th>longitude</th>\n",
       "      <th>timestamp</th>\n",
       "    </tr>\n",
       "  </thead>\n",
       "  <tbody>\n",
       "    <tr>\n",
       "      <th>0</th>\n",
       "      <td>8f60c037-8ff2-4ccd-bd6d-05630f92550b</td>\n",
       "      <td>-7.677174</td>\n",
       "      <td>110.45501</td>\n",
       "      <td>1642378184</td>\n",
       "    </tr>\n",
       "    <tr>\n",
       "      <th>1</th>\n",
       "      <td>061fd420-fcd0-4923-8a2b-bbeee7c74872</td>\n",
       "      <td>-7.70582</td>\n",
       "      <td>110.31897</td>\n",
       "      <td>1642378196</td>\n",
       "    </tr>\n",
       "    <tr>\n",
       "      <th>2</th>\n",
       "      <td>061fd420-fcd0-4923-8a2b-bbeee7c74872</td>\n",
       "      <td>-7.705812</td>\n",
       "      <td>110.31898</td>\n",
       "      <td>1642378196</td>\n",
       "    </tr>\n",
       "    <tr>\n",
       "      <th>3</th>\n",
       "      <td>061fd420-fcd0-4923-8a2b-bbeee7c74872</td>\n",
       "      <td>-7.705812</td>\n",
       "      <td>110.31898</td>\n",
       "      <td>1642378220</td>\n",
       "    </tr>\n",
       "    <tr>\n",
       "      <th>4</th>\n",
       "      <td>b23130b2-1bdb-4f1d-b8b2-81d3204523c8</td>\n",
       "      <td>-7.84391</td>\n",
       "      <td>110.43813</td>\n",
       "      <td>1642378237</td>\n",
       "    </tr>\n",
       "  </tbody>\n",
       "</table>\n",
       "</div>"
      ],
      "text/plain": [
       "                                   maid   latitude  longitude   timestamp\n",
       "0  8f60c037-8ff2-4ccd-bd6d-05630f92550b  -7.677174  110.45501  1642378184\n",
       "1  061fd420-fcd0-4923-8a2b-bbeee7c74872   -7.70582  110.31897  1642378196\n",
       "2  061fd420-fcd0-4923-8a2b-bbeee7c74872  -7.705812  110.31898  1642378196\n",
       "3  061fd420-fcd0-4923-8a2b-bbeee7c74872  -7.705812  110.31898  1642378220\n",
       "4  b23130b2-1bdb-4f1d-b8b2-81d3204523c8   -7.84391  110.43813  1642378237"
      ]
     },
     "execution_count": 19,
     "metadata": {},
     "output_type": "execute_result"
    }
   ],
   "source": [
    "path = './DataGPS/Januari2022.csv'\n",
    "df = pd.read_csv(path)\n",
    "df = df.drop({'Unnamed: 0'},axis=1)\n",
    "df.head()"
   ]
  },
  {
   "cell_type": "markdown",
   "id": "7647f02a",
   "metadata": {},
   "source": [
    "### Data reverse geocoding "
   ]
  },
  {
   "cell_type": "code",
   "execution_count": 38,
   "id": "39fd6303",
   "metadata": {
    "scrolled": true
   },
   "outputs": [
    {
     "ename": "ParserError",
     "evalue": "Error tokenizing data. C error: Calling read(nbytes) on source failed. Try engine='python'.",
     "output_type": "error",
     "traceback": [
      "\u001b[0;31m---------------------------------------------------------------------------\u001b[0m",
      "\u001b[0;31mParserError\u001b[0m                               Traceback (most recent call last)",
      "Cell \u001b[0;32mIn[38], line 2\u001b[0m\n\u001b[1;32m      1\u001b[0m path2 \u001b[38;5;241m=\u001b[39m \u001b[38;5;124m'\u001b[39m\u001b[38;5;124m../DataTelkomsel/2021November/RGnovember2021.csv\u001b[39m\u001b[38;5;124m'\u001b[39m\n\u001b[0;32m----> 2\u001b[0m df2 \u001b[38;5;241m=\u001b[39m \u001b[43mpd\u001b[49m\u001b[38;5;241;43m.\u001b[39;49m\u001b[43mread_csv\u001b[49m\u001b[43m(\u001b[49m\u001b[43mpath2\u001b[49m\u001b[43m)\u001b[49m\n\u001b[1;32m      3\u001b[0m df2 \u001b[38;5;241m=\u001b[39m df2\u001b[38;5;241m.\u001b[39mdrop({\u001b[38;5;124m'\u001b[39m\u001b[38;5;124mUnnamed: 0\u001b[39m\u001b[38;5;124m'\u001b[39m},axis\u001b[38;5;241m=\u001b[39m\u001b[38;5;241m1\u001b[39m)\n\u001b[1;32m      4\u001b[0m df2\u001b[38;5;241m.\u001b[39mhead()\n",
      "File \u001b[0;32m~/miniconda3/envs/arkham/lib/python3.10/site-packages/pandas/io/parsers/readers.py:948\u001b[0m, in \u001b[0;36mread_csv\u001b[0;34m(filepath_or_buffer, sep, delimiter, header, names, index_col, usecols, dtype, engine, converters, true_values, false_values, skipinitialspace, skiprows, skipfooter, nrows, na_values, keep_default_na, na_filter, verbose, skip_blank_lines, parse_dates, infer_datetime_format, keep_date_col, date_parser, date_format, dayfirst, cache_dates, iterator, chunksize, compression, thousands, decimal, lineterminator, quotechar, quoting, doublequote, escapechar, comment, encoding, encoding_errors, dialect, on_bad_lines, delim_whitespace, low_memory, memory_map, float_precision, storage_options, dtype_backend)\u001b[0m\n\u001b[1;32m    935\u001b[0m kwds_defaults \u001b[38;5;241m=\u001b[39m _refine_defaults_read(\n\u001b[1;32m    936\u001b[0m     dialect,\n\u001b[1;32m    937\u001b[0m     delimiter,\n\u001b[0;32m   (...)\u001b[0m\n\u001b[1;32m    944\u001b[0m     dtype_backend\u001b[38;5;241m=\u001b[39mdtype_backend,\n\u001b[1;32m    945\u001b[0m )\n\u001b[1;32m    946\u001b[0m kwds\u001b[38;5;241m.\u001b[39mupdate(kwds_defaults)\n\u001b[0;32m--> 948\u001b[0m \u001b[38;5;28;01mreturn\u001b[39;00m \u001b[43m_read\u001b[49m\u001b[43m(\u001b[49m\u001b[43mfilepath_or_buffer\u001b[49m\u001b[43m,\u001b[49m\u001b[43m \u001b[49m\u001b[43mkwds\u001b[49m\u001b[43m)\u001b[49m\n",
      "File \u001b[0;32m~/miniconda3/envs/arkham/lib/python3.10/site-packages/pandas/io/parsers/readers.py:617\u001b[0m, in \u001b[0;36m_read\u001b[0;34m(filepath_or_buffer, kwds)\u001b[0m\n\u001b[1;32m    614\u001b[0m     \u001b[38;5;28;01mreturn\u001b[39;00m parser\n\u001b[1;32m    616\u001b[0m \u001b[38;5;28;01mwith\u001b[39;00m parser:\n\u001b[0;32m--> 617\u001b[0m     \u001b[38;5;28;01mreturn\u001b[39;00m \u001b[43mparser\u001b[49m\u001b[38;5;241;43m.\u001b[39;49m\u001b[43mread\u001b[49m\u001b[43m(\u001b[49m\u001b[43mnrows\u001b[49m\u001b[43m)\u001b[49m\n",
      "File \u001b[0;32m~/miniconda3/envs/arkham/lib/python3.10/site-packages/pandas/io/parsers/readers.py:1748\u001b[0m, in \u001b[0;36mTextFileReader.read\u001b[0;34m(self, nrows)\u001b[0m\n\u001b[1;32m   1741\u001b[0m nrows \u001b[38;5;241m=\u001b[39m validate_integer(\u001b[38;5;124m\"\u001b[39m\u001b[38;5;124mnrows\u001b[39m\u001b[38;5;124m\"\u001b[39m, nrows)\n\u001b[1;32m   1742\u001b[0m \u001b[38;5;28;01mtry\u001b[39;00m:\n\u001b[1;32m   1743\u001b[0m     \u001b[38;5;66;03m# error: \"ParserBase\" has no attribute \"read\"\u001b[39;00m\n\u001b[1;32m   1744\u001b[0m     (\n\u001b[1;32m   1745\u001b[0m         index,\n\u001b[1;32m   1746\u001b[0m         columns,\n\u001b[1;32m   1747\u001b[0m         col_dict,\n\u001b[0;32m-> 1748\u001b[0m     ) \u001b[38;5;241m=\u001b[39m \u001b[38;5;28;43mself\u001b[39;49m\u001b[38;5;241;43m.\u001b[39;49m\u001b[43m_engine\u001b[49m\u001b[38;5;241;43m.\u001b[39;49m\u001b[43mread\u001b[49m\u001b[43m(\u001b[49m\u001b[43m  \u001b[49m\u001b[38;5;66;43;03m# type: ignore[attr-defined]\u001b[39;49;00m\n\u001b[1;32m   1749\u001b[0m \u001b[43m        \u001b[49m\u001b[43mnrows\u001b[49m\n\u001b[1;32m   1750\u001b[0m \u001b[43m    \u001b[49m\u001b[43m)\u001b[49m\n\u001b[1;32m   1751\u001b[0m \u001b[38;5;28;01mexcept\u001b[39;00m \u001b[38;5;167;01mException\u001b[39;00m:\n\u001b[1;32m   1752\u001b[0m     \u001b[38;5;28mself\u001b[39m\u001b[38;5;241m.\u001b[39mclose()\n",
      "File \u001b[0;32m~/miniconda3/envs/arkham/lib/python3.10/site-packages/pandas/io/parsers/c_parser_wrapper.py:234\u001b[0m, in \u001b[0;36mCParserWrapper.read\u001b[0;34m(self, nrows)\u001b[0m\n\u001b[1;32m    232\u001b[0m \u001b[38;5;28;01mtry\u001b[39;00m:\n\u001b[1;32m    233\u001b[0m     \u001b[38;5;28;01mif\u001b[39;00m \u001b[38;5;28mself\u001b[39m\u001b[38;5;241m.\u001b[39mlow_memory:\n\u001b[0;32m--> 234\u001b[0m         chunks \u001b[38;5;241m=\u001b[39m \u001b[38;5;28;43mself\u001b[39;49m\u001b[38;5;241;43m.\u001b[39;49m\u001b[43m_reader\u001b[49m\u001b[38;5;241;43m.\u001b[39;49m\u001b[43mread_low_memory\u001b[49m\u001b[43m(\u001b[49m\u001b[43mnrows\u001b[49m\u001b[43m)\u001b[49m\n\u001b[1;32m    235\u001b[0m         \u001b[38;5;66;03m# destructive to chunks\u001b[39;00m\n\u001b[1;32m    236\u001b[0m         data \u001b[38;5;241m=\u001b[39m _concatenate_chunks(chunks)\n",
      "File \u001b[0;32mparsers.pyx:843\u001b[0m, in \u001b[0;36mpandas._libs.parsers.TextReader.read_low_memory\u001b[0;34m()\u001b[0m\n",
      "File \u001b[0;32mparsers.pyx:904\u001b[0m, in \u001b[0;36mpandas._libs.parsers.TextReader._read_rows\u001b[0;34m()\u001b[0m\n",
      "File \u001b[0;32mparsers.pyx:879\u001b[0m, in \u001b[0;36mpandas._libs.parsers.TextReader._tokenize_rows\u001b[0;34m()\u001b[0m\n",
      "File \u001b[0;32mparsers.pyx:890\u001b[0m, in \u001b[0;36mpandas._libs.parsers.TextReader._check_tokenize_status\u001b[0;34m()\u001b[0m\n",
      "File \u001b[0;32mparsers.pyx:2058\u001b[0m, in \u001b[0;36mpandas._libs.parsers.raise_parser_error\u001b[0;34m()\u001b[0m\n",
      "\u001b[0;31mParserError\u001b[0m: Error tokenizing data. C error: Calling read(nbytes) on source failed. Try engine='python'."
     ]
    }
   ],
   "source": [
    "path2 = '../DataTelkomsel/2021November/RGnovember2021.csv'\n",
    "df2 = pd.read_csv(path2)\n",
    "df2 = df2.drop({'Unnamed: 0'},axis=1)\n",
    "df2.head()"
   ]
  },
  {
   "cell_type": "code",
   "execution_count": 70,
   "id": "1950e460",
   "metadata": {
    "scrolled": true
   },
   "outputs": [
    {
     "ename": "NameError",
     "evalue": "name 'df' is not defined",
     "output_type": "error",
     "traceback": [
      "\u001b[0;31m---------------------------------------------------------------------------\u001b[0m",
      "\u001b[0;31mNameError\u001b[0m                                 Traceback (most recent call last)",
      "Cell \u001b[0;32mIn[70], line 2\u001b[0m\n\u001b[1;32m      1\u001b[0m \u001b[38;5;66;03m# df2.iloc[df2['maid'] == '8f60c037-8ff2-4ccd-bd6d-05630f92550b', [0,1,2,3]]\u001b[39;00m\n\u001b[0;32m----> 2\u001b[0m \u001b[43mdf\u001b[49m\u001b[38;5;241m.\u001b[39miloc[df[\u001b[38;5;124m'\u001b[39m\u001b[38;5;124mmaid\u001b[39m\u001b[38;5;124m'\u001b[39m] \u001b[38;5;241m==\u001b[39m \u001b[38;5;124m'\u001b[39m\u001b[38;5;124m8f60c037-8ff2-4ccd-bd6d-05630f92550b\u001b[39m\u001b[38;5;124m'\u001b[39m]\n",
      "\u001b[0;31mNameError\u001b[0m: name 'df' is not defined"
     ]
    }
   ],
   "source": [
    "# df2.iloc[df2['maid'] == '8f60c037-8ff2-4ccd-bd6d-05630f92550b', [0,1,2,3]]\n",
    "# df.iloc[df['maid'] == '8f60c037-8ff2-4ccd-bd6d-05630f92550b']"
   ]
  },
  {
   "cell_type": "code",
   "execution_count": 86,
   "id": "f576e659",
   "metadata": {},
   "outputs": [
    {
     "data": {
      "text/plain": [
       "(22489013, 4)"
      ]
     },
     "execution_count": 86,
     "metadata": {},
     "output_type": "execute_result"
    }
   ],
   "source": [
    "df.shape"
   ]
  },
  {
   "cell_type": "code",
   "execution_count": 53,
   "id": "191e8998",
   "metadata": {},
   "outputs": [
    {
     "data": {
      "text/plain": [
       "(45928179, 8)"
      ]
     },
     "execution_count": 53,
     "metadata": {},
     "output_type": "execute_result"
    }
   ],
   "source": [
    "df2.shape"
   ]
  },
  {
   "cell_type": "markdown",
   "id": "29e4a6cd",
   "metadata": {},
   "source": [
    "## Mulai Preprocess"
   ]
  },
  {
   "cell_type": "code",
   "execution_count": 3,
   "id": "1680f3b2",
   "metadata": {},
   "outputs": [],
   "source": [
    "import skmob\n",
    "from skmob import preprocessing"
   ]
  },
  {
   "cell_type": "code",
   "execution_count": 4,
   "id": "44e2eaef",
   "metadata": {},
   "outputs": [
    {
     "name": "stdout",
     "output_type": "stream",
     "text": [
      "Number of points in tdf: 45928179\n",
      "\n"
     ]
    }
   ],
   "source": [
    "tdf = skmob.TrajDataFrame.from_file(path2)\n",
    "print('Number of points in tdf: %d\\n' %len(tdf))"
   ]
  },
  {
   "cell_type": "code",
   "execution_count": 145,
   "id": "7816779d",
   "metadata": {},
   "outputs": [
    {
     "name": "stdout",
     "output_type": "stream",
     "text": [
      "   Unnamed: 0                                  maid  latitude   longitude  \\\n",
      "0           0  de1cc960-90fe-46cb-91ae-eb08b27ebc37 -7.800000  110.300003   \n",
      "1           1  ee52276f-0886-40a1-ab70-b32ba57615a5 -7.830476  110.295151   \n",
      "2           2  6a1dbe26-eea5-4a6c-8445-13ab396db37d -7.830476  110.295151   \n",
      "3           3  33ed0b90-7269-461f-ae28-f50599614361 -7.800000  110.300003   \n",
      "4           4  43e0d958-8833-47c6-a56d-7957fd2ba838 -7.800000  110.300003   \n",
      "\n",
      "          datetime_wib                              geometry Kelurahan/Desa  \\\n",
      "0  2022-01-01 00:00:00        POINT (110.3000030517578 -7.8)      Balecatur   \n",
      "1  2022-01-01 00:00:08  POINT (110.2951507568359 -7.8304763)      Balecatur   \n",
      "2  2022-01-01 00:00:48  POINT (110.2951507568359 -7.8304763)      Balecatur   \n",
      "3  2022-01-01 00:01:17        POINT (110.3000030517578 -7.8)      Balecatur   \n",
      "4  2022-01-01 00:01:38        POINT (110.3000030517578 -7.8)      Balecatur   \n",
      "\n",
      "  Kecamatan Kabupaten  \n",
      "0   Gamping    Sleman  \n",
      "1   Gamping    Sleman  \n",
      "2   Gamping    Sleman  \n",
      "3   Gamping    Sleman  \n",
      "4   Gamping    Sleman  \n"
     ]
    }
   ],
   "source": [
    "tdf.head()"
   ]
  },
  {
   "cell_type": "code",
   "execution_count": 33,
   "id": "f8cbb88d",
   "metadata": {},
   "outputs": [
    {
     "name": "stdout",
     "output_type": "stream",
     "text": [
      "<class 'skmob.core.trajectorydataframe.TrajDataFrame'>\n",
      "RangeIndex: 39570743 entries, 0 to 39570742\n",
      "Data columns (total 9 columns):\n",
      " #   Column          Dtype  \n",
      "---  ------          -----  \n",
      " 0   Unnamed: 0      int64  \n",
      " 1   maid            object \n",
      " 2   latitude        float64\n",
      " 3   longitude       float64\n",
      " 4   datetime_wib    object \n",
      " 5   geometry        object \n",
      " 6   Kelurahan/Desa  object \n",
      " 7   Kecamatan       object \n",
      " 8   Kabupaten       object \n",
      "dtypes: float64(2), int64(1), object(6)\n",
      "memory usage: 2.7+ GB\n"
     ]
    }
   ],
   "source": [
    "tdf.info()"
   ]
  },
  {
   "cell_type": "markdown",
   "id": "b7e493f5",
   "metadata": {},
   "source": [
    "## 1. Filter Unnecessary Area\n",
    "Membatasi area data point pada range yg dilakukan analisis"
   ]
  },
  {
   "cell_type": "code",
   "execution_count": 5,
   "id": "afa60c9c",
   "metadata": {},
   "outputs": [],
   "source": [
    "import geopandas as gpd\n",
    "from geopandas import GeoDataFrame\n",
    "from shapely.geometry import Point"
   ]
  },
  {
   "cell_type": "code",
   "execution_count": 6,
   "id": "87d78ea5",
   "metadata": {},
   "outputs": [
    {
     "data": {
      "text/html": [
       "<div>\n",
       "<style scoped>\n",
       "    .dataframe tbody tr th:only-of-type {\n",
       "        vertical-align: middle;\n",
       "    }\n",
       "\n",
       "    .dataframe tbody tr th {\n",
       "        vertical-align: top;\n",
       "    }\n",
       "\n",
       "    .dataframe thead th {\n",
       "        text-align: right;\n",
       "    }\n",
       "</style>\n",
       "<table border=\"1\" class=\"dataframe\">\n",
       "  <thead>\n",
       "    <tr style=\"text-align: right;\">\n",
       "      <th></th>\n",
       "      <th>geometry</th>\n",
       "    </tr>\n",
       "  </thead>\n",
       "  <tbody>\n",
       "    <tr>\n",
       "      <th>0</th>\n",
       "      <td>POLYGON ((110.37299 -7.77418, 110.37850 -7.774...</td>\n",
       "    </tr>\n",
       "  </tbody>\n",
       "</table>\n",
       "</div>"
      ],
      "text/plain": [
       "                                            geometry\n",
       "0  POLYGON ((110.37299 -7.77418, 110.37850 -7.774..."
      ]
     },
     "execution_count": 6,
     "metadata": {},
     "output_type": "execute_result"
    }
   ],
   "source": [
    "path_jalan = './JaringanJalan/AreaTerban_geojson/clipping_boundary.geojson'\n",
    "area_shape = gpd.read_file(path_jalan)\n",
    "area_shape"
   ]
  },
  {
   "cell_type": "code",
   "execution_count": 7,
   "id": "7d4e156c",
   "metadata": {},
   "outputs": [
    {
     "data": {
      "text/html": [
       "<div>\n",
       "<style scoped>\n",
       "    .dataframe tbody tr th:only-of-type {\n",
       "        vertical-align: middle;\n",
       "    }\n",
       "\n",
       "    .dataframe tbody tr th {\n",
       "        vertical-align: top;\n",
       "    }\n",
       "\n",
       "    .dataframe thead th {\n",
       "        text-align: right;\n",
       "    }\n",
       "</style>\n",
       "<table border=\"1\" class=\"dataframe\">\n",
       "  <thead>\n",
       "    <tr style=\"text-align: right;\">\n",
       "      <th></th>\n",
       "      <th>Unnamed: 0</th>\n",
       "      <th>maid</th>\n",
       "      <th>latitude</th>\n",
       "      <th>longitude</th>\n",
       "      <th>datetime_wib</th>\n",
       "      <th>geometry</th>\n",
       "      <th>Kelurahan/Desa</th>\n",
       "      <th>Kecamatan</th>\n",
       "      <th>Kabupaten</th>\n",
       "    </tr>\n",
       "  </thead>\n",
       "  <tbody>\n",
       "    <tr>\n",
       "      <th>526628</th>\n",
       "      <td>526628</td>\n",
       "      <td>beb995f2-542d-4f32-b782-d0347ef15241</td>\n",
       "      <td>-7.774600</td>\n",
       "      <td>110.373009</td>\n",
       "      <td>2021-12-01 04:49:08</td>\n",
       "      <td>POINT (110.37301 -7.77460)</td>\n",
       "      <td>Caturtunggal</td>\n",
       "      <td>Depok</td>\n",
       "      <td>Sleman</td>\n",
       "    </tr>\n",
       "    <tr>\n",
       "      <th>526629</th>\n",
       "      <td>526629</td>\n",
       "      <td>beb995f2-542d-4f32-b782-d0347ef15241</td>\n",
       "      <td>-7.774600</td>\n",
       "      <td>110.373009</td>\n",
       "      <td>2021-12-01 04:49:08</td>\n",
       "      <td>POINT (110.37301 -7.77460)</td>\n",
       "      <td>Caturtunggal</td>\n",
       "      <td>Depok</td>\n",
       "      <td>Sleman</td>\n",
       "    </tr>\n",
       "    <tr>\n",
       "      <th>526630</th>\n",
       "      <td>526630</td>\n",
       "      <td>beb995f2-542d-4f32-b782-d0347ef15241</td>\n",
       "      <td>-7.774600</td>\n",
       "      <td>110.373010</td>\n",
       "      <td>2021-12-01 04:49:08</td>\n",
       "      <td>POINT (110.37301 -7.77460)</td>\n",
       "      <td>Caturtunggal</td>\n",
       "      <td>Depok</td>\n",
       "      <td>Sleman</td>\n",
       "    </tr>\n",
       "    <tr>\n",
       "      <th>526631</th>\n",
       "      <td>526631</td>\n",
       "      <td>beb995f2-542d-4f32-b782-d0347ef15241</td>\n",
       "      <td>-7.774600</td>\n",
       "      <td>110.373010</td>\n",
       "      <td>2021-12-01 04:49:08</td>\n",
       "      <td>POINT (110.37301 -7.77460)</td>\n",
       "      <td>Caturtunggal</td>\n",
       "      <td>Depok</td>\n",
       "      <td>Sleman</td>\n",
       "    </tr>\n",
       "    <tr>\n",
       "      <th>526632</th>\n",
       "      <td>526632</td>\n",
       "      <td>beb995f2-542d-4f32-b782-d0347ef15241</td>\n",
       "      <td>-7.774600</td>\n",
       "      <td>110.373016</td>\n",
       "      <td>2021-12-01 04:49:08</td>\n",
       "      <td>POINT (110.37302 -7.77460)</td>\n",
       "      <td>Caturtunggal</td>\n",
       "      <td>Depok</td>\n",
       "      <td>Sleman</td>\n",
       "    </tr>\n",
       "    <tr>\n",
       "      <th>...</th>\n",
       "      <td>...</td>\n",
       "      <td>...</td>\n",
       "      <td>...</td>\n",
       "      <td>...</td>\n",
       "      <td>...</td>\n",
       "      <td>...</td>\n",
       "      <td>...</td>\n",
       "      <td>...</td>\n",
       "      <td>...</td>\n",
       "    </tr>\n",
       "    <tr>\n",
       "      <th>35686678</th>\n",
       "      <td>35686678</td>\n",
       "      <td>ff3edcd7-4fc8-4f61-8e06-4b0e8405211e</td>\n",
       "      <td>-7.788023</td>\n",
       "      <td>110.377090</td>\n",
       "      <td>2021-12-31 23:57:20</td>\n",
       "      <td>POINT (110.37709 -7.78802)</td>\n",
       "      <td>Kelurahan Kotabaru</td>\n",
       "      <td>Gondokusuman</td>\n",
       "      <td>Kota Yogyakarta</td>\n",
       "    </tr>\n",
       "    <tr>\n",
       "      <th>35686679</th>\n",
       "      <td>35686679</td>\n",
       "      <td>1e766daa-5912-47af-b45f-24487ba48eff</td>\n",
       "      <td>-7.788023</td>\n",
       "      <td>110.377090</td>\n",
       "      <td>2021-12-31 23:57:48</td>\n",
       "      <td>POINT (110.37709 -7.78802)</td>\n",
       "      <td>Kelurahan Kotabaru</td>\n",
       "      <td>Gondokusuman</td>\n",
       "      <td>Kota Yogyakarta</td>\n",
       "    </tr>\n",
       "    <tr>\n",
       "      <th>35686680</th>\n",
       "      <td>35686680</td>\n",
       "      <td>ff3edcd7-4fc8-4f61-8e06-4b0e8405211e</td>\n",
       "      <td>-7.788023</td>\n",
       "      <td>110.377090</td>\n",
       "      <td>2021-12-31 23:58:21</td>\n",
       "      <td>POINT (110.37709 -7.78802)</td>\n",
       "      <td>Kelurahan Kotabaru</td>\n",
       "      <td>Gondokusuman</td>\n",
       "      <td>Kota Yogyakarta</td>\n",
       "    </tr>\n",
       "    <tr>\n",
       "      <th>35686681</th>\n",
       "      <td>35686681</td>\n",
       "      <td>1e766daa-5912-47af-b45f-24487ba48eff</td>\n",
       "      <td>-7.788023</td>\n",
       "      <td>110.377090</td>\n",
       "      <td>2021-12-31 23:58:31</td>\n",
       "      <td>POINT (110.37709 -7.78802)</td>\n",
       "      <td>Kelurahan Kotabaru</td>\n",
       "      <td>Gondokusuman</td>\n",
       "      <td>Kota Yogyakarta</td>\n",
       "    </tr>\n",
       "    <tr>\n",
       "      <th>35686682</th>\n",
       "      <td>35686682</td>\n",
       "      <td>4dc467d8-db6e-47d1-a61e-c85d8ba262af</td>\n",
       "      <td>-7.785714</td>\n",
       "      <td>110.374229</td>\n",
       "      <td>2021-12-31 23:58:32</td>\n",
       "      <td>POINT (110.37423 -7.78571)</td>\n",
       "      <td>Kelurahan Kotabaru</td>\n",
       "      <td>Gondokusuman</td>\n",
       "      <td>Kota Yogyakarta</td>\n",
       "    </tr>\n",
       "  </tbody>\n",
       "</table>\n",
       "<p>111775 rows × 9 columns</p>\n",
       "</div>"
      ],
      "text/plain": [
       "          Unnamed: 0                                  maid  latitude  \\\n",
       "526628        526628  beb995f2-542d-4f32-b782-d0347ef15241 -7.774600   \n",
       "526629        526629  beb995f2-542d-4f32-b782-d0347ef15241 -7.774600   \n",
       "526630        526630  beb995f2-542d-4f32-b782-d0347ef15241 -7.774600   \n",
       "526631        526631  beb995f2-542d-4f32-b782-d0347ef15241 -7.774600   \n",
       "526632        526632  beb995f2-542d-4f32-b782-d0347ef15241 -7.774600   \n",
       "...              ...                                   ...       ...   \n",
       "35686678    35686678  ff3edcd7-4fc8-4f61-8e06-4b0e8405211e -7.788023   \n",
       "35686679    35686679  1e766daa-5912-47af-b45f-24487ba48eff -7.788023   \n",
       "35686680    35686680  ff3edcd7-4fc8-4f61-8e06-4b0e8405211e -7.788023   \n",
       "35686681    35686681  1e766daa-5912-47af-b45f-24487ba48eff -7.788023   \n",
       "35686682    35686682  4dc467d8-db6e-47d1-a61e-c85d8ba262af -7.785714   \n",
       "\n",
       "           longitude         datetime_wib                    geometry  \\\n",
       "526628    110.373009  2021-12-01 04:49:08  POINT (110.37301 -7.77460)   \n",
       "526629    110.373009  2021-12-01 04:49:08  POINT (110.37301 -7.77460)   \n",
       "526630    110.373010  2021-12-01 04:49:08  POINT (110.37301 -7.77460)   \n",
       "526631    110.373010  2021-12-01 04:49:08  POINT (110.37301 -7.77460)   \n",
       "526632    110.373016  2021-12-01 04:49:08  POINT (110.37302 -7.77460)   \n",
       "...              ...                  ...                         ...   \n",
       "35686678  110.377090  2021-12-31 23:57:20  POINT (110.37709 -7.78802)   \n",
       "35686679  110.377090  2021-12-31 23:57:48  POINT (110.37709 -7.78802)   \n",
       "35686680  110.377090  2021-12-31 23:58:21  POINT (110.37709 -7.78802)   \n",
       "35686681  110.377090  2021-12-31 23:58:31  POINT (110.37709 -7.78802)   \n",
       "35686682  110.374229  2021-12-31 23:58:32  POINT (110.37423 -7.78571)   \n",
       "\n",
       "              Kelurahan/Desa     Kecamatan        Kabupaten  \n",
       "526628          Caturtunggal         Depok           Sleman  \n",
       "526629          Caturtunggal         Depok           Sleman  \n",
       "526630          Caturtunggal         Depok           Sleman  \n",
       "526631          Caturtunggal         Depok           Sleman  \n",
       "526632          Caturtunggal         Depok           Sleman  \n",
       "...                      ...           ...              ...  \n",
       "35686678  Kelurahan Kotabaru  Gondokusuman  Kota Yogyakarta  \n",
       "35686679  Kelurahan Kotabaru  Gondokusuman  Kota Yogyakarta  \n",
       "35686680  Kelurahan Kotabaru  Gondokusuman  Kota Yogyakarta  \n",
       "35686681  Kelurahan Kotabaru  Gondokusuman  Kota Yogyakarta  \n",
       "35686682  Kelurahan Kotabaru  Gondokusuman  Kota Yogyakarta  \n",
       "\n",
       "[111775 rows x 9 columns]"
      ]
     },
     "execution_count": 7,
     "metadata": {},
     "output_type": "execute_result"
    }
   ],
   "source": [
    "gdf_gps = GeoDataFrame(tdf, geometry=gpd.points_from_xy(tdf['longitude'], tdf['latitude']))\n",
    "df2_filter1 = gdf_gps[gdf_gps.geometry.within(area_shape.geometry.iloc[0])]\n",
    "df2_filter1"
   ]
  },
  {
   "cell_type": "code",
   "execution_count": 62,
   "id": "38a78159",
   "metadata": {},
   "outputs": [],
   "source": [
    "#menambahkan kolom tanggal untuk membedakan hari\n",
    "df2_filter1['datetime_wib'] = pd.to_datetime(df2_filter1['datetime_wib'])\n",
    "df2_filter1['tanggal'] = df2_filter1['datetime_wib'].dt.date"
   ]
  },
  {
   "cell_type": "code",
   "execution_count": 63,
   "id": "f77d8b5c",
   "metadata": {},
   "outputs": [],
   "source": [
    "df2_filter1.to_csv('df2_filter1_des.csv', index=False)"
   ]
  },
  {
   "cell_type": "markdown",
   "id": "226164fa",
   "metadata": {},
   "source": [
    "## 2. Lihat persebaran data"
   ]
  },
  {
   "cell_type": "code",
   "execution_count": 46,
   "id": "cd69adde",
   "metadata": {},
   "outputs": [],
   "source": [
    "def bar_chart(data):\n",
    "    filtered_data = data.copy()\n",
    "\n",
    "    # Hapus duplikat 'maid' berdasarkan tanggal\n",
    "    filtered_data_unique_maid = filtered_data.drop_duplicates(subset=['tanggal', 'maid'])\n",
    "\n",
    "    # Hitung jumlah unik per hari\n",
    "    jumlah_unik_per_hari = filtered_data_unique_maid.groupby('tanggal').size()\n",
    "\n",
    "    # Plotting\n",
    "    plt.figure(figsize=(10, 6))\n",
    "    jumlah_unik_per_hari.plot(kind='bar', color='skyblue')\n",
    "    plt.title('Jumlah Data Maid unik per Hari')\n",
    "    plt.xlabel('Tanggal')\n",
    "    plt.ylabel('Jumlah Data Unik')\n",
    "    plt.xticks(rotation=75)\n",
    "    plt.show()"
   ]
  },
  {
   "cell_type": "code",
   "execution_count": 32,
   "id": "7695ee60",
   "metadata": {},
   "outputs": [],
   "source": [
    "def count_maid(data):\n",
    "    filtered_data = data.copy()\n",
    "    \n",
    "    # Ganti 'datetime_wib' sesuai nama kolom datetime di data-mu\n",
    "    filtered_data['datetime_wib'] = pd.to_datetime(filtered_data['datetime_wib'])\n",
    "    filtered_data['tanggal'] = filtered_data['datetime_wib'].dt.date\n",
    "\n",
    "    # Hitung jumlah 'maid' unik per hari\n",
    "    jumlah_maid_unik_per_hari = filtered_data.groupby('tanggal')['maid'].nunique()\n",
    "\n",
    "    # Print hasilnya\n",
    "    print(jumlah_maid_unik_per_hari)\n"
   ]
  },
  {
   "cell_type": "code",
   "execution_count": 33,
   "id": "165b0beb",
   "metadata": {},
   "outputs": [],
   "source": [
    "def count_bykelurahan(data):\n",
    "    filtered_data = data.copy()\n",
    "\n",
    "    # Hitung jumlah 'maid' unik per hari\n",
    "    jumlah_maid_unik = filtered_data.groupby('Kelurahan/Desa')['maid'].nunique()\n",
    "\n",
    "    # Print hasilnya\n",
    "    print(jumlah_maid_unik)\n"
   ]
  },
  {
   "cell_type": "markdown",
   "id": "874e6254",
   "metadata": {},
   "source": [
    "### Januari 2022"
   ]
  },
  {
   "cell_type": "code",
   "execution_count": 54,
   "id": "6ffb3259",
   "metadata": {},
   "outputs": [
    {
     "data": {
      "image/png": "[encoded data removed]",
      "text/plain": [
       "<Figure size 1000x600 with 1 Axes>"
      ]
     },
     "metadata": {},
     "output_type": "display_data"
    }
   ],
   "source": [
    "path = 'df2_filter1_jan.csv'\n",
    "df2_filter1 = pd.read_csv(path)\n",
    "df2_filter1 = df2_filter1.drop({'Unnamed: 0'},axis=1)\n",
    "bar_chart(df2_filter1)"
   ]
  },
  {
   "cell_type": "code",
   "execution_count": 56,
   "id": "c0965813",
   "metadata": {},
   "outputs": [
    {
     "name": "stdout",
     "output_type": "stream",
     "text": [
      "<class 'pandas.core.frame.DataFrame'>\n",
      "RangeIndex: 96729 entries, 0 to 96728\n",
      "Data columns (total 9 columns):\n",
      " #   Column          Non-Null Count  Dtype  \n",
      "---  ------          --------------  -----  \n",
      " 0   maid            96729 non-null  object \n",
      " 1   latitude        96729 non-null  float64\n",
      " 2   longitude       96729 non-null  float64\n",
      " 3   datetime_wib    96729 non-null  object \n",
      " 4   geometry        96729 non-null  object \n",
      " 5   Kelurahan/Desa  96729 non-null  object \n",
      " 6   Kecamatan       96729 non-null  object \n",
      " 7   Kabupaten       96729 non-null  object \n",
      " 8   tanggal         96729 non-null  object \n",
      "dtypes: float64(2), object(7)\n",
      "memory usage: 6.6+ MB\n"
     ]
    }
   ],
   "source": [
    "df2_filter1.info()"
   ]
  },
  {
   "cell_type": "markdown",
   "id": "fb0682fc",
   "metadata": {},
   "source": [
    "### Februari 2022"
   ]
  },
  {
   "cell_type": "code",
   "execution_count": 60,
   "id": "4c2f6722",
   "metadata": {},
   "outputs": [
    {
     "data": {
      "image/png": "[encoded data removed]",
      "text/plain": [
       "<Figure size 1000x600 with 1 Axes>"
      ]
     },
     "metadata": {},
     "output_type": "display_data"
    }
   ],
   "source": [
    "path = 'df2_filter1_feb.csv'\n",
    "df2_filter1 = pd.read_csv(path)\n",
    "df2_filter1 = df2_filter1.drop({'Unnamed: 0'},axis=1)\n",
    "bar_chart(df2_filter1)"
   ]
  },
  {
   "cell_type": "code",
   "execution_count": 61,
   "id": "3243db11",
   "metadata": {},
   "outputs": [
    {
     "name": "stdout",
     "output_type": "stream",
     "text": [
      "<class 'pandas.core.frame.DataFrame'>\n",
      "RangeIndex: 244850 entries, 0 to 244849\n",
      "Data columns (total 9 columns):\n",
      " #   Column          Non-Null Count   Dtype  \n",
      "---  ------          --------------   -----  \n",
      " 0   maid            244850 non-null  object \n",
      " 1   latitude        244850 non-null  float64\n",
      " 2   longitude       244850 non-null  float64\n",
      " 3   datetime_wib    244850 non-null  object \n",
      " 4   geometry        244850 non-null  object \n",
      " 5   Kelurahan/Desa  244850 non-null  object \n",
      " 6   Kecamatan       244850 non-null  object \n",
      " 7   Kabupaten       244850 non-null  object \n",
      " 8   tanggal         244850 non-null  object \n",
      "dtypes: float64(2), object(7)\n",
      "memory usage: 16.8+ MB\n"
     ]
    }
   ],
   "source": [
    "df2_filter1.info()"
   ]
  },
  {
   "cell_type": "markdown",
   "id": "1ed9bca3",
   "metadata": {},
   "source": [
    "### Desember 2021"
   ]
  },
  {
   "cell_type": "code",
   "execution_count": 65,
   "id": "c8267329",
   "metadata": {},
   "outputs": [
    {
     "data": {
      "image/png": "[encoded data removed]",
      "text/plain": [
       "<Figure size 1000x600 with 1 Axes>"
      ]
     },
     "metadata": {},
     "output_type": "display_data"
    }
   ],
   "source": [
    "path = 'df2_filter1_des.csv'\n",
    "df2_filter1 = pd.read_csv(path)\n",
    "df2_filter1 = df2_filter1.drop({'Unnamed: 0'},axis=1)\n",
    "bar_chart(df2_filter1)"
   ]
  },
  {
   "cell_type": "code",
   "execution_count": 66,
   "id": "3915ee32",
   "metadata": {},
   "outputs": [
    {
     "name": "stdout",
     "output_type": "stream",
     "text": [
      "<class 'pandas.core.frame.DataFrame'>\n",
      "RangeIndex: 111775 entries, 0 to 111774\n",
      "Data columns (total 9 columns):\n",
      " #   Column          Non-Null Count   Dtype  \n",
      "---  ------          --------------   -----  \n",
      " 0   maid            111775 non-null  object \n",
      " 1   latitude        111775 non-null  float64\n",
      " 2   longitude       111775 non-null  float64\n",
      " 3   datetime_wib    111775 non-null  object \n",
      " 4   geometry        111775 non-null  object \n",
      " 5   Kelurahan/Desa  111775 non-null  object \n",
      " 6   Kecamatan       111775 non-null  object \n",
      " 7   Kabupaten       111775 non-null  object \n",
      " 8   tanggal         111775 non-null  object \n",
      "dtypes: float64(2), object(7)\n",
      "memory usage: 7.7+ MB\n"
     ]
    }
   ],
   "source": [
    "df2_filter1.info()"
   ]
  },
  {
   "cell_type": "markdown",
   "id": "ecd5fac5",
   "metadata": {},
   "source": [
    "### November 2021"
   ]
  },
  {
   "cell_type": "code",
   "execution_count": 67,
   "id": "96daee13",
   "metadata": {},
   "outputs": [
    {
     "data": {
      "image/png": "[encoded data removed]",
      "text/plain": [
       "<Figure size 1000x600 with 1 Axes>"
      ]
     },
     "metadata": {},
     "output_type": "display_data"
    }
   ],
   "source": [
    "path = 'df2_filter1_nov.csv'\n",
    "df2_filter1 = pd.read_csv(path)\n",
    "df2_filter1 = df2_filter1.drop({'Unnamed: 0.1'},axis=1)\n",
    "bar_chart(df2_filter1)"
   ]
  },
  {
   "cell_type": "code",
   "execution_count": 68,
   "id": "ea8a52d6",
   "metadata": {},
   "outputs": [
    {
     "name": "stdout",
     "output_type": "stream",
     "text": [
      "Kelurahan/Desa\n",
      "Caturtunggal           309\n",
      "Kelurahan Kotabaru    2132\n",
      "Kelurahan Terban      1867\n",
      "Name: maid, dtype: int64\n"
     ]
    }
   ],
   "source": [
    "count_bykelurahan(df2_filter1)"
   ]
  },
  {
   "cell_type": "code",
   "execution_count": 69,
   "id": "43aa6672",
   "metadata": {},
   "outputs": [
    {
     "name": "stdout",
     "output_type": "stream",
     "text": [
      "<class 'pandas.core.frame.DataFrame'>\n",
      "RangeIndex: 527286 entries, 0 to 527285\n",
      "Data columns (total 9 columns):\n",
      " #   Column          Non-Null Count   Dtype  \n",
      "---  ------          --------------   -----  \n",
      " 0   maid            527286 non-null  object \n",
      " 1   latitude        527286 non-null  float64\n",
      " 2   longitude       527286 non-null  float64\n",
      " 3   datetime_wib    527286 non-null  object \n",
      " 4   geometry        527286 non-null  object \n",
      " 5   Kelurahan/Desa  527286 non-null  object \n",
      " 6   Kecamatan       527286 non-null  object \n",
      " 7   Kabupaten       527286 non-null  object \n",
      " 8   tanggal         527286 non-null  object \n",
      "dtypes: float64(2), object(7)\n",
      "memory usage: 36.2+ MB\n"
     ]
    }
   ],
   "source": [
    "df2_filter1.info()"
   ]
  },
  {
   "cell_type": "code",
   "execution_count": null,
   "id": "d62b4619",
   "metadata": {},
   "outputs": [],
   "source": []
  }
 ],
 "metadata": {
  "kernelspec": {
   "display_name": "Python 3 (ipykernel)",
   "language": "python",
   "name": "python3"
  },
  "language_info": {
   "codemirror_mode": {
    "name": "ipython",
    "version": 3
   },
   "file_extension": ".py",
   "mimetype": "text/x-python",
   "name": "python",
   "nbconvert_exporter": "python",
   "pygments_lexer": "ipython3",
   "version": "3.10.13"
  }
 },
 "nbformat": 4,
 "nbformat_minor": 5
}
