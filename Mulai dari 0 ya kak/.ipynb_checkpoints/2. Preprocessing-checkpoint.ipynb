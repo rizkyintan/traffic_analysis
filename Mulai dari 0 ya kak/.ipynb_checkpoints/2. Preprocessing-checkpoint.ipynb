{
 "cells": [
  {
   "cell_type": "code",
   "execution_count": 1,
   "id": "a28a34b0",
   "metadata": {},
   "outputs": [],
   "source": [
    "import pandas as pd\n",
    "import networkx as nx\n",
    "from scipy.spatial import KDTree\n",
    "import matplotlib.pyplot as plt\n",
    "from tqdm import tqdm\n",
    "from joblib import Parallel, delayed\n",
    "from folium.plugins import TimestampedGeoJson\n",
    "from geopy.distance import geodesic\n",
    "from sklearn.cluster import DBSCAN\n",
    "from sklearn.preprocessing import StandardScaler\n",
    "from pandas import DataFrame\n",
    "import time\n",
    "import numpy as np\n",
    "import folium"
   ]
  },
  {
   "cell_type": "code",
   "execution_count": 8,
   "id": "7c41a5b3",
   "metadata": {},
   "outputs": [],
   "source": [
    "path = './filter1_malar_jan.csv'\n",
    "df = pd.read_csv(path)\n",
    "# df.head()"
   ]
  },
  {
   "cell_type": "code",
   "execution_count": 3,
   "id": "f1ebe4af",
   "metadata": {},
   "outputs": [
    {
     "data": {
      "text/plain": [
       "Unnamed: 0        False\n",
       "maid              False\n",
       "latitude          False\n",
       "longitude         False\n",
       "datetime_wib      False\n",
       "geometry          False\n",
       "Kelurahan/Desa    False\n",
       "Kecamatan         False\n",
       "Kabupaten         False\n",
       "tanggal           False\n",
       "dtype: bool"
      ]
     },
     "execution_count": 3,
     "metadata": {},
     "output_type": "execute_result"
    }
   ],
   "source": [
    "df.isnull().any()"
   ]
  },
  {
   "cell_type": "code",
   "execution_count": 4,
   "id": "1053fcd5",
   "metadata": {},
   "outputs": [],
   "source": [
    "def preprocess_gps_data(df):\n",
    "    # Step 1: Ubah nama kolom datetime_wib menjadi timestamp\n",
    "    df = df.rename(columns={'datetime_wib':'timestamp'})\n",
    "    \n",
    "    # Step 2: Konversi tipe data pada kolom timestamp menjadi datetime\n",
    "    df['timestamp'] = pd.to_datetime(df['timestamp'])\n",
    "    \n",
    "    # Step 3: Ambil hanya kolom maid, latitude, longitude, dan timestamp\n",
    "    df_filtered = df[['maid', 'latitude', 'longitude', 'timestamp']]\n",
    "        \n",
    "    # Step 4: Hapus data duplikat utk data keseluruhan dan data duplikat utk maid dan timestamp yg sama \n",
    "    # (ga mgkn berada pada dua tmpt berbeda dalam satu waktu kan)\n",
    "    df_filtered = df_filtered.drop_duplicates(subset=['maid', 'timestamp'])\n",
    "    \n",
    "    # Step 5: Hapus data yang hanya memiliki 1 record data dalam 1 hari\n",
    "    df_filtered['date'] = df_filtered['timestamp'].dt.date\n",
    "    record_count_per_day = df_filtered.groupby(['maid', 'date']).size().reset_index(name='count')\n",
    "    multiple_records_per_day = record_count_per_day[record_count_per_day['count'] > 1]\n",
    "    df_filtered = pd.merge(df_filtered, multiple_records_per_day[['maid', 'date']], on=['maid', 'date'], how='inner')\n",
    "    df_filtered.drop('date', axis=1, inplace=True)\n",
    "\n",
    "    # Step 6: Urutkan data berdasarkan maid dan timestamp\n",
    "    df_filtered = df_filtered.sort_values(by=['maid', 'timestamp'])\n",
    "    \n",
    "    # Step 7: Reset index\n",
    "    df_filtered.reset_index(inplace=True, drop=True)\n",
    "    \n",
    "    return df_filtered"
   ]
  },
  {
   "cell_type": "code",
   "execution_count": 9,
   "id": "3815d7cf",
   "metadata": {
    "scrolled": true
   },
   "outputs": [],
   "source": [
    "df_preprocessed = preprocess_gps_data(df)\n",
    "df_preprocessed.to_csv('filter2_malar_jan.csv', index=False)"
   ]
  },
  {
   "cell_type": "code",
   "execution_count": null,
   "id": "a50feac8",
   "metadata": {},
   "outputs": [],
   "source": [
    "df_preprocessed['maid'].unique()[:10]"
   ]
  },
  {
   "cell_type": "code",
   "execution_count": null,
   "id": "201af04b",
   "metadata": {},
   "outputs": [],
   "source": [
    "df_preprocessed[df_preprocessed['maid'] == '00071ae2-d9dc-4e14-b3fc-9f8a818ee767']"
   ]
  },
  {
   "cell_type": "code",
   "execution_count": null,
   "id": "72113934",
   "metadata": {},
   "outputs": [],
   "source": [
    "df_preprocessed[df_preprocessed['maid'] == 'd60a2068-d7ea-48a7-a363-e3e7e0bd02cb'][35:45]"
   ]
  },
  {
   "cell_type": "code",
   "execution_count": null,
   "id": "982c4891",
   "metadata": {},
   "outputs": [],
   "source": [
    "len(df) - len(df_preprocessed)"
   ]
  },
  {
   "cell_type": "markdown",
   "id": "06bd472f",
   "metadata": {},
   "source": [
    "## Menampilkan visualisasi"
   ]
  },
  {
   "cell_type": "code",
   "execution_count": null,
   "id": "1e265499",
   "metadata": {},
   "outputs": [],
   "source": [
    "# Modified function for animated visualization based on timestamp with connecting lines\n",
    "def visualisasi_pergerakan_animated_with_lines(selected_date, data, user_id, title):    \n",
    "    if isinstance(selected_date, str):\n",
    "        selected_date = pd.to_datetime(selected_date)\n",
    "\n",
    "    selected_day_data = data[(data['timestamp'].dt.date == selected_date.date()) & (data['maid'] == user_id)]\n",
    "\n",
    "    if selected_day_data.empty:\n",
    "        print(f\"No data available for user_id {user_id} on {selected_date.date()}\")\n",
    "        return\n",
    "\n",
    "    m = folium.Map(location=[selected_day_data.iloc[0]['latitude'], selected_day_data.iloc[0]['longitude']], zoom_start=15)\n",
    "    \n",
    "    # Prepare data for TimestampedGeoJson\n",
    "    features = []\n",
    "    \n",
    "    prev_point = None  # To store the previous point in the loop\n",
    "    for index, row in selected_day_data.iterrows():\n",
    "        point = [row['longitude'], row['latitude']]\n",
    "        feature = {\n",
    "            'type': 'Feature',\n",
    "            'geometry': {\n",
    "                'type': 'Point',\n",
    "                'coordinates': point,\n",
    "            },\n",
    "            'properties': {\n",
    "                'time': row['timestamp'].strftime('%Y-%m-%d %H:%M:%S'),  # Add timestamp information here\n",
    "                'icon': 'circle',\n",
    "                'iconstyle': {\n",
    "                    'fillColor': 'blue',\n",
    "                    'fillOpacity': 0.6,\n",
    "                    'stroke': 'false',\n",
    "                    'radius': 5\n",
    "                },\n",
    "                'popup': row['timestamp'].strftime('%Y-%m-%d %H:%M:%S'),\n",
    "            }\n",
    "        }\n",
    "        features.append(feature)\n",
    "        \n",
    "        # Jika ini bukan titik pertama, gambar garis ke titik sebelumnya\n",
    "        if prev_point:\n",
    "            line_feature = {\n",
    "                'type': 'Feature',\n",
    "                'geometry': {\n",
    "                    'type': 'LineString',\n",
    "                    'coordinates': [prev_point, point]\n",
    "                },\n",
    "                'properties': {\n",
    "                    'times': [row['timestamp'].strftime('%Y-%m-%d %H:%M:%S')] * 2,\n",
    "                    'style': {'color': 'blue', 'weight': 3}\n",
    "                }\n",
    "            }\n",
    "            features.append(line_feature)\n",
    "        \n",
    "        # Update previous point\n",
    "        prev_point = point\n",
    "\n",
    "    timestamped_geojson = TimestampedGeoJson(\n",
    "        {'type': 'FeatureCollection', 'features': features},\n",
    "        period='PT1M',\n",
    "        add_last_point=True,\n",
    "        auto_play=False,\n",
    "        loop=False,\n",
    "        max_speed=1,\n",
    "        loop_button=True,\n",
    "        date_options='YYYY-MM-DD HH:mm:ss',\n",
    "        time_slider_drag_update=True\n",
    "    )\n",
    "\n",
    "    timestamped_geojson.add_to(m)\n",
    "    return m"
   ]
  },
  {
   "cell_type": "code",
   "execution_count": null,
   "id": "e02e797d",
   "metadata": {
    "scrolled": true
   },
   "outputs": [],
   "source": [
    "map_view = visualisasi_pergerakan_animated_with_lines('2021-12-01', filtered_df, 'd60a2068-d7ea-48a7-a363-e3e7e0bd02cb','uji coba')"
   ]
  },
  {
   "cell_type": "code",
   "execution_count": null,
   "id": "75ed2ea8",
   "metadata": {},
   "outputs": [],
   "source": [
    "map_view"
   ]
  },
  {
   "cell_type": "code",
   "execution_count": null,
   "id": "353bc2b8",
   "metadata": {},
   "outputs": [],
   "source": []
  }
 ],
 "metadata": {
  "kernelspec": {
   "display_name": "Python 3 (ipykernel)",
   "language": "python",
   "name": "python3"
  },
  "language_info": {
   "codemirror_mode": {
    "name": "ipython",
    "version": 3
   },
   "file_extension": ".py",
   "mimetype": "text/x-python",
   "name": "python",
   "nbconvert_exporter": "python",
   "pygments_lexer": "ipython3",
   "version": "3.10.13"
  }
 },
 "nbformat": 4,
 "nbformat_minor": 5
}
