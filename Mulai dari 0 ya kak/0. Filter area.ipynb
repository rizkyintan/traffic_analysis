{
 "cells": [
  {
   "cell_type": "code",
   "execution_count": 1,
   "id": "9902517c",
   "metadata": {},
   "outputs": [],
   "source": [
    "import pandas as pd\n",
    "import geopandas as gpd\n",
    "from geopandas import GeoDataFrame\n",
    "import skmob"
   ]
  },
  {
   "cell_type": "markdown",
   "id": "63827cf7",
   "metadata": {},
   "source": [
    "## Reading the DataFrame"
   ]
  },
  {
   "cell_type": "markdown",
   "id": "e1c06769",
   "metadata": {},
   "source": [
    "### Data original"
   ]
  },
  {
   "cell_type": "code",
   "execution_count": null,
   "id": "e3ff33e0",
   "metadata": {},
   "outputs": [],
   "source": [
    "path = '../../../DataTelkomsel/2021Desember/Desember2021.csv'\n",
    "df = pd.read_csv(path)\n",
    "df = df.drop({'Unnamed: 0'},axis=1)\n",
    "df.head()"
   ]
  },
  {
   "cell_type": "markdown",
   "id": "76a79ea4",
   "metadata": {},
   "source": [
    "### Data reverse geocoding "
   ]
  },
  {
   "cell_type": "code",
   "execution_count": 5,
   "id": "45f5663c",
   "metadata": {},
   "outputs": [],
   "source": [
    "path2 = '../../../DataTelkomsel/2022Januari/RGjanuari2022.csv'\n",
    "# df2 = pd.read_csv(path2)\n",
    "# df2 = df2.drop({'Unnamed: 0'},axis=1)\n",
    "# df2.head()"
   ]
  },
  {
   "cell_type": "markdown",
   "id": "8bdbe063",
   "metadata": {},
   "source": [
    "## 1. Filter Unnecessary Area\n",
    "Membatasi area data point pada range yg dilakukan analisis"
   ]
  },
  {
   "cell_type": "code",
   "execution_count": 6,
   "id": "8b6e5d3a",
   "metadata": {},
   "outputs": [],
   "source": [
    "def filter_area(gps, road, filename):\n",
    "    road_path = road\n",
    "    \n",
    "    tdf = skmob.TrajDataFrame.from_file(gps)\n",
    "    area_shape = gpd.read_file(road_path)\n",
    "    \n",
    "    gdf_gps = GeoDataFrame(tdf, geometry=gpd.points_from_xy(tdf['longitude'], tdf['latitude']))\n",
    "    filtered_data = gdf_gps[gdf_gps.geometry.within(area_shape.geometry.iloc[0])].copy()\n",
    "    \n",
    "    filtered_data['datetime_wib'] = pd.to_datetime(filtered_data['datetime_wib'])\n",
    "    filtered_data['tanggal'] = filtered_data['datetime_wib'].dt.date\n",
    "    \n",
    "    filtered_data.to_csv(filename, index=False)    \n",
    "\n",
    "    filtered_data.info()\n",
    "\n",
    "    print(\"Filtering area for \", filename, \"succeed\")"
   ]
  },
  {
   "cell_type": "code",
   "execution_count": 7,
   "id": "50e2c3cb",
   "metadata": {},
   "outputs": [
    {
     "name": "stdout",
     "output_type": "stream",
     "text": [
      "<class 'geopandas.geodataframe.GeoDataFrame'>\n",
      "Index: 2398967 entries, 1112335 to 21676305\n",
      "Data columns (total 10 columns):\n",
      " #   Column          Dtype         \n",
      "---  ------          -----         \n",
      " 0   Unnamed: 0      int64         \n",
      " 1   maid            object        \n",
      " 2   latitude        float64       \n",
      " 3   longitude       float64       \n",
      " 4   datetime_wib    datetime64[ns]\n",
      " 5   geometry        geometry      \n",
      " 6   Kelurahan/Desa  object        \n",
      " 7   Kecamatan       object        \n",
      " 8   Kabupaten       object        \n",
      " 9   tanggal         object        \n",
      "dtypes: datetime64[ns](1), float64(2), geometry(1), int64(1), object(5)\n",
      "memory usage: 201.3+ MB\n",
      "Filtering area for  filter1_malar_jan.csv succeed\n"
     ]
    }
   ],
   "source": [
    "gps = path2\n",
    "road = './Malioboro_around/clipping_boundary.geojson'\n",
    "filename ='filter1_malar_jan.csv'\n",
    "filter_area(gps, road, filename)"
   ]
  },
  {
   "cell_type": "code",
   "execution_count": null,
   "id": "0bd2b197",
   "metadata": {},
   "outputs": [],
   "source": [
    "data = pd.read_csv(f'./{filename}.csv')\n",
    "data.head()"
   ]
  },
  {
   "cell_type": "code",
   "execution_count": null,
   "id": "b1809131",
   "metadata": {
    "scrolled": true
   },
   "outputs": [],
   "source": [
    "data.nunique()"
   ]
  },
  {
   "cell_type": "code",
   "execution_count": null,
   "id": "e8397a0a",
   "metadata": {},
   "outputs": [],
   "source": []
  }
 ],
 "metadata": {
  "kernelspec": {
   "display_name": "Python 3 (ipykernel)",
   "language": "python",
   "name": "python3"
  },
  "language_info": {
   "codemirror_mode": {
    "name": "ipython",
    "version": 3
   },
   "file_extension": ".py",
   "mimetype": "text/x-python",
   "name": "python",
   "nbconvert_exporter": "python",
   "pygments_lexer": "ipython3",
   "version": "3.9.2"
  }
 },
 "nbformat": 4,
 "nbformat_minor": 5
}
