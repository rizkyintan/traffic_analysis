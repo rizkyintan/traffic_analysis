{
 "cells": [
  {
   "cell_type": "code",
   "execution_count": null,
   "metadata": {},
   "outputs": [],
   "source": [
    "import pandas as pd\n",
    "import matplotlib.pyplot as plt\n",
    "import numpy as np\n",
    "import geopandas as gpd\n",
    "from geopandas import GeoDataFrame\n",
    "from shapely.geometry import Point\n",
    "import skmob\n",
    "from skmob import preprocessing\n",
    "from shapely.geometry import LineString\n",
    "import folium"
   ]
  },
  {
   "cell_type": "code",
   "execution_count": null,
   "metadata": {},
   "outputs": [],
   "source": [
    "def create_plot(data):\n",
    "    # Ambil baris pertama dari DataFrame\n",
    "    first_row = data.iloc[0]\n",
    "\n",
    "    # Ambil nilai latitude dan longitude dari baris pertama\n",
    "    latitude = first_row['latitude']\n",
    "    longitude = first_row['longitude']\n",
    "    \n",
    "    m = folium.Map(location=[latitude, longitude], zoom_start=25)\n",
    "\n",
    "    # Add CircleMarkers for each point\n",
    "    for index, row in data.iterrows():\n",
    "        folium.CircleMarker(\n",
    "            location=[row[\"latitude\"], row[\"longitude\"]],\n",
    "            radius=5,  # Marker size\n",
    "            color=\"blue\",  # Marker color\n",
    "            fill=True,\n",
    "            fill_color=\"blue\",  # Fill color of the marker\n",
    "            fill_opacity=0.7,  # Opacity of the marker fill\n",
    "            popup=f\"User ID: {row['maid']}<br>Latitude: {row['latitude']}<br>Longitude: {row['longitude']}\",\n",
    "        ).add_to(m)\n",
    "    \n",
    "    return m"
   ]
  },
  {
   "cell_type": "code",
   "execution_count": null,
   "metadata": {},
   "outputs": [],
   "source": [
    "def create_pivot(df):\n",
    "    df['timestamp'] = pd.to_datetime(df['timestamp'])\n",
    "    df_pivot = df['maid'].groupby(df['timestamp'].dt.date).value_counts()\n",
    "    pivot = df_pivot.unstack().fillna(0).astype(int)\n",
    "\n",
    "    total_counts = pivot.sum(axis=0)\n",
    "    sorted_columns = total_counts.sort_values(ascending=False).index\n",
    "    pivot_sorted = pivot[sorted_columns]\n",
    "    return pivot_sorted"
   ]
  },
  {
   "cell_type": "code",
   "execution_count": null,
   "metadata": {},
   "outputs": [],
   "source": [
    "def create_line(data):\n",
    "    data = data.to_crs('EPSG:4326')\n",
    "    data = data['geometry']\n",
    "    # Buat peta dengan lokasi awal berdasarkan rata-rata koordinat dari data linestring\n",
    "    avg_lat = data.apply(lambda x: x.centroid.y).mean()\n",
    "    avg_lon = data.apply(lambda x: x.centroid.x).mean()\n",
    "    m = folium.Map(location=[avg_lat, avg_lon], zoom_start=15)\n",
    "\n",
    "    # Tambahkan polyline untuk setiap linestring\n",
    "    for linestring in data:\n",
    "        coordinates = [(lat, lon) for lon, lat in linestring.coords]\n",
    "        folium.PolyLine(locations=coordinates, color='purple', weight=8, opacity=0.7).add_to(m)\n",
    "\n",
    "    # Tambahkan GeoJson dari data GeoPandas\n",
    "    folium.GeoJson(data.to_json(), name='Garis Jalan').add_to(m)\n",
    "\n",
    "    return m"
   ]
  },
  {
   "cell_type": "markdown",
   "metadata": {},
   "source": [
    "## Import data"
   ]
  },
  {
   "cell_type": "code",
   "execution_count": null,
   "metadata": {},
   "outputs": [],
   "source": [
    "path = '../../filter2_malar_des.csv'\n",
    "gps = pd.read_csv(path)"
   ]
  },
  {
   "cell_type": "code",
   "execution_count": null,
   "metadata": {},
   "outputs": [],
   "source": [
    "road = './Malioboro_around/Around_Malioboro_line.shp'\n",
    "area_shape = gpd.read_file(road)"
   ]
  },
  {
   "cell_type": "code",
   "execution_count": null,
   "metadata": {},
   "outputs": [],
   "source": [
    "area_shape['highway'].unique()"
   ]
  },
  {
   "cell_type": "markdown",
   "metadata": {},
   "source": [
    "- living_street: Jalan yang didesain untuk mengutamakan pejalan kaki dan mengurangi kecepatan kendaraan.\n",
    "- footway: Jalan khusus untuk pejalan kaki, biasanya terletak di kawasan pejalan kaki atau area non-kendaraan.\n",
    "- residential: Jalan yang terletak di area perumahan atau pemukiman.\n",
    "- service: Jalan yang digunakan untuk akses ke properti, seperti akses ke parkir atau bangunan bisnis.\n",
    "- primary: Jalan utama dalam jaringan jalan yang memiliki volume lalu lintas tinggi.\n",
    "- primary_link: Bagian pendukung dari jalan primer yang menyediakan akses ke atau dari jalan primer.\n",
    "- steps: Tangga untuk akses pejalan kaki yang terdiri dari serangkaian langkah.\n",
    "- tertiary: Jalan yang memiliki volume lalu lintas lebih rendah dari jalan primer dan sekunder.\n",
    "- path: Jalan yang dirancang untuk pejalan kaki, sepeda, atau kendaraan non-motor.\n",
    "- secondary: Jalan yang memiliki volume lalu lintas di atas jalan tertier, tetapi di bawah jalan primer.\n",
    "- pedestrian: Area yang ditujukan khusus untuk pejalan kaki, biasanya tanpa kendaraan bermotor.\n",
    "- unclassified: Jalan yang tidak memiliki klasifikasi resmi, sering kali digunakan di kawasan perkotaan kecil.\n",
    "- secondary_link: Bagian pendukung dari jalan sekunder yang menyediakan akses ke atau dari jalan sekunder.\n",
    "- tertiary_link: Bagian pendukung dari jalan tertier yang menyediakan akses ke atau dari jalan tertier.\n",
    "- cycleway: Jalan yang dirancang khusus untuk pengguna sepeda.\n",
    "- track: Jalan yang digunakan oleh kendaraan, biasanya di luar jalan aspal, seperti jalan tanah atau jalan setapak."
   ]
  },
  {
   "cell_type": "code",
   "execution_count": null,
   "metadata": {},
   "outputs": [],
   "source": [
    "highway = ['living_street','residential','primary','primary_link','tertiary', 'secondary', 'unclassified', 'secondary_link', 'tertiary_link','track']\n",
    "area_vehicle = area_shape[area_shape['highway'].isin(highway)]\n",
    "area_vehicle = area_vehicle[['osm_id','oneway','name', 'highway', 'geometry']]\n",
    "area_vehicle.reset_index(inplace=True, drop=True)"
   ]
  },
  {
   "cell_type": "code",
   "execution_count": null,
   "metadata": {},
   "outputs": [],
   "source": [
    "create_line(area_vehicle)"
   ]
  },
  {
   "cell_type": "code",
   "execution_count": null,
   "metadata": {
    "scrolled": true
   },
   "outputs": [],
   "source": [
    "# create_line(area_shape)"
   ]
  },
  {
   "cell_type": "markdown",
   "metadata": {},
   "source": [
    "## Try to filtering"
   ]
  },
  {
   "cell_type": "code",
   "execution_count": null,
   "metadata": {},
   "outputs": [],
   "source": [
    "gps.head()"
   ]
  },
  {
   "cell_type": "code",
   "execution_count": null,
   "metadata": {},
   "outputs": [],
   "source": [
    "area_vehicle.head()"
   ]
  },
  {
   "cell_type": "code",
   "execution_count": null,
   "metadata": {},
   "outputs": [],
   "source": [
    "# create_pivot(gps)"
   ]
  },
  {
   "cell_type": "code",
   "execution_count": null,
   "metadata": {},
   "outputs": [],
   "source": [
    "# orang = gps[(gps['maid'] == '9a63fd0e-d363-478a-8136-99b1eb82693f') & (gps['timestamp'] > '2021-12-25')]\n",
    "# len(orang)"
   ]
  },
  {
   "cell_type": "code",
   "execution_count": null,
   "metadata": {},
   "outputs": [],
   "source": [
    "def filter_area_around_road(gps_data, road_data, distance):\n",
    "    # Membuat GeoDataFrame dari data GPS\n",
    "    gdf_gps = gpd.GeoDataFrame(\n",
    "        gps_data,\n",
    "        geometry=gpd.points_from_xy(gps_data.longitude, gps_data.latitude),\n",
    "        crs=\"EPSG:4326\"  # WGS84 coordinate reference system\n",
    "    )\n",
    "\n",
    "    # Membuat GeoDataFrame dari data jaringan jalan\n",
    "    gdf_jalan = gpd.GeoDataFrame(\n",
    "        road_data,\n",
    "        geometry=road_data.geometry,\n",
    "        crs=\"EPSG:4326\"  # WGS84 coordinate reference system\n",
    "    )\n",
    "\n",
    "    # Mengubah sistem referensi koordinat jaringan jalan ke UTM (misalnya UTM zone 48S untuk Yogyakarta)\n",
    "    gdf_jalan = gdf_jalan.to_crs(\"EPSG:32748\")  # UTM zone 48S\n",
    "\n",
    "    # Buffer jaringan jalan sebesar 20 meter\n",
    "    buffered_jalan = gdf_jalan.buffer(distance)\n",
    "\n",
    "    # Gabungkan semua buffered jalan menjadi satu geometri\n",
    "    merged_buffer = buffered_jalan.unary_union\n",
    "\n",
    "    # Mengubah sistem referensi koordinat data GPS ke UTM\n",
    "    gdf_gps = gdf_gps.to_crs(\"EPSG:32748\")  # UTM zone 48S\n",
    "\n",
    "    # Membuat kolom baru untuk menyimpan jarak terdekat ke jalan\n",
    "    gdf_gps['closest_distance_to_road'] = gdf_gps.geometry.apply(lambda x: x.distance(merged_buffer))\n",
    "\n",
    "    # Mengambil data point yang jaraknya maksimal 20 meter dari jaringan jalan\n",
    "    data_point_terdekat = gdf_gps[gdf_gps['closest_distance_to_road'] <= distance]\n",
    "\n",
    "    return data_point_terdekat"
   ]
  },
  {
   "cell_type": "code",
   "execution_count": null,
   "metadata": {},
   "outputs": [],
   "source": [
    "df_filtered_5m = filter_area_around_road(gps, area_vehicle, 5)"
   ]
  },
  {
   "cell_type": "code",
   "execution_count": null,
   "metadata": {},
   "outputs": [],
   "source": [
    "len(gps) - len(df_filtered_5m)"
   ]
  },
  {
   "cell_type": "markdown",
   "metadata": {},
   "source": [
    "### Hapus data yg memiliki jarak 1 jam dari record sebelumnya dan record setelahnya"
   ]
  },
  {
   "cell_type": "code",
   "execution_count": null,
   "metadata": {},
   "outputs": [],
   "source": [
    "def remove_records_minutes(gps, timedelta):\n",
    "    gps['timestamp'] = pd.to_datetime(gps['timestamp'])\n",
    "\n",
    "    # Membuat dataframe sementara untuk menampung records yg memenuhi syarat\n",
    "    df_filtered = pd.DataFrame()\n",
    "    \n",
    "    # Iterasi melalui setiap kelompok 'maid'\n",
    "    for maid, group in gps.groupby('maid'):\n",
    "        # Hitung perbedaan waktu antara setiap baris dengan baris sebelumnya dan baris setelahnya\n",
    "        diff_prev = group['timestamp'] - group['timestamp'].shift(1)\n",
    "        diff_next = group['timestamp'].shift(-1) - group['timestamp']\n",
    "        \n",
    "        # Aturan untuk hanya mengambil yg memenuhi syarat -> jarak kedepan/kebelakang < 60 menit\n",
    "        to_keep = ((diff_prev <= pd.Timedelta(minutes=timedelta)) | (diff_next <= pd.Timedelta(minutes=timedelta)))\n",
    "\n",
    "        # Ambil baris-baris yang ditandai untuk dipertahankan\n",
    "        group_filtered = group[to_keep]\n",
    "\n",
    "        # Tambahkan hasil filter untuk kelompok ini ke DataFrame akhir\n",
    "        df_filtered = pd.concat([df_filtered, group_filtered]) \n",
    "        \n",
    "    df_filtered.reset_index(inplace=True, drop=True)\n",
    "    \n",
    "    return df_filtered"
   ]
  },
  {
   "cell_type": "code",
   "execution_count": null,
   "metadata": {},
   "outputs": [],
   "source": [
    "df_filtered_5m_30min = remove_records_minutes(df_filtered_5m, 30)"
   ]
  },
  {
   "cell_type": "code",
   "execution_count": null,
   "metadata": {},
   "outputs": [],
   "source": [
    "len(df_filtered_5m) - len(df_filtered_5m_30min)"
   ]
  },
  {
   "cell_type": "code",
   "execution_count": null,
   "metadata": {},
   "outputs": [],
   "source": [
    "df_filtered_20m_60min = df_filtered_20m_60min[['maid','latitude','longitude','timestamp']]\n",
    "df_filtered_20m_60min.to_csv('filter3_20m_60min_malar_des.csv', index=False)"
   ]
  },
  {
   "cell_type": "code",
   "execution_count": null,
   "metadata": {},
   "outputs": [],
   "source": []
  }
 ],
 "metadata": {
  "kernelspec": {
   "display_name": "Python 3 (ipykernel)",
   "language": "python",
   "name": "python3"
  },
  "language_info": {
   "codemirror_mode": {
    "name": "ipython",
    "version": 3
   },
   "file_extension": ".py",
   "mimetype": "text/x-python",
   "name": "python",
   "nbconvert_exporter": "python",
   "pygments_lexer": "ipython3",
   "version": "3.9.2"
  }
 },
 "nbformat": 4,
 "nbformat_minor": 2
}
