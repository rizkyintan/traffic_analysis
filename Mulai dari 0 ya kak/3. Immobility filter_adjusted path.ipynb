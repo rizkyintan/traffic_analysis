{
 "cells": [
  {
   "cell_type": "code",
   "execution_count": 1,
   "id": "240d63aa",
   "metadata": {},
   "outputs": [],
   "source": [
    "import pandas as pd\n",
    "import networkx as nx\n",
    "from scipy.spatial import KDTree\n",
    "import matplotlib.pyplot as plt\n",
    "from tqdm import tqdm\n",
    "from joblib import Parallel, delayed\n",
    "from folium.plugins import TimestampedGeoJson\n",
    "from geopy.distance import geodesic\n",
    "from sklearn.cluster import DBSCAN\n",
    "from sklearn.preprocessing import StandardScaler\n",
    "from pandas import DataFrame\n",
    "import time\n",
    "import numpy as np\n",
    "import folium"
   ]
  },
  {
   "cell_type": "markdown",
   "id": "971acbf5",
   "metadata": {},
   "source": [
    "## Useful support function"
   ]
  },
  {
   "cell_type": "code",
   "execution_count": 2,
   "id": "71b32fbc",
   "metadata": {},
   "outputs": [],
   "source": [
    "def create_plot(data):\n",
    "    # Ambil baris pertama dari DataFrame\n",
    "    first_row = data.iloc[0]\n",
    "\n",
    "    # Ambil nilai latitude dan longitude dari baris pertama\n",
    "    latitude = first_row['latitude']\n",
    "    longitude = first_row['longitude']\n",
    "    \n",
    "    m = folium.Map(location=[latitude, longitude], zoom_start=25)\n",
    "\n",
    "    # Add CircleMarkers for each point\n",
    "    for index, row in data.iterrows():\n",
    "        folium.CircleMarker(\n",
    "            location=[row[\"latitude\"], row[\"longitude\"]],\n",
    "            radius=5,  # Marker size\n",
    "            color=\"blue\",  # Marker color\n",
    "            fill=True,\n",
    "            fill_color=\"blue\",  # Fill color of the marker\n",
    "            fill_opacity=0.7,  # Opacity of the marker fill\n",
    "            popup=f\"User ID: {row['maid']}<br>Latitude: {row['latitude']}<br>Longitude: {row['longitude']}\",\n",
    "        ).add_to(m)\n",
    "    \n",
    "    return m"
   ]
  },
  {
   "cell_type": "code",
   "execution_count": 3,
   "id": "49867ab9",
   "metadata": {},
   "outputs": [],
   "source": [
    "def create_pivot(df):\n",
    "    df['timestamp'] = pd.to_datetime(df['timestamp'])\n",
    "    df_pivot = df['maid'].groupby(df['timestamp'].dt.date).value_counts()\n",
    "    pivot = df_pivot.unstack().fillna(0).astype(int)\n",
    "\n",
    "    total_counts = pivot.sum(axis=0)\n",
    "    sorted_columns = total_counts.sort_values(ascending=False).index\n",
    "    pivot_sorted = pivot[sorted_columns]\n",
    "    return pivot_sorted"
   ]
  },
  {
   "cell_type": "code",
   "execution_count": 4,
   "id": "017e8a4b",
   "metadata": {},
   "outputs": [],
   "source": [
    "def create_line(data):\n",
    "    data = data.to_crs('EPSG:4326')\n",
    "    data = data['geometry']\n",
    "    # Buat peta dengan lokasi awal berdasarkan rata-rata koordinat dari data linestring\n",
    "    avg_lat = data.apply(lambda x: x.centroid.y).mean()\n",
    "    avg_lon = data.apply(lambda x: x.centroid.x).mean()\n",
    "    m = folium.Map(location=[avg_lat, avg_lon], zoom_start=15)\n",
    "\n",
    "    # Tambahkan polyline untuk setiap linestring\n",
    "    for linestring in data:\n",
    "        coordinates = [(lat, lon) for lon, lat in linestring.coords]\n",
    "        folium.PolyLine(locations=coordinates, color='purple', weight=8, opacity=0.7).add_to(m)\n",
    "\n",
    "    # Tambahkan GeoJson dari data GeoPandas\n",
    "    folium.GeoJson(data.to_json(), name='Garis Jalan').add_to(m)\n",
    "\n",
    "    return m"
   ]
  },
  {
   "cell_type": "markdown",
   "id": "e2708342",
   "metadata": {},
   "source": [
    "## Map matching with KDTree to mapping all gps points to the road"
   ]
  },
  {
   "cell_type": "code",
   "execution_count": null,
   "id": "14c95f94",
   "metadata": {
    "scrolled": true
   },
   "outputs": [],
   "source": [
    "# Reading the gps CSV file into a DataFrame\n",
    "gps = pd.read_csv('./filter3_20m_60min_malar_des.csv')\n",
    "gps.head()"
   ]
  },
  {
   "cell_type": "code",
   "execution_count": 5,
   "id": "ea78d195",
   "metadata": {},
   "outputs": [
    {
     "data": {
      "text/html": [
       "<div>\n",
       "<style scoped>\n",
       "    .dataframe tbody tr th:only-of-type {\n",
       "        vertical-align: middle;\n",
       "    }\n",
       "\n",
       "    .dataframe tbody tr th {\n",
       "        vertical-align: top;\n",
       "    }\n",
       "\n",
       "    .dataframe thead th {\n",
       "        text-align: right;\n",
       "    }\n",
       "</style>\n",
       "<table border=\"1\" class=\"dataframe\">\n",
       "  <thead>\n",
       "    <tr style=\"text-align: right;\">\n",
       "      <th></th>\n",
       "      <th>Unnamed: 0</th>\n",
       "      <th>name</th>\n",
       "      <th>start_x</th>\n",
       "      <th>start_y</th>\n",
       "      <th>end_x</th>\n",
       "      <th>end_y</th>\n",
       "    </tr>\n",
       "  </thead>\n",
       "  <tbody>\n",
       "    <tr>\n",
       "      <th>0</th>\n",
       "      <td>0</td>\n",
       "      <td>NaN</td>\n",
       "      <td>110.145676</td>\n",
       "      <td>-7.652724</td>\n",
       "      <td>110.145675</td>\n",
       "      <td>-7.652734</td>\n",
       "    </tr>\n",
       "    <tr>\n",
       "      <th>1</th>\n",
       "      <td>1</td>\n",
       "      <td>NaN</td>\n",
       "      <td>110.145676</td>\n",
       "      <td>-7.652724</td>\n",
       "      <td>110.145679</td>\n",
       "      <td>-7.652716</td>\n",
       "    </tr>\n",
       "    <tr>\n",
       "      <th>2</th>\n",
       "      <td>2</td>\n",
       "      <td>NaN</td>\n",
       "      <td>110.398799</td>\n",
       "      <td>-7.861408</td>\n",
       "      <td>110.398598</td>\n",
       "      <td>-7.861393</td>\n",
       "    </tr>\n",
       "    <tr>\n",
       "      <th>3</th>\n",
       "      <td>3</td>\n",
       "      <td>NaN</td>\n",
       "      <td>110.398799</td>\n",
       "      <td>-7.861408</td>\n",
       "      <td>110.398927</td>\n",
       "      <td>-7.861439</td>\n",
       "    </tr>\n",
       "    <tr>\n",
       "      <th>4</th>\n",
       "      <td>4</td>\n",
       "      <td>NaN</td>\n",
       "      <td>110.581033</td>\n",
       "      <td>-7.788455</td>\n",
       "      <td>110.580238</td>\n",
       "      <td>-7.788295</td>\n",
       "    </tr>\n",
       "  </tbody>\n",
       "</table>\n",
       "</div>"
      ],
      "text/plain": [
       "   Unnamed: 0 name     start_x   start_y       end_x     end_y\n",
       "0           0  NaN  110.145676 -7.652724  110.145675 -7.652734\n",
       "1           1  NaN  110.145676 -7.652724  110.145679 -7.652716\n",
       "2           2  NaN  110.398799 -7.861408  110.398598 -7.861393\n",
       "3           3  NaN  110.398799 -7.861408  110.398927 -7.861439\n",
       "4           4  NaN  110.581033 -7.788455  110.580238 -7.788295"
      ]
     },
     "execution_count": 5,
     "metadata": {},
     "output_type": "execute_result"
    }
   ],
   "source": [
    "# Reading the road CSV file into a DataFrame\n",
    "road = pd.read_csv('./expanded_road_df_DIY.csv')\n",
    "road.head()"
   ]
  },
  {
   "cell_type": "code",
   "execution_count": 6,
   "id": "eaeca8c3",
   "metadata": {},
   "outputs": [],
   "source": [
    "# Create Graph from Road Network Data\n",
    "G = nx.Graph()\n",
    "for index, row in road.iterrows():\n",
    "    G.add_edge((row['start_x'], row['start_y']), (row['end_x'], row['end_y']), weight=1, name=row['name'])"
   ]
  },
  {
   "cell_type": "code",
   "execution_count": null,
   "id": "9eca14b7",
   "metadata": {},
   "outputs": [],
   "source": [
    "# Map Matching untuk menarik data yg tidak di jalan menjadi berada di jalan\n",
    "\n",
    "sorted_gps = gps.sort_values(by=['maid', 'timestamp'])\n",
    "node_list = list(G.nodes())\n",
    "\n",
    "tree = KDTree(node_list)\n",
    "distances, indices = tree.query(sorted_gps[['longitude', 'latitude']].values)\n",
    "all_mapped_points_kdtree = [node_list[index] for index in indices]\n",
    "\n",
    "sorted_gps['adjusted_longitude'] = [point[0] for point in all_mapped_points_kdtree]\n",
    "sorted_gps['adjusted_latitude'] = [point[1] for point in all_mapped_points_kdtree]\n",
    "sorted_gps['timestamp'] = pd.to_datetime(sorted_gps['timestamp'])"
   ]
  },
  {
   "cell_type": "markdown",
   "id": "8c4255bc",
   "metadata": {},
   "source": [
    "## Filter immobility data with mas Arkham algorithm"
   ]
  },
  {
   "cell_type": "code",
   "execution_count": null,
   "id": "a90c7b4e",
   "metadata": {},
   "outputs": [],
   "source": [
    "def filter_immobility_arkham(name, group):\n",
    "    filtered_data = []\n",
    "    group = group.sort_values('timestamp')\n",
    "    prev_row = None\n",
    "    immobile_start_row = None\n",
    "\n",
    "    for i, row in group.iterrows():\n",
    "        if prev_row is not None:\n",
    "            if row['latitude'] == prev_row['latitude'] and row['longitude'] == prev_row['longitude']:\n",
    "                if immobile_start_row is None:\n",
    "                    immobile_start_row = prev_row\n",
    "            else:\n",
    "                if immobile_start_row is not None:\n",
    "                    filtered_data.append(immobile_start_row)\n",
    "                    immobile_start_row = None\n",
    "                filtered_data.append(row)\n",
    "\n",
    "        prev_row = row\n",
    "\n",
    "    if immobile_start_row is not None:\n",
    "        filtered_data.append(immobile_start_row)\n",
    "    else:\n",
    "        if prev_row is not None:\n",
    "            filtered_data.append(prev_row)\n",
    "\n",
    "    return pd.DataFrame(filtered_data)"
   ]
  },
  {
   "cell_type": "code",
   "execution_count": null,
   "id": "07130165",
   "metadata": {},
   "outputs": [],
   "source": [
    "def filter_immobility_parallel(data):\n",
    "    grouped = data.groupby('maid')\n",
    "    results = Parallel(n_jobs=40)(delayed(filter_immobility_arkham)(name, group) for name, group in tqdm(grouped))\n",
    "    return pd.concat(results, ignore_index=True)"
   ]
  },
  {
   "cell_type": "code",
   "execution_count": null,
   "id": "a624bb09",
   "metadata": {
    "scrolled": false
   },
   "outputs": [],
   "source": [
    "start = time.time()\n",
    "\n",
    "compressed_data = filter_immobility_parallel(sorted_gps)\n",
    "\n",
    "end = time.time()"
   ]
  },
  {
   "cell_type": "code",
   "execution_count": null,
   "id": "87e83333",
   "metadata": {
    "scrolled": true
   },
   "outputs": [],
   "source": [
    "len(gps) - len(compressed_data)"
   ]
  },
  {
   "cell_type": "code",
   "execution_count": null,
   "id": "b262c7e1",
   "metadata": {},
   "outputs": [],
   "source": [
    "compressed_data.head()"
   ]
  },
  {
   "cell_type": "code",
   "execution_count": null,
   "id": "9f9554da",
   "metadata": {},
   "outputs": [],
   "source": [
    "create_pivot(compressed_data)"
   ]
  },
  {
   "cell_type": "code",
   "execution_count": null,
   "id": "3e199d1b",
   "metadata": {},
   "outputs": [],
   "source": [
    "# Write DataFrame to CSV file\n",
    "# compressed_data.to_csv(\"filter4_20m_60min_immobility_malar_nov.csv\", index=False)"
   ]
  },
  {
   "cell_type": "markdown",
   "id": "eaa39128",
   "metadata": {},
   "source": [
    "## Adjusted path also based on mas Arkham algorithm"
   ]
  },
  {
   "cell_type": "code",
   "execution_count": 7,
   "id": "4a4cff89",
   "metadata": {},
   "outputs": [
    {
     "data": {
      "text/html": [
       "<div>\n",
       "<style scoped>\n",
       "    .dataframe tbody tr th:only-of-type {\n",
       "        vertical-align: middle;\n",
       "    }\n",
       "\n",
       "    .dataframe tbody tr th {\n",
       "        vertical-align: top;\n",
       "    }\n",
       "\n",
       "    .dataframe thead th {\n",
       "        text-align: right;\n",
       "    }\n",
       "</style>\n",
       "<table border=\"1\" class=\"dataframe\">\n",
       "  <thead>\n",
       "    <tr style=\"text-align: right;\">\n",
       "      <th></th>\n",
       "      <th>maid</th>\n",
       "      <th>latitude</th>\n",
       "      <th>longitude</th>\n",
       "      <th>timestamp</th>\n",
       "      <th>adjusted_longitude</th>\n",
       "      <th>adjusted_latitude</th>\n",
       "    </tr>\n",
       "  </thead>\n",
       "  <tbody>\n",
       "    <tr>\n",
       "      <th>0</th>\n",
       "      <td>00012afc-6daf-461f-96a8-181e5af69db9</td>\n",
       "      <td>-7.800291</td>\n",
       "      <td>110.364998</td>\n",
       "      <td>2021-12-01 17:54:11</td>\n",
       "      <td>110.364996</td>\n",
       "      <td>-7.800210</td>\n",
       "    </tr>\n",
       "    <tr>\n",
       "      <th>1</th>\n",
       "      <td>00012afc-6daf-461f-96a8-181e5af69db9</td>\n",
       "      <td>-7.800300</td>\n",
       "      <td>110.364998</td>\n",
       "      <td>2021-12-01 17:54:22</td>\n",
       "      <td>110.364996</td>\n",
       "      <td>-7.800210</td>\n",
       "    </tr>\n",
       "    <tr>\n",
       "      <th>2</th>\n",
       "      <td>00012afc-6daf-461f-96a8-181e5af69db9</td>\n",
       "      <td>-7.800300</td>\n",
       "      <td>110.364998</td>\n",
       "      <td>2021-12-01 17:54:22</td>\n",
       "      <td>110.364996</td>\n",
       "      <td>-7.800210</td>\n",
       "    </tr>\n",
       "    <tr>\n",
       "      <th>3</th>\n",
       "      <td>000136a6-c76e-4f76-841d-1329727ad906</td>\n",
       "      <td>-7.785730</td>\n",
       "      <td>110.366640</td>\n",
       "      <td>2021-12-06 18:38:17</td>\n",
       "      <td>110.366636</td>\n",
       "      <td>-7.785796</td>\n",
       "    </tr>\n",
       "    <tr>\n",
       "      <th>4</th>\n",
       "      <td>000136a6-c76e-4f76-841d-1329727ad906</td>\n",
       "      <td>-7.785730</td>\n",
       "      <td>110.366638</td>\n",
       "      <td>2021-12-08 12:08:42</td>\n",
       "      <td>110.366636</td>\n",
       "      <td>-7.785796</td>\n",
       "    </tr>\n",
       "  </tbody>\n",
       "</table>\n",
       "</div>"
      ],
      "text/plain": [
       "                                   maid  latitude   longitude  \\\n",
       "0  00012afc-6daf-461f-96a8-181e5af69db9 -7.800291  110.364998   \n",
       "1  00012afc-6daf-461f-96a8-181e5af69db9 -7.800300  110.364998   \n",
       "2  00012afc-6daf-461f-96a8-181e5af69db9 -7.800300  110.364998   \n",
       "3  000136a6-c76e-4f76-841d-1329727ad906 -7.785730  110.366640   \n",
       "4  000136a6-c76e-4f76-841d-1329727ad906 -7.785730  110.366638   \n",
       "\n",
       "             timestamp  adjusted_longitude  adjusted_latitude  \n",
       "0  2021-12-01 17:54:11          110.364996          -7.800210  \n",
       "1  2021-12-01 17:54:22          110.364996          -7.800210  \n",
       "2  2021-12-01 17:54:22          110.364996          -7.800210  \n",
       "3  2021-12-06 18:38:17          110.366636          -7.785796  \n",
       "4  2021-12-08 12:08:42          110.366636          -7.785796  "
      ]
     },
     "execution_count": 7,
     "metadata": {},
     "output_type": "execute_result"
    }
   ],
   "source": [
    "# Reading the gps CSV file into a DataFrame\n",
    "gps = pd.read_csv('./filter4_20m_60min_immobility_malar_des.csv')\n",
    "gps.head()"
   ]
  },
  {
   "cell_type": "code",
   "execution_count": 8,
   "id": "c4363950",
   "metadata": {},
   "outputs": [],
   "source": [
    "def find_path_on_graph(graph, start, end):\n",
    "    \"\"\"Find the shortest path on the graph between two nodes using the A* algorithm.\"\"\"\n",
    "    try:\n",
    "        # Custom heuristic function considering traffic_density on nodes\n",
    "        def heuristic(u, v):\n",
    "            node_u_density = graph.nodes[u].get('traffic_density', 0)\n",
    "            node_v_density = graph.nodes[v].get('traffic_density', 0)\n",
    "            average_density = (node_u_density + node_v_density) / 2\n",
    "            return 0.1 * average_density  # Adjust the heuristic as needed\n",
    "        \n",
    "        path = nx.astar_path(graph, start, end, heuristic=heuristic, weight='weight')\n",
    "        return path\n",
    "    except nx.NetworkXNoPath:\n",
    "        return []"
   ]
  },
  {
   "cell_type": "code",
   "execution_count": 9,
   "id": "9a5687c9",
   "metadata": {},
   "outputs": [],
   "source": [
    "# Modified process_group function to ensure each GPS data addition follows the node sequence of the road network graph\n",
    "def process_group(group, graph):\n",
    "    # Map Matching (Assumed to be Accurate)\n",
    "    mapped_points_group = group[['adjusted_longitude', 'adjusted_latitude']].values\n",
    "    \n",
    "    # Initialize the resulting path and timestamps\n",
    "    resulting_path_group = [tuple(mapped_points_group[0])]\n",
    "    new_timestamps = [group['timestamp'].values[0]]\n",
    "    \n",
    "    prev_node = tuple(mapped_points_group[0])\n",
    "    \n",
    "    for i in range(1, len(mapped_points_group)):\n",
    "        current_node = tuple(mapped_points_group[i])\n",
    "        \n",
    "        # Use Shortest Path on Road Graph to get the sequence of nodes from prev_node to current_node\n",
    "        path = find_path_on_graph(graph, prev_node, current_node)\n",
    "        \n",
    "        # Extend the resulting path with nodes from the graph (no points outside the graph)\n",
    "        # This also ensures that the added GPS data follows the node sequence of the road network graph\n",
    "        resulting_path_group.extend(path[1:])\n",
    "        \n",
    "        # Time Interpolation (Assuming the path only contains points from the graph)\n",
    "        if len(path) > 2:\n",
    "            time_start = group['timestamp'].values[i-1]\n",
    "            time_end = group['timestamp'].values[i]\n",
    "            time_duration = (time_end - time_start) // np.timedelta64(1, 's')\n",
    "            \n",
    "            num_new_points = len(path) - 2\n",
    "            time_interval = time_duration // num_new_points if num_new_points > 0 else 0\n",
    "            \n",
    "            # Adding validation for interpolated timestamps\n",
    "            if time_interval < 0:\n",
    "                print(\"Negative time interval found, skipping this part.\")\n",
    "                continue\n",
    "            \n",
    "            interpolated_timestamps = [time_start + np.timedelta64(int(time_interval * j), 's') for j in range(1, num_new_points + 1)]\n",
    "            new_timestamps.extend(interpolated_timestamps)\n",
    "        \n",
    "        # Append the timestamp of the current node\n",
    "        new_timestamps.append(group['timestamp'].values[i])\n",
    "        \n",
    "        # Update prev_node for the next iteration\n",
    "        prev_node = current_node\n",
    "    \n",
    "    # Use the original 'maid' values\n",
    "    maids = list(group['maid'].values) + [group['maid'].values[-1]] * (len(resulting_path_group) - len(group))\n",
    "    \n",
    "    return [(maids[i], point[1], point[0], new_timestamps[i]) for i, point in enumerate(resulting_path_group)]"
   ]
  },
  {
   "cell_type": "code",
   "execution_count": null,
   "id": "3808e118",
   "metadata": {},
   "outputs": [
    {
     "name": "stderr",
     "output_type": "stream",
     "text": [
      "  0%|                                    | 120/72781 [01:59<28:43:22,  1.42s/it]"
     ]
    }
   ],
   "source": [
    "# change format to datetime just to make sure\n",
    "gps['timestamp'] = pd.to_datetime(gps['timestamp'])\n",
    "\n",
    "grouped_data = gps.groupby(['maid', gps['timestamp'].dt.date])\n",
    "\n",
    "start = time.time()\n",
    "processed_results = Parallel(n_jobs=40)(delayed(process_group)(group, G) for _, group in tqdm(grouped_data))\n",
    "end = time.time()\n",
    "\n",
    "flattened_results = [item for sublist in processed_results for item in sublist]\n",
    "resulting_data = pd.DataFrame(flattened_results, columns=['maid', 'latitude', 'longitude', 'timestamp'])"
   ]
  },
  {
   "cell_type": "code",
   "execution_count": null,
   "id": "14087213",
   "metadata": {},
   "outputs": [],
   "source": [
    "print(\"The time of execution of above program is:\", (end - start) / 1000, \"s\")"
   ]
  },
  {
   "cell_type": "code",
   "execution_count": null,
   "id": "fe717bd6",
   "metadata": {},
   "outputs": [],
   "source": [
    "# Write DataFrame to CSV file\n",
    "# resulting_data.to_csv(\"filter5_20m_60min_immobility_adjusted_malar_des.csv\", index=False)"
   ]
  },
  {
   "cell_type": "code",
   "execution_count": null,
   "id": "eea5145e",
   "metadata": {},
   "outputs": [],
   "source": []
  },
  {
   "cell_type": "code",
   "execution_count": null,
   "id": "03a81c0f",
   "metadata": {},
   "outputs": [],
   "source": []
  },
  {
   "cell_type": "markdown",
   "id": "de23a301",
   "metadata": {},
   "source": [
    "## visualization moving point by point "
   ]
  },
  {
   "cell_type": "code",
   "execution_count": null,
   "id": "1e265499",
   "metadata": {},
   "outputs": [],
   "source": [
    "# Modified function for animated visualization based on timestamp with connecting lines\n",
    "def visualisasi_pergerakan_animated_with_lines(selected_date, data, user_id, title):\n",
    "    data['timestamp'] = pd.to_datetime(data['timestamp'])\n",
    "    \n",
    "    if isinstance(selected_date, str):\n",
    "        selected_date = pd.to_datetime(selected_date)\n",
    "\n",
    "    selected_day_data = data[(data['timestamp'].dt.date == selected_date.date()) & (data['maid'] == user_id)]\n",
    "\n",
    "    if selected_day_data.empty:\n",
    "        print(f\"No data available for user_id {user_id} on {selected_date.date()}\")\n",
    "        return\n",
    "\n",
    "    m = folium.Map(location=[selected_day_data.iloc[0]['latitude'], selected_day_data.iloc[0]['longitude']], zoom_start=15)\n",
    "    \n",
    "    # Prepare data for TimestampedGeoJson\n",
    "    features = []\n",
    "    \n",
    "    prev_point = None  # To store the previous point in the loop\n",
    "    for index, row in selected_day_data.iterrows():\n",
    "        point = [row['longitude'], row['latitude']]\n",
    "        feature = {\n",
    "            'type': 'Feature',\n",
    "            'geometry': {\n",
    "                'type': 'Point',\n",
    "                'coordinates': point,\n",
    "            },\n",
    "            'properties': {\n",
    "                'time': row['timestamp'].strftime('%Y-%m-%d %H:%M:%S'),  # Add timestamp information here\n",
    "                'icon': 'circle',\n",
    "                'iconstyle': {\n",
    "                    'fillColor': 'blue',\n",
    "                    'fillOpacity': 0.6,\n",
    "                    'stroke': 'false',\n",
    "                    'radius': 5\n",
    "                },\n",
    "                'popup': row['timestamp'].strftime('%Y-%m-%d %H:%M:%S'),\n",
    "            }\n",
    "        }\n",
    "        features.append(feature)\n",
    "        \n",
    "        # Jika ini bukan titik pertama, gambar garis ke titik sebelumnya\n",
    "        if prev_point:\n",
    "            line_feature = {\n",
    "                'type': 'Feature',\n",
    "                'geometry': {\n",
    "                    'type': 'LineString',\n",
    "                    'coordinates': [prev_point, point]\n",
    "                },\n",
    "                'properties': {\n",
    "                    'times': [row['timestamp'].strftime('%Y-%m-%d %H:%M:%S')] * 2,\n",
    "                    'style': {'color': 'blue', 'weight': 3}\n",
    "                }\n",
    "            }\n",
    "            features.append(line_feature)\n",
    "        \n",
    "        # Update previous point\n",
    "        prev_point = point\n",
    "\n",
    "    timestamped_geojson = TimestampedGeoJson(\n",
    "        {'type': 'FeatureCollection', 'features': features},\n",
    "        period='PT1M',\n",
    "        add_last_point=True,\n",
    "        auto_play=False,\n",
    "        loop=False,\n",
    "        max_speed=1,\n",
    "        loop_button=True,\n",
    "        date_options='YYYY-MM-DD HH:mm:ss',\n",
    "        time_slider_drag_update=True\n",
    "    )\n",
    "\n",
    "    timestamped_geojson.add_to(m)\n",
    "    return m"
   ]
  },
  {
   "cell_type": "code",
   "execution_count": null,
   "id": "e02e797d",
   "metadata": {
    "scrolled": true
   },
   "outputs": [],
   "source": [
    "map_view = visualisasi_pergerakan_animated_with_lines('2021-11-02', compressed_data, '0bfd22ec-9aee-4a38-939e-6ca3022ef392','uji coba')"
   ]
  },
  {
   "cell_type": "code",
   "execution_count": null,
   "id": "2fa7c4cc",
   "metadata": {
    "scrolled": true
   },
   "outputs": [],
   "source": [
    "map_view"
   ]
  },
  {
   "cell_type": "code",
   "execution_count": null,
   "id": "41d817a1",
   "metadata": {},
   "outputs": [],
   "source": []
  }
 ],
 "metadata": {
  "kernelspec": {
   "display_name": "Python 3 (ipykernel)",
   "language": "python",
   "name": "python3"
  },
  "language_info": {
   "codemirror_mode": {
    "name": "ipython",
    "version": 3
   },
   "file_extension": ".py",
   "mimetype": "text/x-python",
   "name": "python",
   "nbconvert_exporter": "python",
   "pygments_lexer": "ipython3",
   "version": "3.10.13"
  }
 },
 "nbformat": 4,
 "nbformat_minor": 5
}
