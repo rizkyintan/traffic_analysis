{
 "cells": [
  {
   "cell_type": "code",
   "execution_count": null,
   "metadata": {},
   "outputs": [],
   "source": [
    "import pandas as pd\n",
    "import networkx as nx\n",
    "from scipy.spatial import KDTree\n",
    "import matplotlib.pyplot as plt\n",
    "from tqdm import tqdm\n",
    "from joblib import Parallel, delayed\n",
    "from folium.plugins import TimestampedGeoJson\n",
    "from geopy.distance import geodesic\n",
    "from sklearn.cluster import DBSCAN\n",
    "from sklearn.preprocessing import StandardScaler\n",
    "from pandas import DataFrame\n",
    "import time\n",
    "import numpy as np\n",
    "import folium"
   ]
  },
  {
   "cell_type": "code",
   "execution_count": null,
   "metadata": {},
   "outputs": [],
   "source": [
    "# Reading the gps CSV file into a DataFrame\n",
    "gps = pd.read_csv('../../filter2_malar_des.csv')\n",
    "gps3 = pd.read_csv('../../filter3_20m_60min_malar_des.csv')\n",
    "gps4 = pd.read_csv('../../filter4_20m_60min_immobility_malar_des.csv')\n",
    "\n",
    "# gps.head()"
   ]
  },
  {
   "cell_type": "code",
   "execution_count": null,
   "metadata": {},
   "outputs": [],
   "source": [
    "def create_plot(data):\n",
    "    # Ambil baris pertama dari DataFrame\n",
    "    first_row = data.iloc[0]\n",
    "\n",
    "    # Ambil nilai latitude dan longitude dari baris pertama\n",
    "    latitude = first_row['latitude']\n",
    "    longitude = first_row['longitude']\n",
    "    \n",
    "    m = folium.Map(location=[latitude, longitude], zoom_start=25)\n",
    "\n",
    "    # Add CircleMarkers for each point\n",
    "    for index, row in data.iterrows():\n",
    "        folium.CircleMarker(\n",
    "            location=[row[\"latitude\"], row[\"longitude\"]],\n",
    "            radius=5,  # Marker size\n",
    "            color=\"blue\",  # Marker color\n",
    "            fill=True,\n",
    "            fill_color=\"blue\",  # Fill color of the marker\n",
    "            fill_opacity=0.7,  # Opacity of the marker fill\n",
    "            popup=f\"User ID: {row['maid']}<br>Latitude: {row['latitude']}<br>Longitude: {row['longitude']}\",\n",
    "        ).add_to(m)\n",
    "    \n",
    "    return m"
   ]
  },
  {
   "cell_type": "code",
   "execution_count": null,
   "metadata": {},
   "outputs": [],
   "source": [
    "def create_pivot(df):\n",
    "    df['timestamp'] = pd.to_datetime(df['timestamp'])\n",
    "    df_pivot = df['maid'].groupby(df['timestamp'].dt.date).value_counts()\n",
    "    pivot = df_pivot.unstack().fillna(0).astype(int)\n",
    "\n",
    "    total_counts = pivot.sum(axis=0)\n",
    "    sorted_columns = total_counts.sort_values(ascending=False).index\n",
    "    pivot_sorted = pivot[sorted_columns]\n",
    "    return pivot_sorted"
   ]
  },
  {
   "cell_type": "code",
   "execution_count": null,
   "metadata": {},
   "outputs": [],
   "source": [
    "def create_line(data):\n",
    "    data = data.to_crs('EPSG:4326')\n",
    "    data = data['geometry']\n",
    "    # Buat peta dengan lokasi awal berdasarkan rata-rata koordinat dari data linestring\n",
    "    avg_lat = data.apply(lambda x: x.centroid.y).mean()\n",
    "    avg_lon = data.apply(lambda x: x.centroid.x).mean()\n",
    "    m = folium.Map(location=[avg_lat, avg_lon], zoom_start=15)\n",
    "\n",
    "    # Tambahkan polyline untuk setiap linestring\n",
    "    for linestring in data:\n",
    "        coordinates = [(lat, lon) for lon, lat in linestring.coords]\n",
    "        folium.PolyLine(locations=coordinates, color='purple', weight=8, opacity=0.7).add_to(m)\n",
    "\n",
    "    # Tambahkan GeoJson dari data GeoPandas\n",
    "    folium.GeoJson(data.to_json(), name='Garis Jalan').add_to(m)\n",
    "\n",
    "    return m"
   ]
  },
  {
   "cell_type": "code",
   "execution_count": null,
   "metadata": {},
   "outputs": [],
   "source": [
    "def create_plot_adjust(data):\n",
    "    m = folium.Map(location=[-7.794847, 110.365608], zoom_start=25)\n",
    "\n",
    "    # Add CircleMarkers for each point\n",
    "    for index, row in data.iterrows():\n",
    "        folium.CircleMarker(\n",
    "            location=[row[\"adjusted_latitude\"], row[\"adjusted_longitude\"]],\n",
    "            radius=5,  # Marker size\n",
    "            color=\"blue\",  # Marker color\n",
    "            fill=True,\n",
    "            fill_color=\"blue\",  # Fill color of the marker\n",
    "            fill_opacity=0.7,  # Opacity of the marker fill\n",
    "            popup=f\"User ID: {row['maid']}<br>Latitude: {row['adjusted_latitude']}<br>Longitude: {row['adjusted_longitude']}\",\n",
    "        ).add_to(m)\n",
    "    \n",
    "    return m"
   ]
  },
  {
   "cell_type": "code",
   "execution_count": null,
   "metadata": {},
   "outputs": [],
   "source": [
    "gps.head()"
   ]
  },
  {
   "cell_type": "code",
   "execution_count": null,
   "metadata": {},
   "outputs": [],
   "source": [
    "create_pivot(gps)"
   ]
  },
  {
   "cell_type": "code",
   "execution_count": null,
   "metadata": {},
   "outputs": [],
   "source": [
    "gps['timestamp'] = pd.to_datetime(gps['timestamp'])\n",
    "gps3['timestamp'] = pd.to_datetime(gps3['timestamp'])\n",
    "gps4['timestamp'] = pd.to_datetime(gps4['timestamp'])\n",
    "\n",
    "orang = gps[(gps['maid'] == '752aa534-b373-4660-9fb2-cc9f72b77be2' ) & (gps['timestamp'].dt.date == pd.to_datetime('2021-12-20').date())]\n",
    "orang3 = gps3[(gps3['maid'] == '752aa534-b373-4660-9fb2-cc9f72b77be2' ) & (gps3['timestamp'].dt.date == pd.to_datetime('2021-12-20').date())]\n",
    "orang4 = gps4[(gps4['maid'] == '752aa534-b373-4660-9fb2-cc9f72b77be2' ) & (gps4['timestamp'].dt.date == pd.to_datetime('2021-12-20').date())]"
   ]
  },
  {
   "cell_type": "code",
   "execution_count": null,
   "metadata": {},
   "outputs": [],
   "source": [
    "orang3"
   ]
  },
  {
   "cell_type": "code",
   "execution_count": null,
   "metadata": {},
   "outputs": [],
   "source": [
    "create_plot(orang)"
   ]
  },
  {
   "cell_type": "code",
   "execution_count": null,
   "metadata": {},
   "outputs": [],
   "source": [
    "create_plot(orang3)"
   ]
  },
  {
   "cell_type": "code",
   "execution_count": null,
   "metadata": {},
   "outputs": [],
   "source": [
    "create_plot(orang4)"
   ]
  },
  {
   "cell_type": "code",
   "execution_count": null,
   "metadata": {},
   "outputs": [],
   "source": []
  }
 ],
 "metadata": {
  "kernelspec": {
   "display_name": "Python 3",
   "language": "python",
   "name": "python3"
  },
  "language_info": {
   "codemirror_mode": {
    "name": "ipython",
    "version": 3
   },
   "file_extension": ".py",
   "mimetype": "text/x-python",
   "name": "python",
   "nbconvert_exporter": "python",
   "pygments_lexer": "ipython3",
   "version": "3.9.2"
  }
 },
 "nbformat": 4,
 "nbformat_minor": 2
}
